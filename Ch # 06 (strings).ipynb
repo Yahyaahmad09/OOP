{
 "cells": [
  {
   "cell_type": "code",
   "execution_count": 1,
   "id": "5175e512",
   "metadata": {},
   "outputs": [
    {
     "name": "stdout",
     "output_type": "stream",
     "text": [
      "HelloWorld\n"
     ]
    }
   ],
   "source": [
    "# How to add strings\n",
    "a='Hello'\n",
    "b='World'\n",
    "c=a+b\n",
    "print(c)"
   ]
  },
  {
   "cell_type": "code",
   "execution_count": 2,
   "id": "e2ff54e4",
   "metadata": {},
   "outputs": [
    {
     "name": "stdout",
     "output_type": "stream",
     "text": [
      "124\n"
     ]
    }
   ],
   "source": [
    "# how convert string into number using int() function\n",
    "a='123'\n",
    "b=int(a)+1\n",
    "print(b)"
   ]
  },
  {
   "cell_type": "code",
   "execution_count": 3,
   "id": "2483510a",
   "metadata": {},
   "outputs": [
    {
     "name": "stdout",
     "output_type": "stream",
     "text": [
      "Enter:90\n",
      "90\n",
      "Enter:100\n",
      "110\n"
     ]
    }
   ],
   "source": [
    "# how to read and convert string\n",
    "name=input('Enter:')\n",
    "print(name)\n",
    "apple=input('Enter:')\n",
    "price=int(apple)+10\n",
    "print(price)"
   ]
  },
  {
   "cell_type": "code",
   "execution_count": 4,
   "id": "eb24e0da",
   "metadata": {},
   "outputs": [
    {
     "name": "stdout",
     "output_type": "stream",
     "text": [
      "a\n",
      "o\n"
     ]
    }
   ],
   "source": [
    "# looking inside string\n",
    "fruit = 'orange'\n",
    "letter = fruit[2]\n",
    "print(letter)\n",
    "x = 1\n",
    "w = fruit[x - 1]\n",
    "print(w)"
   ]
  },
  {
   "cell_type": "code",
   "execution_count": 6,
   "id": "d06e4ffc",
   "metadata": {},
   "outputs": [],
   "source": [
    "# a  character which is too far the you will get python error\n",
    "s = 'Ali' # Ali is (012) if you put 4 you will get error\n",
    "c=s[1]   #IndexError: string index if out of range"
   ]
  },
  {
   "cell_type": "code",
   "execution_count": 7,
   "id": "597fa9bf",
   "metadata": {},
   "outputs": [
    {
     "name": "stdout",
     "output_type": "stream",
     "text": [
      "3\n",
      "5\n",
      "22\n"
     ]
    }
   ],
   "source": [
    "# STRING HAVE LENGHT.\n",
    "# use Build-in function (len) you can find lenght of strings\n",
    "a = 'Ali'\n",
    "print(len(a))\n",
    "b = 'apple'\n",
    "print(len(b))\n",
    "c = 'My name is Yahya Ahmad'\n",
    "print(len(c))"
   ]
  },
  {
   "cell_type": "code",
   "execution_count": 8,
   "id": "6068fc86",
   "metadata": {},
   "outputs": [
    {
     "name": "stdout",
     "output_type": "stream",
     "text": [
      "0 w\n",
      "1 a\n",
      "2 l\n",
      "3 e\n",
      "4 e\n",
      "5 d\n",
      "0 A\n",
      "1 p\n",
      "2 p\n",
      "3 l\n",
      "4 e\n"
     ]
    }
   ],
   "source": [
    "# LOOPING THROUGH SERIES\n",
    "# Using statment (while,iteration variable) and len()function\n",
    "a =  'waleed'\n",
    "index = 0\n",
    "while index < len(a):\n",
    "    letter = a[index]\n",
    "    print(index,letter)\n",
    "    index = index + 1\n",
    "    \n",
    "    \n",
    "a =  'Apple'\n",
    "index = 0\n",
    "while index < len(a):\n",
    "    letter = a[index]\n",
    "    print(index,letter)\n",
    "    index = index + 1\n",
    "    "
   ]
  },
  {
   "cell_type": "code",
   "execution_count": 9,
   "id": "3bb4a21f",
   "metadata": {},
   "outputs": [
    {
     "name": "stdout",
     "output_type": "stream",
     "text": [
      "D\n",
      "o\n",
      "o\n",
      "r\n"
     ]
    }
   ],
   "source": [
    "a = 'Door'   # Using for statment in a definite loop\n",
    "for letter in a:\n",
    "    print(letter)"
   ]
  },
  {
   "cell_type": "code",
   "execution_count": 10,
   "id": "73a314ef",
   "metadata": {},
   "outputs": [
    {
     "name": "stdout",
     "output_type": "stream",
     "text": [
      "3\n"
     ]
    }
   ],
   "source": [
    "#  looping  and counting \n",
    "word = 'Assad ullah khan' # count small letter if put small letter and vise virsa. \n",
    "count = 0\n",
    "for a in word:\n",
    "    if a == 'a' :\n",
    "        count = count + 1\n",
    "print(count)"
   ]
  },
  {
   "cell_type": "code",
   "execution_count": 11,
   "id": "d8d1ca69",
   "metadata": {},
   "outputs": [
    {
     "name": "stdout",
     "output_type": "stream",
     "text": [
      "Yahya\n",
      "Ahmad\n",
      "Yahy\n",
      "hmad\n",
      "Yahya Ahmad\n"
     ]
    }
   ],
   "source": [
    "# SLICING STRING\n",
    "a = 'Yahya Ahmad'   # y a h y a  a h m a d\n",
    "print(a[0:5])      # 0 1 2 3 4 5 6 7 8 9 10\n",
    "print(a[6:12])     # first number include and second number not include.\n",
    "print(a[ :4])\n",
    "print(a[7: ])\n",
    "print(a[ : ])"
   ]
  },
  {
   "cell_type": "code",
   "execution_count": 12,
   "id": "cf3a3c01",
   "metadata": {},
   "outputs": [
    {
     "name": "stdout",
     "output_type": "stream",
     "text": [
      "hibro\n",
      "hi  bro\n"
     ]
    }
   ],
   "source": [
    "# STRING CONCENTRATION;\n",
    "b = 'hi'\n",
    "c = b + 'bro'\n",
    "print(c)\n",
    "d = 'hi'\n",
    "h = d + '  ' + 'bro'\n",
    "print(h)"
   ]
  },
  {
   "cell_type": "code",
   "execution_count": 14,
   "id": "2796b7b2",
   "metadata": {},
   "outputs": [
    {
     "data": {
      "text/plain": [
       "True"
      ]
     },
     "execution_count": 14,
     "metadata": {},
     "output_type": "execute_result"
    }
   ],
   "source": [
    "# USING (IN) AS LOGICAL OPERATION;\n",
    "b = 'Electrical'\n",
    "'i' in b        # if an letter are in the word it show true if not it show false."
   ]
  },
  {
   "cell_type": "code",
   "execution_count": 11,
   "id": "fb1f9942",
   "metadata": {},
   "outputs": [
    {
     "name": "stdout",
     "output_type": "stream",
     "text": [
      "Alih\n",
      "Ahmadhcomes after Ali\n"
     ]
    }
   ],
   "source": [
    "# STRING COMPARISON;\n",
    "word = input('Ali')\n",
    "if word == 'Ali' :\n",
    "    print('Right, Ali')\n",
    "if word > 'Ali' :\n",
    "    print('Ahmad' + word + 'comes after Ali')\n",
    "elif word < 'Ali' :\n",
    "    print('Umar' + word + 'comes before Ali')\n",
    "else:\n",
    "    print('All right')"
   ]
  },
  {
   "cell_type": "code",
   "execution_count": 23,
   "id": "e43aff76",
   "metadata": {},
   "outputs": [
    {
     "name": "stdout",
     "output_type": "stream",
     "text": [
      "how\n",
      "yahya\n",
      "ahmad\n",
      "HOW\n",
      "YAHYA\n",
      "AHMAD\n"
     ]
    }
   ],
   "source": [
    "#STRING LIBRARY;\n",
    "print('HOW'.lower())\n",
    "print('YAHYA'.lower())\n",
    "print('AHMAD'.lower())\n",
    "print('how'.upper())\n",
    "print('yahya'.upper())\n",
    "print('ahmad'.upper())\n"
   ]
  },
  {
   "cell_type": "code",
   "execution_count": 21,
   "id": "a1a30208",
   "metadata": {},
   "outputs": [
    {
     "data": {
      "text/plain": [
       "['__add__',\n",
       " '__class__',\n",
       " '__contains__',\n",
       " '__delattr__',\n",
       " '__dir__',\n",
       " '__doc__',\n",
       " '__eq__',\n",
       " '__format__',\n",
       " '__ge__',\n",
       " '__getattribute__',\n",
       " '__getitem__',\n",
       " '__getnewargs__',\n",
       " '__getstate__',\n",
       " '__gt__',\n",
       " '__hash__',\n",
       " '__init__',\n",
       " '__init_subclass__',\n",
       " '__iter__',\n",
       " '__le__',\n",
       " '__len__',\n",
       " '__lt__',\n",
       " '__mod__',\n",
       " '__mul__',\n",
       " '__ne__',\n",
       " '__new__',\n",
       " '__reduce__',\n",
       " '__reduce_ex__',\n",
       " '__repr__',\n",
       " '__rmod__',\n",
       " '__rmul__',\n",
       " '__setattr__',\n",
       " '__sizeof__',\n",
       " '__str__',\n",
       " '__subclasshook__',\n",
       " 'capitalize',\n",
       " 'casefold',\n",
       " 'center',\n",
       " 'count',\n",
       " 'encode',\n",
       " 'endswith',\n",
       " 'expandtabs',\n",
       " 'find',\n",
       " 'format',\n",
       " 'format_map',\n",
       " 'index',\n",
       " 'isalnum',\n",
       " 'isalpha',\n",
       " 'isascii',\n",
       " 'isdecimal',\n",
       " 'isdigit',\n",
       " 'isidentifier',\n",
       " 'islower',\n",
       " 'isnumeric',\n",
       " 'isprintable',\n",
       " 'isspace',\n",
       " 'istitle',\n",
       " 'isupper',\n",
       " 'join',\n",
       " 'ljust',\n",
       " 'lower',\n",
       " 'lstrip',\n",
       " 'maketrans',\n",
       " 'partition',\n",
       " 'removeprefix',\n",
       " 'removesuffix',\n",
       " 'replace',\n",
       " 'rfind',\n",
       " 'rindex',\n",
       " 'rjust',\n",
       " 'rpartition',\n",
       " 'rsplit',\n",
       " 'rstrip',\n",
       " 'split',\n",
       " 'splitlines',\n",
       " 'startswith',\n",
       " 'strip',\n",
       " 'swapcase',\n",
       " 'title',\n",
       " 'translate',\n",
       " 'upper',\n",
       " 'zfill']"
      ]
     },
     "execution_count": 21,
     "metadata": {},
     "output_type": "execute_result"
    }
   ],
   "source": [
    "dn = 'Yahya'\n",
    "dir(dn)"
   ]
  },
  {
   "cell_type": "code",
   "execution_count": 27,
   "id": "53ec00ea",
   "metadata": {},
   "outputs": [
    {
     "name": "stdout",
     "output_type": "stream",
     "text": [
      "2\n"
     ]
    }
   ],
   "source": [
    "# searching of string;\n",
    "a='Imran'\n",
    "b=a.find('r')\n",
    "print(b)"
   ]
  },
  {
   "cell_type": "code",
   "execution_count": 28,
   "id": "45643469",
   "metadata": {},
   "outputs": [
    {
     "name": "stdout",
     "output_type": "stream",
     "text": [
      "hello boy\n"
     ]
    }
   ],
   "source": [
    "# searching and replace;\n",
    "f='hello bob'\n",
    "g=f.replace('bob','boy')\n",
    "print(g)"
   ]
  },
  {
   "cell_type": "code",
   "execution_count": 30,
   "id": "2e6c930e",
   "metadata": {},
   "outputs": [
    {
     "data": {
      "text/plain": [
       "'hello boy  '"
      ]
     },
     "execution_count": 30,
     "metadata": {},
     "output_type": "execute_result"
    }
   ],
   "source": [
    "# Stripping whitespace;\n",
    "a = '  hello boy  '\n",
    "a.lstrip()"
   ]
  },
  {
   "cell_type": "code",
   "execution_count": 29,
   "id": "c25ceacd",
   "metadata": {},
   "outputs": [
    {
     "data": {
      "text/plain": [
       "'  hello boy'"
      ]
     },
     "execution_count": 29,
     "metadata": {},
     "output_type": "execute_result"
    }
   ],
   "source": [
    "# Stripping whitespace;\n",
    "a = '  hello boy  '\n",
    "a.rstrip()"
   ]
  },
  {
   "cell_type": "code",
   "execution_count": 36,
   "id": "b7c99997",
   "metadata": {},
   "outputs": [
    {
     "data": {
      "text/plain": [
       "True"
      ]
     },
     "execution_count": 36,
     "metadata": {},
     "output_type": "execute_result"
    }
   ],
   "source": [
    "# prefixes;\n",
    "line = 'what are your name'\n",
    "line.startswith('what')"
   ]
  },
  {
   "cell_type": "code",
   "execution_count": 37,
   "id": "2afa9590",
   "metadata": {},
   "outputs": [
    {
     "data": {
      "text/plain": [
       "False"
      ]
     },
     "execution_count": 37,
     "metadata": {},
     "output_type": "execute_result"
    }
   ],
   "source": [
    "# prefixes;\n",
    "line = 'what are your name'\n",
    "line.startswith('have')"
   ]
  },
  {
   "cell_type": "code",
   "execution_count": 5,
   "id": "b8cd7271",
   "metadata": {},
   "outputs": [
    {
     "name": "stdout",
     "output_type": "stream",
     "text": [
      "3\n",
      "4\n",
      "\n"
     ]
    }
   ],
   "source": [
    "# Parsing and Ectracting;\n",
    "A = 'i am going to school'\n",
    "B = A.find('m')\n",
    "print(B)\n",
    "c = A.find(' ',B)\n",
    "print(c)\n",
    "d = A[B + 2 : c]\n",
    "print(d)"
   ]
  },
  {
   "cell_type": "code",
   "execution_count": null,
   "id": "ae66d66c",
   "metadata": {},
   "outputs": [],
   "source": []
  },
  {
   "cell_type": "code",
   "execution_count": null,
   "id": "c4334ed7",
   "metadata": {},
   "outputs": [],
   "source": []
  }
 ],
 "metadata": {
  "kernelspec": {
   "display_name": "Python 3 (ipykernel)",
   "language": "python",
   "name": "python3"
  },
  "language_info": {
   "codemirror_mode": {
    "name": "ipython",
    "version": 3
   },
   "file_extension": ".py",
   "mimetype": "text/x-python",
   "name": "python",
   "nbconvert_exporter": "python",
   "pygments_lexer": "ipython3",
   "version": "3.11.5"
  }
 },
 "nbformat": 4,
 "nbformat_minor": 5
}
