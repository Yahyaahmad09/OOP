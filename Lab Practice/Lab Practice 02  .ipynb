{
 "cells": [
  {
   "cell_type": "markdown",
   "id": "7bef2f75-cbde-4042-84f6-3a11e4aee646",
   "metadata": {},
   "source": [
    "# Lab Practice Details\n",
    "\n",
    "| **Field**        | **Details**         |\n",
    "|-------------------|---------------------|\n",
    "| **Name**         | Yahya Ahmad         |\n",
    "| **Req No**       | 23jzele0528         |\n",
    "| **Lab Task**      | 02                  |"
   ]
  },
  {
   "cell_type": "markdown",
   "id": "5db4fc88-7638-4b8f-aa23-274fd2cb5ae4",
   "metadata": {},
   "source": [
    " # String Formatting\n",
    "\n",
    "### Objective:\n",
    "Understand and observe the output of string formatting techniques in Python.\n",
    "\n",
    "---\n",
    "\n",
    "### Task:\n",
    "Observe the output of the following code snippets:"
   ]
  },
  {
   "cell_type": "code",
   "execution_count": 1,
   "id": "240d9d13-0a08-4798-9d5a-49e7ae254099",
   "metadata": {},
   "outputs": [
    {
     "name": "stdout",
     "output_type": "stream",
     "text": [
      "Hello, Bob\n",
      "Hey Bob, there is a 0xbadc0ffee error!\n",
      "Hey Bob, there is a 0xbadc0ffee error!\n"
     ]
    }
   ],
   "source": [
    "errno = 50159747054\n",
    "name = 'Bob'\n",
    "print('Hello, %s' % name)\n",
    "print('Hey %s, there is a 0x%x error!' % (name, errno))\n",
    "print('Hey %(name)s, there is a 0x%(errno)x error!' % { \"name\": name, \"errno\": errno })"
   ]
  },
  {
   "cell_type": "markdown",
   "id": "c6d003ed-d6dd-4f1d-8b6b-2e808abe7e06",
   "metadata": {},
   "source": [
    "2. Observe the output of: (Mostly used)"
   ]
  },
  {
   "cell_type": "code",
   "execution_count": 11,
   "id": "bcfd9ce4-19f4-4581-b5ab-a24dc6951033",
   "metadata": {},
   "outputs": [
    {
     "name": "stdout",
     "output_type": "stream",
     "text": [
      "Hello, Bob\n"
     ]
    }
   ],
   "source": [
    "print('Hello, {}'.format(name))"
   ]
  },
  {
   "cell_type": "markdown",
   "id": "c208f4f3-c2b3-43fe-b711-65c9620f06e6",
   "metadata": {},
   "source": [
    "# String Formatting in Python\n",
    "\n",
    "---\n",
    "\n",
    "### Observe the Output of: (Mostly Used)"
   ]
  },
  {
   "cell_type": "code",
   "execution_count": 12,
   "id": "82b064f5-a414-4aae-8f11-a7dba6bcab78",
   "metadata": {},
   "outputs": [
    {
     "name": "stdout",
     "output_type": "stream",
     "text": [
      "Hello, Bob!\n"
     ]
    }
   ],
   "source": [
    "print(f'Hello, {name}!')"
   ]
  },
  {
   "cell_type": "markdown",
   "id": "6753d87c-8657-49e6-9eda-0da82e7967d6",
   "metadata": {},
   "source": [
    "# String Formatting in Python\n",
    "\n",
    "---\n",
    "\n",
    "### Observe the output of:\n"
   ]
  },
  {
   "cell_type": "code",
   "execution_count": 13,
   "id": "19435a03-ea88-458b-9c80-74826c7f464a",
   "metadata": {},
   "outputs": [
    {
     "data": {
      "text/plain": [
       "'Hey, Bob!'"
      ]
     },
     "execution_count": 13,
     "metadata": {},
     "output_type": "execute_result"
    }
   ],
   "source": [
    "# a:\n",
    "from string import Template\n",
    "2\n",
    "t = Template('Hey, $name!')\n",
    "t.substitute(name=name)"
   ]
  },
  {
   "cell_type": "code",
   "execution_count": 14,
   "id": "2594719d-fb11-4404-8c1c-677c5515b645",
   "metadata": {},
   "outputs": [
    {
     "data": {
      "text/plain": [
       "'Hey Bob, there is a 0xbadc0ffee error!'"
      ]
     },
     "execution_count": 14,
     "metadata": {},
     "output_type": "execute_result"
    }
   ],
   "source": [
    "# b:\n",
    "templ_string = 'Hey $name, there is a $error error!'\n",
    "Template(templ_string).substitute(name=name, error=hex(errno))"
   ]
  },
  {
   "cell_type": "markdown",
   "id": "c2d37082-09d2-40bb-a14b-48b0db3cb8fc",
   "metadata": {},
   "source": [
    "# Built-in Functions in Python\n",
    "\n",
    "### Objective:\n",
    "1. Use the built-in `len()` function to find the length of three lists and two strings.\n",
    "2. Use `.is_integer()` method for three examples.\n",
    "3. Use `.conjugate()` method for three examples."
   ]
  },
  {
   "cell_type": "code",
   "execution_count": 15,
   "id": "6e717b9a-7256-4fc9-8cb1-119e8f71b6e6",
   "metadata": {},
   "outputs": [
    {
     "name": "stdout",
     "output_type": "stream",
     "text": [
      "7\n",
      "7\n",
      "4\n"
     ]
    }
   ],
   "source": [
    "l1 = [2,4,5,6,7,8,9]\n",
    "l2 = ['a','b','u','hello', 3.6,8,99.8]\n",
    "l3 = ['i','am','yahya','ahmad']\n",
    "print(len(l1))\n",
    "print(len(l2))\n",
    "print(len(l3))"
   ]
  },
  {
   "cell_type": "code",
   "execution_count": null,
   "id": "e6f31909-9013-4c1f-b507-331806522ec8",
   "metadata": {},
   "outputs": [],
   "source": [
    "str1 = 'who are you bro'\n",
    "str2 = 'I am yahya ahmad'\n",
    "print(len(str1))\n",
    "print(len(str2))"
   ]
  },
  {
   "cell_type": "code",
   "execution_count": 17,
   "id": "de8e86ef-8562-427a-b3e2-c1831aa04747",
   "metadata": {},
   "outputs": [
    {
     "data": {
      "text/plain": [
       "False"
      ]
     },
     "execution_count": 17,
     "metadata": {},
     "output_type": "execute_result"
    }
   ],
   "source": [
    "a = 2.6\n",
    "a.is_integer()"
   ]
  },
  {
   "cell_type": "code",
   "execution_count": 4,
   "id": "fb9a5eb7-d8f3-40cd-8722-e3b5e53dcd8a",
   "metadata": {},
   "outputs": [
    {
     "data": {
      "text/plain": [
       "True"
      ]
     },
     "execution_count": 4,
     "metadata": {},
     "output_type": "execute_result"
    }
   ],
   "source": [
    "b = 35.0\n",
    "b.is_integer()"
   ]
  },
  {
   "cell_type": "code",
   "execution_count": 7,
   "id": "4818ef57-1bcf-49bf-9805-d4e71e5860cf",
   "metadata": {},
   "outputs": [
    {
     "data": {
      "text/plain": [
       "True"
      ]
     },
     "execution_count": 7,
     "metadata": {},
     "output_type": "execute_result"
    }
   ],
   "source": [
    "c=3349.0\n",
    "c.is_integer()"
   ]
  },
  {
   "cell_type": "code",
   "execution_count": null,
   "id": "3a18a510-5ffc-4cb9-9acd-5c229357eead",
   "metadata": {},
   "outputs": [],
   "source": [
    "c = 9 + 9j\n",
    "d = 3 + 12j\n",
    "print(c.conjugate())\n",
    "print(d.conjugate())"
   ]
  },
  {
   "attachments": {},
   "cell_type": "markdown",
   "id": "5289076d-f307-427f-b8d4-d29a00e8968f",
   "metadata": {},
   "source": [
    "# Python Functions\n",
    "\n",
    "### Task No 01:\n",
    "Create and demonstrate a simple Python function that performs a specific task.\n",
    "\n",
    "### Objective:\n",
    "Define a function to take the name and registration number of a student and print it. \n",
    "The function will demonstrate:\n",
    "- Positional arguments\n",
    "- Keyword arguments\n",
    "- Default arguments\n",
    "- Passing arguments in different styles\n",
    "- Error handling for insufficient arguments\n",
    "- Verifying positional arguments follow keyword arguments.\n",
    "\n",
    "---\n"
   ]
  },
  {
   "cell_type": "code",
   "execution_count": 26,
   "id": "0de1a4b2-07e3-4f35-a830-51300c0daf48",
   "metadata": {},
   "outputs": [],
   "source": [
    "def student():  # define simple function\n",
    "    pass"
   ]
  },
  {
   "cell_type": "code",
   "execution_count": 31,
   "id": "9e688d23-9577-4006-ba87-d823a542018a",
   "metadata": {},
   "outputs": [
    {
     "name": "stdout",
     "output_type": "stream",
     "text": [
      " The function give us Name and Reg No of student\n",
      "        take parameter as Name and Reg No\n",
      "        and return student Name and Reg No\n",
      "    \n"
     ]
    }
   ],
   "source": [
    "def student(name=\"Enter Name\",reg_no=\"Enter Reg No\"):  \n",
    "    \"\"\" The function give us Name and Reg No of student\n",
    "        take parameter as Name and Reg No\n",
    "        and return student Name and Reg No\n",
    "    \"\"\"\n",
    "    student = name,reg_no\n",
    "    return student\n",
    "print(student.__doc__)"
   ]
  },
  {
   "cell_type": "code",
   "execution_count": 32,
   "id": "2dd3f09f-a451-4a92-8154-2dca708648b5",
   "metadata": {},
   "outputs": [
    {
     "name": "stdout",
     "output_type": "stream",
     "text": [
      "('Yahya Ahmad', '23jzele0528')\n"
     ]
    }
   ],
   "source": [
    "print(student('Yahya Ahmad','23jzele0528')) #positional argument"
   ]
  },
  {
   "cell_type": "code",
   "execution_count": 33,
   "id": "ba26d53e-3389-43a6-b8be-abae078bbc96",
   "metadata": {},
   "outputs": [
    {
     "name": "stdout",
     "output_type": "stream",
     "text": [
      "('Yahya Ahmad', '23jzele0528')\n"
     ]
    }
   ],
   "source": [
    "print(student(name='Yahya Ahmad',reg_no='23jzele0528')) # keyword argument"
   ]
  },
  {
   "cell_type": "code",
   "execution_count": 34,
   "id": "7a607e0f-f325-4258-8993-cb476c746269",
   "metadata": {},
   "outputs": [
    {
     "name": "stdout",
     "output_type": "stream",
     "text": [
      "('Enter Name', 'Enter Reg No')\n"
     ]
    }
   ],
   "source": [
    "print(student()) # default parameter"
   ]
  },
  {
   "cell_type": "code",
   "execution_count": 40,
   "id": "84f961ed-e4e1-40d5-afed-00d77a5ed906",
   "metadata": {},
   "outputs": [
    {
     "name": "stdout",
     "output_type": "stream",
     "text": [
      "('Yahya Ahmad', '23jzele0528')\n"
     ]
    }
   ],
   "source": [
    "def student(name,reg_no='0000'):  # function with one default parameter\n",
    "    student = name,reg_no\n",
    "    return student\n",
    "print(student(name='Yahya Ahmad',reg_no='23jzele0528'))  # argument pass of one style to another style"
   ]
  },
  {
   "cell_type": "code",
   "execution_count": 41,
   "id": "b576a3bd-bbdf-4d57-95f5-1b27e05940f4",
   "metadata": {},
   "outputs": [],
   "source": [
    "def student(name,reg_no):  # function with no default parameter\n",
    "    student = name,reg_no\n",
    "    return student"
   ]
  },
  {
   "cell_type": "code",
   "execution_count": null,
   "id": "cebdfed5-95dd-4a3d-a277-7d835aed2962",
   "metadata": {},
   "outputs": [],
   "source": [
    "print(student('Yahya'))  # student() missing 1 required positional argument: 'reg_no'"
   ]
  },
  {
   "cell_type": "code",
   "execution_count": null,
   "id": "2f6f4cd1-5f3c-49c0-95cb-61b190d92935",
   "metadata": {},
   "outputs": [],
   "source": [
    "print(student(name='Yahya','23jze;e0528')) # error: positional argument follows keyword argument"
   ]
  },
  {
   "cell_type": "markdown",
   "id": "2b983d5c-8519-41f2-948e-9c1cbf506aa1",
   "metadata": {},
   "source": [
    "Task No 02:"
   ]
  },
  {
   "cell_type": "markdown",
   "id": "21b3a526-5cb8-455d-9c73-76789d8d1fae",
   "metadata": {},
   "source": [
    "# Python Function: Ohm's Law - Voltage Calculation\n",
    "\n",
    "### Objective:\n",
    "Define a function that calculates the voltage across a resistor using the formula:\n",
    "- \\( V = I \\times R \\)\n",
    "Where:\n",
    "- \\( V \\) is the voltage,\n",
    "- \\( I \\) is the current,\n",
    "- \\( R \\) is the resistance.\n",
    "\n",
    "The function will demonstrate:\n",
    "1. Positional arguments\n",
    "2. Keyword arguments\n",
    "3. Default arguments\n",
    "4. Passing arguments between different styles\n",
    "5. Error handling for insufficient arguments\n",
    "6. Verifying if positional arguments follow keyword arguments.\n",
    "\n",
    "---"
   ]
  },
  {
   "cell_type": "code",
   "execution_count": 43,
   "id": "bb1b15f8-b13f-4bf3-b581-f2c03349df0f",
   "metadata": {},
   "outputs": [],
   "source": [
    "def voltage():\n",
    "    pass"
   ]
  },
  {
   "cell_type": "code",
   "execution_count": 44,
   "id": "e83896f9-a246-4994-8c14-3dabb75bc82e",
   "metadata": {},
   "outputs": [],
   "source": [
    "def voltage(current=1,resistance=1):\n",
    "    \"\"\"\n",
    "    Calculate the voltage across a resistor using Ohm's Law.\n",
    "    Parameters:\n",
    "    current (float): \n",
    "    resistance (float)\n",
    "    Returns:\n",
    "    The voltage across the resistor (in volts).\n",
    "    \"\"\"\n",
    "    voltage = current * resistance\n",
    "    return voltage"
   ]
  },
  {
   "cell_type": "code",
   "execution_count": 45,
   "id": "547d4302-3fcb-4a82-9380-36d70a500f28",
   "metadata": {},
   "outputs": [
    {
     "name": "stdout",
     "output_type": "stream",
     "text": [
      "32\n"
     ]
    }
   ],
   "source": [
    "print(voltage(4,8)) # positional argument"
   ]
  },
  {
   "cell_type": "code",
   "execution_count": 48,
   "id": "cdd80d9f-5328-4aa3-9ece-0134166314b4",
   "metadata": {},
   "outputs": [
    {
     "name": "stdout",
     "output_type": "stream",
     "text": [
      "24\n"
     ]
    }
   ],
   "source": [
    "print(voltage(current=6,resistance=4)) # keyword argument"
   ]
  },
  {
   "cell_type": "code",
   "execution_count": 49,
   "id": "23506025-7b75-4d5b-b409-bf2d3c214876",
   "metadata": {},
   "outputs": [
    {
     "name": "stdout",
     "output_type": "stream",
     "text": [
      "1\n"
     ]
    }
   ],
   "source": [
    "print(voltage()) # default parameter"
   ]
  },
  {
   "cell_type": "code",
   "execution_count": null,
   "id": "63c21f03-0902-429a-81f4-9961f4bda087",
   "metadata": {},
   "outputs": [],
   "source": [
    "def voltage(current=1,resistance):   # function with one default parameter\n",
    "    voltage = current * resistance\n",
    "    return voltage   # argument pass of one style to another style "
   ]
  },
  {
   "cell_type": "code",
   "execution_count": 43,
   "id": "b0912faf-2696-4bf9-a85e-dc87dc6950d8",
   "metadata": {},
   "outputs": [
    {
     "name": "stdout",
     "output_type": "stream",
     "text": [
      "230\n"
     ]
    }
   ],
   "source": [
    "print(voltage(current=23,resistance=10))"
   ]
  },
  {
   "cell_type": "code",
   "execution_count": 39,
   "id": "55e44418-67e8-4ae0-b41d-d0f409785df3",
   "metadata": {},
   "outputs": [],
   "source": [
    "def voltage(current,resistance):   # function without default parameter\n",
    "    voltage = current * resistance\n",
    "    return voltage"
   ]
  },
  {
   "cell_type": "code",
   "execution_count": null,
   "id": "5656d770-368c-4abd-9e1b-472269774a04",
   "metadata": {},
   "outputs": [],
   "source": [
    "print(voltage(5)) # voltage() missing 1 required positional argument: 'resistance'"
   ]
  },
  {
   "cell_type": "code",
   "execution_count": null,
   "id": "689391c5-5274-440b-b146-42f14c0e37bb",
   "metadata": {},
   "outputs": [],
   "source": [
    "print(voltage(current=8,29) # positional argument follows keyword argument"
   ]
  },
  {
   "cell_type": "markdown",
   "id": "b69f05e8-9993-42fa-a58f-b95c01c18cac",
   "metadata": {},
   "source": [
    "# Python Function: Charge From Solar\n",
    "\n",
    "### Objective:\n",
    "Define a function named `charge_from_solar` that takes the state of charge (SOC) as input and displays messages based on the value of SOC.\n",
    "\n",
    "### Function Behavior:\n",
    "- If SOC is less than 20%, display \"Charging\".\n",
    "- If SOC is above 90%, do nothing and return.\n",
    "- If SOC is between 20% and 90%, display \"Battery will be charged\" along with the percentage of charge in the battery."
   ]
  },
  {
   "cell_type": "code",
   "execution_count": 61,
   "id": "ffcd1b29-68ea-4e52-9939-8ce1b08d3695",
   "metadata": {},
   "outputs": [],
   "source": [
    "def charge_from_solar():   # define function\n",
    "    pass"
   ]
  },
  {
   "cell_type": "code",
   "execution_count": 10,
   "id": "e3a503fb-e0d6-48a0-b4ce-205a84f74dfd",
   "metadata": {},
   "outputs": [
    {
     "name": "stdout",
     "output_type": "stream",
     "text": [
      "Determines the charging status of a battery based on its state of charge (SOC).\n",
      "    Parameters:\n",
      "               SOC (float): \n",
      "    Returns:\n",
      "            None:\n",
      "    Behavior:\n",
      "            -> If SOC < 20%, the function displays \"Charging\"\n",
      "            -> If SOC > 90%, the function does nothing and returns.\n",
      "            -> If 20% <= SOC <= 90%, the function displays \"Battery will be charged\" along with the current SOC.\n",
      "    \n"
     ]
    }
   ],
   "source": [
    "def charge_from_solar(SOC: float) -> None:   # gives arguments to function\n",
    "    \"\"\"Determines the charging status of a battery based on its state of charge (SOC).\n",
    "    Parameters:\n",
    "               SOC (float): \n",
    "    Returns:\n",
    "            None:\n",
    "    Behavior:\n",
    "            -> If SOC < 20%, the function displays \"Charging\"\n",
    "            -> If SOC > 90%, the function does nothing and returns.\n",
    "            -> If 20% <= SOC <= 90%, the function displays \"Battery will be charged\" along with the current SOC.\n",
    "    \"\"\"\n",
    "    \n",
    "print(charge_from_solar.__doc__)  # print docstring"
   ]
  },
  {
   "cell_type": "code",
   "execution_count": 100,
   "id": "f01292b2-1c15-48ec-b8b3-cd4cf377cea0",
   "metadata": {},
   "outputs": [],
   "source": [
    "def charge_from_solar(SOC: float) -> None:\n",
    "    if SOC < 20:  \n",
    "        print(\"Charging\")\n",
    "    elif SOC > 90:\n",
    "        return\n",
    "    else:\n",
    "        print(f\"Battery will charge and there is {SOC}% of charging\")    \n"
   ]
  },
  {
   "cell_type": "code",
   "execution_count": 101,
   "id": "873d89d6-ecd6-467e-9922-89eb30ea9ba7",
   "metadata": {},
   "outputs": [
    {
     "name": "stdout",
     "output_type": "stream",
     "text": [
      "Battery will charge and there is 45% of charging\n",
      "None\n"
     ]
    }
   ],
   "source": [
    "print(charge_from_solar(45))     # calling fucntion"
   ]
  },
  {
   "cell_type": "code",
   "execution_count": 135,
   "id": "240c0416-00b5-4f94-9487-4eb89b8c6a0b",
   "metadata": {},
   "outputs": [
    {
     "name": "stdout",
     "output_type": "stream",
     "text": [
      "{'SOC': <class 'float'>, 'return': None}\n"
     ]
    }
   ],
   "source": [
    "print(charge_from_solar.__annotations__)  # show the annotation of the function"
   ]
  },
  {
   "cell_type": "markdown",
   "id": "3c35f850-fab4-4b01-a119-c5103aa2628a",
   "metadata": {},
   "source": [
    "Task No 04:"
   ]
  },
  {
   "cell_type": "markdown",
   "id": "9d4907c9-187b-4d0d-a6bb-8e47e4c3b14d",
   "metadata": {},
   "source": [
    "# Python Program: Calculating Current through Resistors\n",
    "\n",
    "### Objective:\n",
    "1. Define three functions:\n",
    "   - **`resistance`**: Returns a list of five resistances.\n",
    "   - **`voltage`**: Returns a list of voltages across each of these resistors.\n",
    "   - **`current`**: Calculates the current flowing through each resistor using Ohm's Law, given the resistance and voltage.\n",
    "\n",
    "2. The program will print the three lists in a well-formatted manner.\n",
    "\n",
    "---"
   ]
  },
  {
   "cell_type": "code",
   "execution_count": 11,
   "id": "0485f672-04dc-4d0d-aa97-b4f66e9df7be",
   "metadata": {},
   "outputs": [
    {
     "name": "stdout",
     "output_type": "stream",
     "text": [
      "retrun  a list of resisatance\n",
      "    the list is float\n",
      "retrun  a list of voltage\n",
      "    the list is float\n"
     ]
    }
   ],
   "source": [
    "from typing import List, Tuple, Dict \n",
    "def resistance() -> list[float]:       # function\n",
    "    \"\"\"retrun  a list of resisatance\n",
    "    the list is float\"\"\"\n",
    "    return [10,20,30,40,50]\n",
    "def voltage() -> list[float]:         # function\n",
    "    \"\"\"retrun  a list of voltage\n",
    "    the list is float\"\"\"\n",
    "    return [100,20,300,400,500]\n",
    "print(resistance.__doc__)     # print docstring\n",
    "print(voltage.__doc__)        # print docstring"
   ]
  },
  {
   "cell_type": "code",
   "execution_count": 12,
   "id": "c460eb84-2b9b-49c3-bfd7-55c4e6e71c67",
   "metadata": {},
   "outputs": [
    {
     "data": {
      "text/plain": [
       "[10, 20, 30, 40, 50]"
      ]
     },
     "execution_count": 12,
     "metadata": {},
     "output_type": "execute_result"
    }
   ],
   "source": [
    "resistance()     # calling fucntion"
   ]
  },
  {
   "cell_type": "code",
   "execution_count": 13,
   "id": "04e81e47-2da0-4e82-859e-cdfd915d60df",
   "metadata": {},
   "outputs": [
    {
     "data": {
      "text/plain": [
       "[100, 20, 300, 400, 500]"
      ]
     },
     "execution_count": 13,
     "metadata": {},
     "output_type": "execute_result"
    }
   ],
   "source": [
    "voltage()      # calling fucntion"
   ]
  },
  {
   "cell_type": "code",
   "execution_count": 14,
   "id": "a9fdae74-1216-49fd-97a3-d4357884afc4",
   "metadata": {},
   "outputs": [
    {
     "name": "stdout",
     "output_type": "stream",
     "text": [
      "\n",
      "    Calculates the current flowing through each resistor using Ohm's law (I = V/R).    \n",
      "    Parameters: \n",
      "    List of resistances in ohms.\n",
      "    List of voltages across each resistor in volts. \n",
      "    Returns:tuple[List[float], Dict[str, float]]: A tuple containing:\n",
      "        - A list of currents through each resistor in amperes.\n",
      "        - A dictionary where the keys are 'current_1' to 'current_5' and the values are the currents.\n",
      "    \n"
     ]
    }
   ],
   "source": [
    "def current(resistance: list[float],voltage: list[float]) -> Tuple[list[float],Dict[str,float]]:  \n",
    "    \"\"\"\n",
    "    Calculates the current flowing through each resistor using Ohm's law (I = V/R).    \n",
    "    Parameters: \n",
    "    List of resistances in ohms.\n",
    "    List of voltages across each resistor in volts. \n",
    "    Returns:tuple[List[float], Dict[str, float]]: A tuple containing:\n",
    "        - A list of currents through each resistor in amperes.\n",
    "        - A dictionary where the keys are 'current_1' to 'current_5' and the values are the currents.\n",
    "    \"\"\"\n",
    "    currents=[v/r for v,r in zip(voltage,resistance)]\n",
    "    current_dict = {f'current_{i+1}': currents[i] for i in range(len(currents))}\n",
    "    return currents, current_dict\n",
    "print(current.__doc__)     # print docstring\n",
    "\n",
    "resistances = resistance()\n",
    "voltages = voltage()\n",
    "currents,current_dict = current(voltages,resistances)"
   ]
  },
  {
   "cell_type": "code",
   "execution_count": 17,
   "id": "61ed403f-1efa-4246-8fd2-d6c5c60d7239",
   "metadata": {},
   "outputs": [
    {
     "name": "stdout",
     "output_type": "stream",
     "text": [
      "[0.1, 1.0, 0.1, 0.1, 0.1]\n",
      "{'current_1': 0.1, 'current_2': 1.0, 'current_3': 0.1, 'current_4': 0.1, 'current_5': 0.1}\n"
     ]
    }
   ],
   "source": [
    "print(currents,)        # calling fucntion \n",
    "print(current_dict,)    # calling fucntion"
   ]
  },
  {
   "cell_type": "code",
   "execution_count": 19,
   "id": "efbfffca-936c-414a-a202-68d76b6e85e6",
   "metadata": {},
   "outputs": [
    {
     "name": "stdout",
     "output_type": "stream",
     "text": [
      "{'return': list[float]}\n",
      "{'return': list[float]}\n"
     ]
    }
   ],
   "source": [
    "print(resistance.__annotations__)      # show the annotation of the function\n",
    "print(voltage.__annotations__)         # show the annotation of the function"
   ]
  },
  {
   "cell_type": "markdown",
   "id": "1c94b793-159c-4650-bd57-cefa2ed04c54",
   "metadata": {},
   "source": [
    "Task No 05:"
   ]
  },
  {
   "cell_type": "markdown",
   "id": "db4749ac-d7a8-452d-bf79-a282962659b9",
   "metadata": {},
   "source": [
    "# Python Function: Series Resistor Calculation\n",
    "\n",
    "### Objective:\n",
    "Define a function named `series` that calculates the net resistance of resistors connected in series. The function will take a list or tuple of resistors and return the net resistance.\n",
    "\n",
    "The function will:\n",
    "1. Handle any number of resistors passed as a list or tuple.\n",
    "2. Include appropriate docstrings.\n",
    "3. Add annotations for parameters and return type.\n",
    "4. Display the function annotations using the special `__annotations__` attribute.\n",
    "\n",
    "---"
   ]
  },
  {
   "cell_type": "code",
   "execution_count": 122,
   "id": "a42a3d37-723c-41a6-adda-a68935fad456",
   "metadata": {},
   "outputs": [],
   "source": [
    "def series():\n",
    "    pass"
   ]
  },
  {
   "cell_type": "code",
   "execution_count": 151,
   "id": "035289b3-ed5b-4da1-a3ac-9bc9058c0a46",
   "metadata": {},
   "outputs": [
    {
     "name": "stdout",
     "output_type": "stream",
     "text": [
      " function which retrun  net resistance\n",
      "    paramter are resistance in the form of list\n",
      "    retrun net resistance\n",
      "    \n"
     ]
    }
   ],
   "source": [
    "def series(lst1=[]):     # define function\n",
    "    \"\"\" function which retrun  net resistance\n",
    "    paramter are resistance in the form of list\n",
    "    retrun net resistance\n",
    "    \"\"\"\n",
    "    return sum(lst1)\n",
    "print(series.__doc__)    # print docstring"
   ]
  },
  {
   "cell_type": "code",
   "execution_count": 124,
   "id": "790e942a-9e19-4820-b4b4-d13a6468d99c",
   "metadata": {},
   "outputs": [
    {
     "data": {
      "text/plain": [
       "6"
      ]
     },
     "execution_count": 124,
     "metadata": {},
     "output_type": "execute_result"
    }
   ],
   "source": [
    "series([3,3])       # calling fucntion"
   ]
  },
  {
   "cell_type": "code",
   "execution_count": 125,
   "id": "5bf2d234-575e-4106-8f24-4349c9b4674f",
   "metadata": {},
   "outputs": [
    {
     "data": {
      "text/plain": [
       "25"
      ]
     },
     "execution_count": 125,
     "metadata": {},
     "output_type": "execute_result"
    }
   ],
   "source": [
    "series([3,4,5,6,7])   # calling fucntion"
   ]
  },
  {
   "cell_type": "code",
   "execution_count": 139,
   "id": "aad20e9b-3222-469f-bdba-528655bad443",
   "metadata": {},
   "outputs": [
    {
     "name": "stdout",
     "output_type": "stream",
     "text": [
      "{}\n"
     ]
    }
   ],
   "source": [
    "print(series.__annotations__)     # show the annotation of the function"
   ]
  },
  {
   "cell_type": "markdown",
   "id": "e7a66275-1d09-4b12-a228-8dc8bde7c4ee",
   "metadata": {},
   "source": [
    "Task no 6:"
   ]
  },
  {
   "cell_type": "markdown",
   "id": "10c31731-c544-40dd-93d7-7e18d6ce3098",
   "metadata": {},
   "source": [
    "# Python Function: Parallel Resistor Calculation\n",
    "\n",
    "### Objective:\n",
    "Define a function with name parallel. The function will take a list or tuple of resisters. The function\n",
    "will return the net resistance.\n",
    "\n",
    "The function will:\n",
    "1. Handle any number of resistors passed as a list or tuple.\n",
    "2. Include appropriate docstrings.\n",
    "3. Add annotations for parameters and return type.\n",
    "4. Display the function annotations using the special `__annotations__` attribute."
   ]
  },
  {
   "cell_type": "code",
   "execution_count": 126,
   "id": "a9dcaaf1-a826-49af-b7ae-b2d752ca3ab8",
   "metadata": {},
   "outputs": [],
   "source": [
    "def parallal(list1=[]):       # define function\n",
    "    pass"
   ]
  },
  {
   "cell_type": "code",
   "execution_count": 160,
   "id": "4e0fbef0-e00e-4f1b-99b8-5d65e5e5c576",
   "metadata": {},
   "outputs": [
    {
     "name": "stdout",
     "output_type": "stream",
     "text": [
      " function calculate net resistance\n",
      "    paramter is resistances in the form of list\n",
      "    retrun net resistance in pararllal\n",
      "    \n"
     ]
    }
   ],
   "source": [
    "def parallal(list1=[]):\n",
    "    \"\"\" function calculate net resistance\n",
    "    paramter is resistances in the form of list\n",
    "    retrun net resistance in pararllal\n",
    "    \"\"\"\n",
    "    return 1 / sum(1/x for x in list1) \n",
    "print(parallal.__doc__)     # print docstring"
   ]
  },
  {
   "cell_type": "code",
   "execution_count": 163,
   "id": "e9170043-dc92-4bf7-b964-193ced6a51fa",
   "metadata": {},
   "outputs": [
    {
     "name": "stdout",
     "output_type": "stream",
     "text": [
      "2.0\n"
     ]
    }
   ],
   "source": [
    "print(parallal([4,4]))           # calling fucntion"
   ]
  },
  {
   "cell_type": "code",
   "execution_count": 164,
   "id": "c98f4f42-6e35-4bed-8ee7-946bd5264142",
   "metadata": {},
   "outputs": [
    {
     "name": "stdout",
     "output_type": "stream",
     "text": [
      "1.12\n"
     ]
    }
   ],
   "source": [
    "print(parallal([3,4,6,7]))      # calling fucntion"
   ]
  },
  {
   "cell_type": "code",
   "execution_count": 166,
   "id": "c93d8705-67bb-42f3-b5fa-e2168fa82f6b",
   "metadata": {},
   "outputs": [
    {
     "name": "stdout",
     "output_type": "stream",
     "text": [
      "{}\n"
     ]
    }
   ],
   "source": [
    "print(parallal.__annotations__)     # show the annotation of the function"
   ]
  },
  {
   "cell_type": "markdown",
   "id": "ba6b970f-2461-49c1-b1be-a74e1b8022a0",
   "metadata": {},
   "source": [
    "Task No 07:"
   ]
  },
  {
   "cell_type": "markdown",
   "id": "9f85d51e-d791-4997-860b-7a8d25d3be7c",
   "metadata": {},
   "source": [
    "# Python Function: Series Resistor Calculation\n",
    "\n",
    "### Objective:\n",
    "Define a function with name series. The function will take resisters values and use *args for tuple\n",
    "packing. The function will return the net resistance.\n",
    "\n",
    "The function will:\n",
    "1. Handle any number of resistors passed as a list or tuple.\n",
    "2. Include appropriate docstrings.\n",
    "3. Add annotations for parameters and return type.\n",
    "4. Display the function annotations using the special `__annotations__` attribute."
   ]
  },
  {
   "cell_type": "code",
   "execution_count": 2,
   "id": "dc03313e-c0dd-405f-a24a-b9b145ee2542",
   "metadata": {},
   "outputs": [],
   "source": [
    "def series():    # define function\n",
    "    pass"
   ]
  },
  {
   "cell_type": "code",
   "execution_count": 90,
   "id": "c0b6910b-7eb8-48d4-864a-7e24a19bd292",
   "metadata": {},
   "outputs": [
    {
     "name": "stdout",
     "output_type": "stream",
     "text": [
      "function calculate net resistance\n",
      "parameter is resistances in the form of tuple\n",
      "retrun net resistance in pararllal\n",
      "    \n"
     ]
    }
   ],
   "source": [
    "def series(*resistance: float) -> float:\n",
    "    \"\"\"function calculate net resistance\n",
    "parameter is resistances in the form of tuple\n",
    "retrun net resistance in pararllal\n",
    "    \"\"\"\n",
    "    return sum(resistance)\n",
    "print(series.__doc__)      # print docstring"
   ]
  },
  {
   "cell_type": "code",
   "execution_count": 91,
   "id": "31ffaf71-8168-4ff3-9868-e083fe4e2875",
   "metadata": {},
   "outputs": [
    {
     "name": "stdout",
     "output_type": "stream",
     "text": [
      "7\n"
     ]
    }
   ],
   "source": [
    "print(series(2,5))        # calling fucntion"
   ]
  },
  {
   "cell_type": "code",
   "execution_count": 92,
   "id": "b1196a05-e765-447a-977c-69e0d69165e6",
   "metadata": {},
   "outputs": [
    {
     "name": "stdout",
     "output_type": "stream",
     "text": [
      "39\n"
     ]
    }
   ],
   "source": [
    "print(series(4,5,7,2,8,9,4))   # calling fucntion"
   ]
  },
  {
   "cell_type": "code",
   "execution_count": 85,
   "id": "856898e9-14b9-4991-8669-4c57ef2cf55d",
   "metadata": {},
   "outputs": [
    {
     "name": "stdout",
     "output_type": "stream",
     "text": [
      "{'resistance': <class 'float'>, 'return': <class 'float'>}\n"
     ]
    }
   ],
   "source": [
    "print(series.__annotations__)      # show the annotation of the function"
   ]
  },
  {
   "cell_type": "markdown",
   "id": "147a4162-2b1f-4dd3-8031-08b3b19e298a",
   "metadata": {},
   "source": [
    "Task No 08:"
   ]
  },
  {
   "cell_type": "markdown",
   "id": "9f4b5542-ed2e-4c38-83f9-5af32bc05298",
   "metadata": {},
   "source": [
    "# Python Function: Parallel Resistor Calculation\n",
    "## Objective:\n",
    "Define a function with name parallel. The function will take resisters values and use *argsfor tuple\n",
    "packing. The function will return the net resistance.\n",
    "\n",
    "The function will:\n",
    "\n",
    "Handle any number of resistors passed as a list or tuple.\n",
    "Include appropriate docstrings.\n",
    "Add annotations for parameters and return type.\n",
    "Display the function annotations using the special __annotations__ attribute."
   ]
  },
  {
   "cell_type": "code",
   "execution_count": 11,
   "id": "4b7b46a5-6122-43e0-9a30-519ffa23a981",
   "metadata": {},
   "outputs": [],
   "source": [
    "def parallal():       # define function\n",
    "    pass"
   ]
  },
  {
   "cell_type": "code",
   "execution_count": 96,
   "id": "a041ca55-a103-4d87-8645-116f86435913",
   "metadata": {},
   "outputs": [
    {
     "name": "stdout",
     "output_type": "stream",
     "text": [
      "function calculate net resistance\n",
      "parameter is resistances in the form of tuple\n",
      "retrun net resistance in pararllal\n",
      "    \n"
     ]
    }
   ],
   "source": [
    "def parallal(*resistance: float) -> float:\n",
    "    \"\"\"function calculate net resistance\n",
    "parameter is resistances in the form of tuple\n",
    "retrun net resistance in pararllal\n",
    "    \"\"\"\n",
    "    return 1 / sum(1/x for x in resistance)\n",
    "print(parallal.__doc__)    # print docstring"
   ]
  },
  {
   "cell_type": "code",
   "execution_count": 97,
   "id": "3d71c50a-5ebf-4bf7-a0c0-50430f2a2e2c",
   "metadata": {},
   "outputs": [
    {
     "name": "stdout",
     "output_type": "stream",
     "text": [
      "3.0\n"
     ]
    }
   ],
   "source": [
    "print(parallal(6,6))   # calling fucntion"
   ]
  },
  {
   "cell_type": "code",
   "execution_count": 98,
   "id": "e2603f55-b548-4805-82bd-2831e0435569",
   "metadata": {},
   "outputs": [
    {
     "name": "stdout",
     "output_type": "stream",
     "text": [
      "0.49084534476042074\n"
     ]
    }
   ],
   "source": [
    "print(parallal(2,3,4,5,6,7,3,9))     # calling fucntion"
   ]
  },
  {
   "cell_type": "code",
   "execution_count": 26,
   "id": "53d82906-9e1e-4ee1-b60d-a637c9686163",
   "metadata": {},
   "outputs": [
    {
     "name": "stdout",
     "output_type": "stream",
     "text": [
      "{'args': <class 'float'>, 'return': <class 'float'>}\n"
     ]
    }
   ],
   "source": [
    "print(parallal.__annotations__)    # show the annotation of the function"
   ]
  },
  {
   "cell_type": "markdown",
   "id": "79760c9d-8fa4-4c26-ad6e-90a819d560f7",
   "metadata": {},
   "source": [
    "Task No 09:"
   ]
  },
  {
   "cell_type": "markdown",
   "id": "c32f1452-c551-462b-be0e-0a1f1d79ce40",
   "metadata": {},
   "source": [
    "# Python Function: Battery SOC, Solar Generation, and Market Price Display\n",
    "\n",
    "### **Objective:**\n",
    "Design a function that receives data for Battery State of Charge (SOC), solar generation (in kW), and market price (per unit in rupees) from a hybrid solar inverter connected with a green meter. The data is passed as a list or tuple in the form `[SOC, solar_generation, market_price]` or `(SOC, solar_generation, market_price)`. The function should print these values in a well-formatted manner. The function will use tuple or list unpacking to achieve this.\n",
    "\n",
    "The function will:\n",
    "1. Accept the data as a list or tuple.\n",
    "2. Unpack the values into separate variables.\n",
    "3. Print the values in a clean format.\n",
    "4. Include appropriate docstrings.\n",
    "5. Add annotations for parameters and return type.\n",
    "6. Display the function annotations using the special `__annotations__` attribute.\n"
   ]
  },
  {
   "cell_type": "code",
   "execution_count": 29,
   "id": "ce67a8bf-7d6c-433a-9add-1f045aa296cc",
   "metadata": {},
   "outputs": [],
   "source": [
    "def display_inverter_data():      # define function\n",
    "    pass"
   ]
  },
  {
   "cell_type": "code",
   "execution_count": 41,
   "id": "9dabe747-44c8-47fe-8201-417bcc8378d8",
   "metadata": {},
   "outputs": [
    {
     "name": "stdout",
     "output_type": "stream",
     "text": [
      "Function that takes the data as tuple\n",
      "    it show the data or display it in well format:\n",
      "    return:\n",
      "           None\n",
      "            battery SOC(% age)\n",
      "            solar generation (kw)\n",
      "            market price (per unit in rupees)\n",
      "    \n"
     ]
    }
   ],
   "source": [
    "def display_inverter_data(data: Tuple) -> None:\n",
    "    \"\"\"Function that takes the data as tuple\n",
    "    it show the data or display it in well format:\n",
    "    return:\n",
    "           None\n",
    "            battery SOC(% age)\n",
    "            solar generation (kw)\n",
    "            market price (per unit in rupees)\n",
    "    \"\"\"\n",
    "     # unpacking the tuple\n",
    "    battery_soc, solar_genr, market_price = data \n",
    "    # In well_formating data\n",
    "    print(f\"Batter_SOC = {battery_soc}%\")        \n",
    "    print(f\"Solar_Generation = {solar_genr} kw\")\n",
    "    print(f\"Market_price = {market_price} Rs/unit\")\n",
    "print(display_inverter_data.__doc__)     # print docstring"
   ]
  },
  {
   "cell_type": "code",
   "execution_count": 42,
   "id": "2dd12574-b25b-4a94-ba09-83093361da0c",
   "metadata": {},
   "outputs": [
    {
     "name": "stdout",
     "output_type": "stream",
     "text": [
      "Batter_SOC = 90%\n",
      "Solar_Generation = 2.5 kw\n",
      "Market_price = 45 Rs/unit\n"
     ]
    }
   ],
   "source": [
    "inverter_data = (90,2.5,45)\n",
    "display_inverter_data(inverter_data)    # calling fucntion"
   ]
  },
  {
   "cell_type": "code",
   "execution_count": 43,
   "id": "e66ea06c-5b51-45f8-b128-c102f82e89e9",
   "metadata": {},
   "outputs": [
    {
     "name": "stdout",
     "output_type": "stream",
     "text": [
      "{'data': typing.Tuple, 'return': None}\n"
     ]
    }
   ],
   "source": [
    "print(display_inverter_data.__annotations__)    # show the annotation of the function"
   ]
  },
  {
   "cell_type": "markdown",
   "id": "b65105ef-af77-41b5-b554-0fbe56d59231",
   "metadata": {},
   "source": [
    "Task No 10:"
   ]
  },
  {
   "cell_type": "markdown",
   "id": "8bbb052c-410d-4f25-a421-54b75b2b151b",
   "metadata": {},
   "source": [
    "# Python Function: Battery SOC, Solar Generation, and Market Price Display (Using Dictionary Unpacking)\n",
    "\n",
    "### **Objective:**\n",
    "Design a function that receives data for Battery State of Charge (SOC), solar generation (in kW), and market price (per unit in rupees) from a hybrid solar inverter connected with a green meter. The data is passed as a dictionary in the format:\n",
    "```python\n",
    "{'SOC': 60, 'solar generation': 2, 'price': 60}"
   ]
  },
  {
   "cell_type": "code",
   "execution_count": 44,
   "id": "6a8d86b5-e150-439c-b3c4-0efbffb2cb85",
   "metadata": {},
   "outputs": [],
   "source": [
    "def display_inverter_data():  # define function\n",
    "    pass"
   ]
  },
  {
   "cell_type": "code",
   "execution_count": 57,
   "id": "593dca20-95a3-4b32-92fc-f85c7fd7ec2a",
   "metadata": {},
   "outputs": [
    {
     "name": "stdout",
     "output_type": "stream",
     "text": [
      "Function that pass the data as dictionary and use dictionary unpacking .\n",
      "    return: \n",
      "           None\n",
      "    it show the data or display it in well format:\n",
      "            battery SOC(% age)\n",
      "            solar generation (kw)\n",
      "            market price (per unit in rupees)\n",
      "    \n"
     ]
    }
   ],
   "source": [
    "def display_inverter_data(inverter_data: dict) -> None:\n",
    "    \"\"\"Function that pass the data as dictionary and use dictionary unpacking .\n",
    "    return: \n",
    "           None\n",
    "    it show the data or display it in well format:\n",
    "            battery SOC(% age)\n",
    "            solar generation (kw)\n",
    "            market price (per unit in rupees)\n",
    "    \"\"\"\n",
    "     # unpacking the dictionary\n",
    "    Battery_soc = inverter_data.get('Battery_soc')\n",
    "    solar_genr = inverter_data.get('solar_genr')\n",
    "    market_price = inverter_data.get('market_price')\n",
    "    # In well_formating data\n",
    "    print(f\"Batter SOC: {Battery_soc}%\")\n",
    "    print(f\"Solar Generation: {solar_genr} kw\")\n",
    "    print(f\"Market price: {market_price} Rs/unit\")\n",
    "    \n",
    "print(display_inverter_data.__doc__)    # print docstring"
   ]
  },
  {
   "cell_type": "code",
   "execution_count": 66,
   "id": "0d98e50c-ac7d-40c4-bb7f-f952abdb8ec5",
   "metadata": {},
   "outputs": [
    {
     "name": "stdout",
     "output_type": "stream",
     "text": [
      "Batter SOC: 59%\n",
      "Solar Generation: 3 kw\n",
      "Market price: 33 Rs/unit\n"
     ]
    }
   ],
   "source": [
    "data = {'Battery_soc': 59, 'solar_genr': 3, 'market_price': 33}\n",
    "display_inverter_data(data)    # calling function"
   ]
  },
  {
   "cell_type": "code",
   "execution_count": 59,
   "id": "aa2b110d-6544-4ffa-ba50-90cf23279bfd",
   "metadata": {},
   "outputs": [
    {
     "name": "stdout",
     "output_type": "stream",
     "text": [
      "{'inverter_data': <class 'dict'>, 'return': None}\n"
     ]
    }
   ],
   "source": [
    "print(display_inverter_data.__annotations__)      # show the annotation of the function"
   ]
  },
  {
   "cell_type": "markdown",
   "id": "053a72e9-038f-4ab2-95cb-a278eabe3111",
   "metadata": {},
   "source": [
    "# Task No 11"
   ]
  },
  {
   "cell_type": "markdown",
   "id": "2922b718-534a-49b3-8689-c730796cf160",
   "metadata": {},
   "source": [
    "# Python Function: Battery SOC, Solar Generation, and Market Price Display (Using Dictionary Unpacking with Keyword Arguments)\n",
    "\n",
    "### **Objective:**\n",
    "Design a function that receives data for Battery State of Charge (SOC), solar generation (in kW), and market price (per unit in rupees) from a hybrid solar inverter connected with a green meter. The data is passed as keyword arguments in the format:\n",
    "```python\n",
    "solar(SOC=60, solar_generation=2, price=60)"
   ]
  },
  {
   "cell_type": "code",
   "execution_count": 99,
   "id": "5528bdef-24d3-467c-88bd-da03247376ac",
   "metadata": {},
   "outputs": [],
   "source": [
    "def solar():      # define function\n",
    "    pass"
   ]
  },
  {
   "cell_type": "code",
   "execution_count": 78,
   "id": "10460ee7-42c1-43f6-9019-095e18dc3688",
   "metadata": {},
   "outputs": [
    {
     "name": "stdout",
     "output_type": "stream",
     "text": [
      "Function that pass the data as dictionary and use dictionary unpacking but you can pass these\n",
      "    value in a function call.\n",
      "    return: \n",
      "           None\n",
      "    it show the data or display it in well format:\n",
      "            battery SOC(% age)\n",
      "            solar generation (kw)\n",
      "            market price (per unit in rupees)\n",
      "    \n"
     ]
    }
   ],
   "source": [
    "def solar(**data: dict) -> None:\n",
    "    \"\"\"Function that pass the data as dictionary and use dictionary unpacking but you can pass these\n",
    "    value in a function call.\n",
    "    return: \n",
    "           None\n",
    "    it show the data or display it in well format:\n",
    "            battery SOC(% age)\n",
    "            solar generation (kw)\n",
    "            market price (per unit in rupees)\n",
    "    \"\"\"\n",
    "     # unpacking the dictionary\n",
    "    SOC = data.get('SOC')\n",
    "    Generation = data.get('Generation')\n",
    "    Price = data.get('Price')\n",
    "    # In well_formating data\n",
    "    print(f\"SOC: {SOC}%\")\n",
    "    print(f\"Solar Generation: {Generation} kw\")\n",
    "    print(f\"Price: {Price} Rs/unit\")\n",
    "    \n",
    "print(solar.__doc__)     # print docstring"
   ]
  },
  {
   "cell_type": "code",
   "execution_count": 80,
   "id": "734f109d-12c4-490c-b264-d6337c43683f",
   "metadata": {},
   "outputs": [
    {
     "name": "stdout",
     "output_type": "stream",
     "text": [
      "SOC: 90%\n",
      "Solar Generation: 1.5 kw\n",
      "Price: 55 Rs/unit\n",
      "None\n"
     ]
    }
   ],
   "source": [
    "Data={'SOC': 90, 'Generation': 1.5, 'Price': 55}\n",
    "print(solar(**Data))  # calling function with unpacking dictionary"
   ]
  },
  {
   "cell_type": "code",
   "execution_count": 81,
   "id": "f4cbf1aa-5b69-46ab-bd10-070294403507",
   "metadata": {},
   "outputs": [
    {
     "name": "stdout",
     "output_type": "stream",
     "text": [
      "{'data': <class 'dict'>, 'return': None}\n"
     ]
    }
   ],
   "source": [
    "print(solar.__annotations__)        # show the annotation of the function"
   ]
  },
  {
   "cell_type": "markdown",
   "id": "fa140a61-3fba-4c10-b80f-35c47040c996",
   "metadata": {},
   "source": [
    "# Python Function Exploration and Design\n",
    "\n",
    "### **Objective:**\n",
    "The goal is to understand the given functions, run them, modify their behavior, and design different scenarios where these functions can be applied. This will help reinforce the concepts of function definition, parameters, return types, and other key principles in Python.\n",
    "\n",
    "---\n",
    "\n",
    "### **Instructions:**\n",
    "\n",
    "1. **Understand the Functions**: \n",
    "    - Read through the provided functions and their descriptions.\n",
    "    - Understand how they work, their parameters, return types, and how they are implemented.\n",
    "\n",
    "2. **Run the Functions**: \n",
    "    - Execute the functions in a Python environment.\n",
    "    - Observe the output for different inputs.\n",
    "\n",
    "3. **Modify the Functions**: \n",
    "    - Make changes to the function to adjust its behavior.\n",
    "    - Test the modified function with different data.\n",
    "\n",
    "4. **Design Different Scenarios**:\n",
    "    - Create new scenarios that can be solved using the given functions or by modifying them.\n",
    "    - Experiment with different inputs and edge cases.\n",
    "\n",
    "---"
   ]
  },
  {
   "cell_type": "code",
   "execution_count": 27,
   "id": "6774677b-5367-4299-8fbb-16355e132cf4",
   "metadata": {},
   "outputs": [
    {
     "name": "stdout",
     "output_type": "stream",
     "text": [
      "a = 1\n",
      "b = 2\n",
      "args = ('foo', 'bar', 'baz', 'qux')\n",
      "kwargs = {'x': 100, 'y': 200, 'z': 300}\n"
     ]
    }
   ],
   "source": [
    "def f(a, b, *args, **kwargs):\n",
    " print(F'a = {a}')\n",
    " print(F'b = {b}')\n",
    " print(F'args = {args}')\n",
    " print(F'kwargs = {kwargs}')\n",
    "f(1, 2, 'foo', 'bar', 'baz', 'qux', x=100, y=200, z=300)"
   ]
  },
  {
   "cell_type": "code",
   "execution_count": 31,
   "id": "6588b676-6fb0-4bc7-a8b5-82aba6ac755d",
   "metadata": {},
   "outputs": [
    {
     "name": "stdout",
     "output_type": "stream",
     "text": [
      "1\n",
      "2\n",
      "3\n",
      "4\n",
      "5\n",
      "6\n",
      "8\n",
      "9\n",
      "7\n"
     ]
    }
   ],
   "source": [
    "def f(*args):\n",
    "    for i in args:\n",
    "        print(i)\n",
    "a = [1, 2, 3]\n",
    "t = (4, 5, 6)\n",
    "s = {7, 8, 9}\n",
    "f(*a, *t, *s)"
   ]
  },
  {
   "cell_type": "code",
   "execution_count": 33,
   "id": "d72e74b6-4291-4c36-b170-8d53e7b4d4e8",
   "metadata": {},
   "outputs": [
    {
     "name": "stdout",
     "output_type": "stream",
     "text": [
      "a -> 1\n",
      "b -> 2\n",
      "x -> 3\n",
      "y -> 4\n"
     ]
    }
   ],
   "source": [
    "def f(**kwargs):\n",
    "    for k, v in kwargs.items():\n",
    "        print(k, '->', v)\n",
    "d1 = {'a': 1, 'b': 2}\n",
    "d2 = {'x': 3, 'y': 4}\n",
    "f(**d1, **d2)\n"
   ]
  },
  {
   "cell_type": "code",
   "execution_count": 34,
   "id": "2ec45b7c-1f73-41ac-a613-b8d04a33688f",
   "metadata": {},
   "outputs": [
    {
     "name": "stdout",
     "output_type": "stream",
     "text": [
      "1\n",
      "2\n",
      "3\n",
      "4\n",
      "5\n",
      "6\n"
     ]
    }
   ],
   "source": [
    "def f(*args):\n",
    "    for i in args:\n",
    "        print(i)\n",
    "f(*[1, 2, 3], *[4, 5, 6])"
   ]
  },
  {
   "cell_type": "code",
   "execution_count": 35,
   "id": "05840117-d679-4aed-9ff8-8da6722c307c",
   "metadata": {},
   "outputs": [
    {
     "name": "stdout",
     "output_type": "stream",
     "text": [
      "a -> 1\n",
      "b -> 2\n",
      "x -> 3\n",
      "y -> 4\n"
     ]
    }
   ],
   "source": [
    "def f(**kwargs):\n",
    "    for k, v in kwargs.items():\n",
    "        print(k, '->', v)\n",
    "f(**{'a': 1, 'b': 2}, **{'x': 3, 'y': 4})\n"
   ]
  },
  {
   "cell_type": "code",
   "execution_count": 37,
   "id": "474665fe-98a8-49cc-9f30-d9b99188395e",
   "metadata": {},
   "outputs": [
    {
     "data": {
      "text/plain": [
       "{'a': int, 'b': str, 'return': float}"
      ]
     },
     "execution_count": 37,
     "metadata": {},
     "output_type": "execute_result"
    }
   ],
   "source": [
    "def f(a: int, b: str) -> float:\n",
    "    print(a, b)\n",
    "    return(3.5)\n",
    "    f(1, 'foo')\n",
    "f.__annotations__\n"
   ]
  },
  {
   "cell_type": "markdown",
   "id": "3f5a0fe8-d0c0-4812-9205-811d55457e65",
   "metadata": {},
   "source": [
    "# Assigning Default Values with Annotations in Python Functions\n",
    "\n",
    "### **Objective:**\n",
    "In Python, when defining a function, you can assign default values to parameters. If you also want to use annotations for these parameters, the default value must be specified after the annotation.\n",
    "\n",
    "### **Explanation:**\n",
    "When assigning default values to function parameters, the correct syntax involves placing the annotation first, followed by the default value for the parameter. This is important for the function to work as expected.\n",
    "\n",
    "### **Syntax Example:**\n",
    "```python\n",
    "def example_function(parameter: int = 10):\n",
    "    \"\"\"\n",
    "    This function demonstrates assigning a default value to a parameter \n",
    "    with an annotation.\n",
    "    \n",
    "    Parameters:\n",
    "    parameter (int): This parameter is annotated as an integer with a default value of 10.\n",
    "    \n",
    "    Returns:\n",
    "    int: Returns the parameter value.\n",
    "    \"\"\"\n",
    "    return parameter"
   ]
  },
  {
   "cell_type": "code",
   "execution_count": 22,
   "id": "b99e2660-50a0-4a54-9edb-0c56cafb0323",
   "metadata": {},
   "outputs": [
    {
     "name": "stdout",
     "output_type": "stream",
     "text": [
      "12 baz\n"
     ]
    },
    {
     "data": {
      "text/plain": [
       "3.5"
      ]
     },
     "execution_count": 22,
     "metadata": {},
     "output_type": "execute_result"
    }
   ],
   "source": [
    "def f(a: int = 12, b: str = 'baz') -> float:\n",
    "    print(a, b)\n",
    "    return(3.5)\n",
    "f.__annotations__\n",
    "f()"
   ]
  },
  {
   "cell_type": "markdown",
   "id": "c2d52735-39d4-42bd-af19-bd9453d84361",
   "metadata": {},
   "source": [
    "# Understanding Python Function Annotations: No Semantic Restrictions\n",
    "\n",
    "### **Objective:**\n",
    "In Python, function annotations are primarily used to provide metadata about the types of function parameters and return values. However, it’s important to understand that Python annotations **do not enforce any semantic restrictions**. This means that while annotations can suggest the types of arguments and return values, they do not cause the interpreter to raise errors if the types do not match the annotations.\n",
    "\n",
    "### **Explanation:**\n",
    "Consider the following function with annotations:\n",
    "\n",
    "```python\n",
    "def f(a: int, b: str) -> float:\n",
    "    \"\"\"\n",
    "    This function takes an integer and a string as arguments and returns a float.\n",
    "    \"\"\"\n",
    "    return float(a + len(b))\n"
   ]
  },
  {
   "cell_type": "code",
   "execution_count": 1,
   "id": "e0401440-35d6-4010-84f7-cbb57298cb93",
   "metadata": {},
   "outputs": [
    {
     "name": "stdout",
     "output_type": "stream",
     "text": [
      "foo 2.5\n"
     ]
    },
    {
     "data": {
      "text/plain": [
       "(1, 2, 3)"
      ]
     },
     "execution_count": 1,
     "metadata": {},
     "output_type": "execute_result"
    }
   ],
   "source": [
    "def f(a: int, b: str) -> float:\n",
    " print(a, b)\n",
    " return 1, 2, 3\n",
    "f('foo', 2.5)"
   ]
  },
  {
   "cell_type": "markdown",
   "id": "373447f2-2844-4faf-861e-d6d9b00e1f67",
   "metadata": {},
   "source": [
    "# String:"
   ]
  },
  {
   "cell_type": "markdown",
   "id": "64d71571-97a7-41b5-96d2-948e3e54715b",
   "metadata": {},
   "source": [
    "# F-String for String Formatting in Python\n",
    "\n",
    "### **Objective:**\n",
    "Learn how to use F-Strings for string formatting in Python. F-Strings, introduced in Python 3.6, provide an easy and efficient way to embed expressions inside string literals.\n",
    "\n",
    "### **Explanation:**\n",
    "F-Strings allow you to embed variables or expressions directly into string literals by prefixing the string with the letter `f` or `F`. The expressions inside curly braces `{}` are evaluated at runtime and formatted into the string.\n"
   ]
  },
  {
   "cell_type": "code",
   "execution_count": 5,
   "id": "4443c7c9-7025-46d2-83cf-974603ca0acd",
   "metadata": {},
   "outputs": [
    {
     "name": "stdout",
     "output_type": "stream",
     "text": [
      "My name is Yahya Ahamd, and my Reg No is 23jze0528\n"
     ]
    }
   ],
   "source": [
    "# f-string\n",
    "name = 'Yahya Ahamd'\n",
    "Reg_No = '23jze0528'\n",
    "student=f\"My name is {name}, and my Reg No is {Reg_No}\"\n",
    "print(student)"
   ]
  },
  {
   "cell_type": "markdown",
   "id": "c83c9966-1d30-4adf-8679-dbd89fca430e",
   "metadata": {},
   "source": [
    "# Using `.capitalize()` for String Formatting in Python\n",
    "\n",
    "### **Objective:**\n",
    "Learn how to use the `.capitalize()` method in Python to convert the first character of a string to uppercase and the rest to lowercase.\n",
    "\n",
    "### **Explanation:**\n",
    "The `.capitalize()` method is used to change the first character of a string to uppercase and all other characters to lowercase. This is particularly useful when you want to format strings to ensure proper capitalization, especially with names or titles.\n"
   ]
  },
  {
   "cell_type": "code",
   "execution_count": 8,
   "id": "7f111ae6-4569-4b28-9a05-39cd7e418e64",
   "metadata": {},
   "outputs": [
    {
     "name": "stdout",
     "output_type": "stream",
     "text": [
      "Yahya\n",
      "Electrical\n",
      "Power\n"
     ]
    }
   ],
   "source": [
    "name = 'yahya'\n",
    "department = 'electrical'\n",
    "section = 'power'\n",
    "print(name.capitalize())\n",
    "print(department.capitalize())\n",
    "print(section.capitalize())"
   ]
  },
  {
   "cell_type": "markdown",
   "id": "2e6bbe30-9a86-4d05-aa4e-470065c80785",
   "metadata": {},
   "source": [
    "# Using `.format(*args, **kwargs)` for String Formatting in Python\n",
    "\n",
    "### **Objective:**\n",
    "Learn how to use the `.format()` method with both positional (`*args`) and keyword arguments (`**kwargs`) to format strings in Python. This method allows for more flexible and readable string formatting compared to the traditional `%` operator."
   ]
  },
  {
   "cell_type": "code",
   "execution_count": 12,
   "id": "9b7f3f9c-581c-4482-8941-b21979af158d",
   "metadata": {},
   "outputs": [
    {
     "name": "stdout",
     "output_type": "stream",
     "text": [
      "I am Yahya and my reg no is 23jzele0528\n",
      "In our room 3 bad, and also contain 1 table\n",
      "i have 4 pen, 1 book, and 8 copies\n"
     ]
    }
   ],
   "source": [
    "# .format ()\n",
    "student=\"I am {0} and my reg no is {1}\"\n",
    "print(student.format('Yahya','23jzele0528'))\n",
    "room = \"In our room {} bad, and also contain {} table\"\n",
    "print(room.format(3,1))\n",
    "my_bag=\"i have {} pen, {} book, and {} copies\"\n",
    "print(my_bag.format(4,1,8))"
   ]
  },
  {
   "cell_type": "markdown",
   "id": "e15f52ab-fc7b-46ba-8411-685d52a6080a",
   "metadata": {},
   "source": [
    "# Using `.lower()` for String Formatting in Python\n",
    "\n",
    "### **Objective:**\n",
    "Learn how to use the `.lower()` method in Python to convert all characters in a string to lowercase."
   ]
  },
  {
   "cell_type": "code",
   "execution_count": 14,
   "id": "27757289-a3da-4f30-b774-1063f51c335e",
   "metadata": {},
   "outputs": [
    {
     "name": "stdout",
     "output_type": "stream",
     "text": [
      "yahya\n",
      "elecical\n",
      "power\n"
     ]
    }
   ],
   "source": [
    "# .lower()\n",
    "name = 'YAHYA'\n",
    "department = 'ELECICAL'\n",
    "section = 'POWER'\n",
    "print(name.lower())\n",
    "print(department.lower())\n",
    "print(section.lower())"
   ]
  },
  {
   "cell_type": "markdown",
   "id": "c51197a7-5cc5-4eba-8459-0262765f6174",
   "metadata": {},
   "source": [
    "# Using String Methods: `.isdigit()`, `.islower()`, and `.isnumeric()` in Python\n",
    "\n",
    "### **Objective:**\n",
    "Learn how to use the string methods `.isdigit()`, `.islower()`, and `.isnumeric()` to check specific properties of strings. These methods return boolean values (`True` or `False`) and are often used in various applications like validation or processing user inputs."
   ]
  },
  {
   "cell_type": "code",
   "execution_count": 22,
   "id": "c939d102-8b27-438b-842e-cc662e06b2d9",
   "metadata": {},
   "outputs": [
    {
     "name": "stdout",
     "output_type": "stream",
     "text": [
      "True\n",
      "False\n"
     ]
    }
   ],
   "source": [
    "a = \"23435\"\n",
    "c = \"yahya\"\n",
    "print(a.isdigit())\n",
    "print(c.isdigit())"
   ]
  },
  {
   "cell_type": "code",
   "execution_count": 23,
   "id": "8c60cbd6-ebd2-4330-ad19-de778ff91117",
   "metadata": {},
   "outputs": [
    {
     "name": "stdout",
     "output_type": "stream",
     "text": [
      "True\n",
      "False\n"
     ]
    }
   ],
   "source": [
    "name = \"yahya\"\n",
    "name1 = \"YAHYA\"\n",
    "print(name.islower())\n",
    "print(name1.islower())"
   ]
  },
  {
   "cell_type": "code",
   "execution_count": 24,
   "id": "4ffcc72b-adcd-4aef-bbfd-ab205b10cc01",
   "metadata": {},
   "outputs": [
    {
     "name": "stdout",
     "output_type": "stream",
     "text": [
      "True\n",
      "False\n"
     ]
    }
   ],
   "source": [
    "b = \"944239\"\n",
    "d = \"hello\"\n",
    "print(b.isnumeric())\n",
    "print(d.isnumeric())"
   ]
  },
  {
   "cell_type": "markdown",
   "id": "3fd1e369-a816-48f1-97a7-cd21ebe6852b",
   "metadata": {},
   "source": [
    "# Using the `.split()` Method for String Operations in Python\n",
    "\n",
    "### **Objective:**\n",
    "Learn how to use the `.split()` method in Python to split strings into a list of substrings based on a specified delimiter. The method is versatile and widely used in various text-processing scenarios."
   ]
  },
  {
   "cell_type": "code",
   "execution_count": 29,
   "id": "79f200f3-65b7-4687-9e89-a9f0f44af545",
   "metadata": {},
   "outputs": [
    {
     "name": "stdout",
     "output_type": "stream",
     "text": [
      "['I', 'am', 'Yahya', 'Ahmad']\n",
      "['how', 'are', 'you', 'I', 'am', 'Yahya', 'Ahmad']\n"
     ]
    }
   ],
   "source": [
    "name =\"I am Yahya Ahmad\"\n",
    "hey = f\"how are you {name}\"\n",
    "print(name.split())\n",
    "print(hey.split())"
   ]
  }
 ],
 "metadata": {
  "kernelspec": {
   "display_name": "Python 3 (ipykernel)",
   "language": "python",
   "name": "python3"
  },
  "language_info": {
   "codemirror_mode": {
    "name": "ipython",
    "version": 3
   },
   "file_extension": ".py",
   "mimetype": "text/x-python",
   "name": "python",
   "nbconvert_exporter": "python",
   "pygments_lexer": "ipython3",
   "version": "3.9.20"
  }
 },
 "nbformat": 4,
 "nbformat_minor": 5
}
