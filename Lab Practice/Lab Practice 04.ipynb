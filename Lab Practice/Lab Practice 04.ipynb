{
 "cells": [
  {
   "cell_type": "markdown",
   "id": "1da6eddc",
   "metadata": {},
   "source": [
    "# Lab Practice Details\n",
    "\n",
    "| **Field**        | **Details**         |\n",
    "|-------------------|---------------------|\n",
    "| **Name**         | Yahya Ahmad         |\n",
    "| **Req No**       | 23jzele0528         |\n",
    "| **Lab Practice** | 04                  |"
   ]
  },
  {
   "cell_type": "markdown",
   "id": "3d3c2a36",
   "metadata": {},
   "source": [
    "# Lab Practice Class\n",
    "\n",
    "## Motivation\n",
    "The goal of this lab is to create a list that can store employee data efficiently. Each employee's information will include:\n",
    "\n",
    "- **Name**: The full name of the employee\n",
    "- **Age**: The employee's age\n",
    "- **Position**: The job title of the employee\n",
    "- **Year Started Working**: The year the employee began their role\n",
    "# Example Employee Data\n",
    "```python\n",
    "kirk = [\"James Kirk\", 34, \"Captain\", 2265]\n",
    "spock = [\"Spock\", 35, \"Science Officer\", 2254]\n",
    "mccoy = [\"Leonard McCoy\", \"Chief Medical Officer\", 2266]"
   ]
  },
  {
   "cell_type": "code",
   "execution_count": 2,
   "id": "b8edde20",
   "metadata": {},
   "outputs": [],
   "source": [
    "kirk = [\"James Kirk\", 34, \"Captain\", 2265]\n",
    "spock = [\"Spock\", 35, \"Science Officer\", 2254]\n",
    "mccoy = [\"Leonard McCoy\", \"Chief Medical Officer\", 2266]"
   ]
  },
  {
   "cell_type": "code",
   "execution_count": 3,
   "id": "1ac4cbba",
   "metadata": {},
   "outputs": [
    {
     "name": "stdout",
     "output_type": "stream",
     "text": [
      "James Kirk\n"
     ]
    }
   ],
   "source": [
    "print(kirk[0])"
   ]
  },
  {
   "cell_type": "code",
   "execution_count": 4,
   "id": "4a3cb6e2",
   "metadata": {},
   "outputs": [
    {
     "name": "stdout",
     "output_type": "stream",
     "text": [
      "Chief Medical Officer\n"
     ]
    }
   ],
   "source": [
    "print(mccoy[1])"
   ]
  },
  {
   "cell_type": "markdown",
   "id": "d7573b6c",
   "metadata": {},
   "source": [
    "## Task: Create a Dog Class\n",
    "\n",
    "### Objective\n",
    "Learn to use Object-Oriented Programming (OOP) concepts to model real-world objects. In this case, create a **Dog** class with attributes and methods that represent a dog's characteristics and behavior."
   ]
  },
  {
   "cell_type": "code",
   "execution_count": 5,
   "id": "e102002d",
   "metadata": {},
   "outputs": [],
   "source": [
    "class Dog:\n",
    " pass"
   ]
  },
  {
   "cell_type": "markdown",
   "id": "60f6391e",
   "metadata": {},
   "source": [
    "# Instantiating a Class\n",
    "\n",
    "### Definition\n",
    "Creating a new object from a class is called **instantiating a class**. This process allows you to create instances of a class, each with their own unique attributes and behavior.\n"
   ]
  },
  {
   "cell_type": "code",
   "execution_count": 6,
   "id": "b1551119",
   "metadata": {},
   "outputs": [
    {
     "data": {
      "text/plain": [
       "<__main__.Dog at 0x1b5fccf3ed0>"
      ]
     },
     "execution_count": 6,
     "metadata": {},
     "output_type": "execute_result"
    }
   ],
   "source": [
    "Dog()"
   ]
  },
  {
   "cell_type": "markdown",
   "id": "7cc6a235",
   "metadata": {},
   "source": [
    "# Creating Multiple Dog Objects\n",
    "##### Create two new Dog objects and assign them to the variables a and b. "
   ]
  },
  {
   "cell_type": "code",
   "execution_count": 7,
   "id": "2f0870e3",
   "metadata": {},
   "outputs": [],
   "source": [
    "a = Dog()"
   ]
  },
  {
   "cell_type": "code",
   "execution_count": 8,
   "id": "60c16218",
   "metadata": {},
   "outputs": [],
   "source": [
    "b = Dog()"
   ]
  },
  {
   "cell_type": "markdown",
   "id": "62ad15dd",
   "metadata": {},
   "source": [
    "# Comparing Objects in Python\n",
    "\n",
    "### Explanation\n",
    "When you compare two objects using the `==` operator, Python checks if the two objects occupy the **same memory location** by default. Even if the objects belong to the same class and have identical attributes, they are distinct instances in memory. Therefore, the comparison results in **`False`**.\n"
   ]
  },
  {
   "cell_type": "code",
   "execution_count": 9,
   "id": "4bdef2ff",
   "metadata": {},
   "outputs": [
    {
     "data": {
      "text/plain": [
       "False"
      ]
     },
     "execution_count": 9,
     "metadata": {},
     "output_type": "execute_result"
    }
   ],
   "source": [
    "a == b"
   ]
  },
  {
   "cell_type": "markdown",
   "id": "457f107f",
   "metadata": {},
   "source": [
    "# Printing Objects in Python\n",
    "##### Use the print command and print both instances/ objects. "
   ]
  },
  {
   "cell_type": "code",
   "execution_count": 10,
   "id": "b1ad24e1",
   "metadata": {},
   "outputs": [
    {
     "name": "stdout",
     "output_type": "stream",
     "text": [
      "<__main__.Dog object at 0x000001B5FCC956D0>\n"
     ]
    }
   ],
   "source": [
    "print(a)"
   ]
  },
  {
   "cell_type": "code",
   "execution_count": 11,
   "id": "2fe53f0b",
   "metadata": {},
   "outputs": [
    {
     "name": "stdout",
     "output_type": "stream",
     "text": [
      "<__main__.Dog object at 0x000001B5FC57D710>\n"
     ]
    }
   ],
   "source": [
    "print(b)"
   ]
  },
  {
   "cell_type": "markdown",
   "id": "2620655f",
   "metadata": {},
   "source": [
    "# Class: MyFirstClass\n",
    "##### Following is a class named ****MyFirstClass****. "
   ]
  },
  {
   "cell_type": "code",
   "execution_count": 12,
   "id": "e3ec386c",
   "metadata": {},
   "outputs": [],
   "source": [
    "class MyFirstClass:\n",
    "    pass"
   ]
  },
  {
   "cell_type": "markdown",
   "id": "04c32c39",
   "metadata": {},
   "source": [
    "# Creating Instances of MyFirstClass\n",
    "##### Make two instances named ***FC1*** and ***FC2***."
   ]
  },
  {
   "cell_type": "code",
   "execution_count": 13,
   "id": "749a2b6a",
   "metadata": {},
   "outputs": [],
   "source": [
    "FC1 = MyFirstClass()"
   ]
  },
  {
   "cell_type": "code",
   "execution_count": 14,
   "id": "bd138381",
   "metadata": {},
   "outputs": [],
   "source": [
    "FC2 = MyFirstClass()"
   ]
  },
  {
   "cell_type": "markdown",
   "id": "7277e129",
   "metadata": {},
   "source": [
    "# Checking if FC1 and FC2 Represent the Same Object\n",
    "\n",
    "##### Check whether FC1 and FC2 represent the same object or not. "
   ]
  },
  {
   "cell_type": "code",
   "execution_count": 15,
   "id": "f0cf5817",
   "metadata": {},
   "outputs": [
    {
     "data": {
      "text/plain": [
       "False"
      ]
     },
     "execution_count": 15,
     "metadata": {},
     "output_type": "execute_result"
    }
   ],
   "source": [
    "FC1 == FC2"
   ]
  },
  {
   "cell_type": "markdown",
   "id": "4ad32cb3",
   "metadata": {},
   "source": [
    "# Class Definition\n",
    "\n",
    "##### Use the print command and print both instances. "
   ]
  },
  {
   "cell_type": "code",
   "execution_count": 16,
   "id": "7b2fe280",
   "metadata": {},
   "outputs": [
    {
     "name": "stdout",
     "output_type": "stream",
     "text": [
      "Here it show the first abject address ->  (<__main__.MyFirstClass object at 0x000001B5FCD197D0>)\n"
     ]
    }
   ],
   "source": [
    "print(f\"Here it show the first abject address ->  ({FC1})\")    # totally different from FC2 memory address."
   ]
  },
  {
   "cell_type": "code",
   "execution_count": 17,
   "id": "4b46162d",
   "metadata": {},
   "outputs": [
    {
     "name": "stdout",
     "output_type": "stream",
     "text": [
      "Here it show the first abject address ->  (<__main__.MyFirstClass object at 0x000001B5FCD1B190>)\n"
     ]
    }
   ],
   "source": [
    "print(f\"Here it show the first abject address ->  ({FC2})\")    # totally different from FC1 memory address."
   ]
  },
  {
   "cell_type": "markdown",
   "id": "4f749caf",
   "metadata": {},
   "source": [
    "# New Class\n",
    "##### Consider the following class definition."
   ]
  },
  {
   "cell_type": "code",
   "execution_count": 18,
   "id": "99caaca9",
   "metadata": {},
   "outputs": [],
   "source": [
    "class point:\n",
    "    pass"
   ]
  },
  {
   "cell_type": "markdown",
   "id": "3d70db2f",
   "metadata": {},
   "source": [
    "# Add Instance\n",
    "##### Make two instances named p1 and p2."
   ]
  },
  {
   "cell_type": "code",
   "execution_count": 19,
   "id": "5477d15f",
   "metadata": {},
   "outputs": [],
   "source": [
    "p1 = point()"
   ]
  },
  {
   "cell_type": "code",
   "execution_count": 20,
   "id": "9bb85ae5",
   "metadata": {},
   "outputs": [],
   "source": [
    "p2 = point()"
   ]
  },
  {
   "cell_type": "markdown",
   "id": "991d4e1f",
   "metadata": {},
   "source": [
    "# Print the object\n",
    "##### Print both objects p1 and p2. "
   ]
  },
  {
   "cell_type": "code",
   "execution_count": 21,
   "id": "90009bd3",
   "metadata": {},
   "outputs": [
    {
     "name": "stdout",
     "output_type": "stream",
     "text": [
      "<__main__.point object at 0x000001B5FCCEAF10>\n"
     ]
    }
   ],
   "source": [
    "print(p1)"
   ]
  },
  {
   "cell_type": "code",
   "execution_count": 22,
   "id": "a8dd1587",
   "metadata": {},
   "outputs": [
    {
     "name": "stdout",
     "output_type": "stream",
     "text": [
      "<__main__.point object at 0x000001B5FBCB3D10>\n"
     ]
    }
   ],
   "source": [
    "print(p2)"
   ]
  },
  {
   "cell_type": "markdown",
   "id": "2dda941b",
   "metadata": {},
   "source": [
    "# Create the instance with different Name\n",
    "##### Try different names for objects, instead of p1 and p2. Also, use different attribute names. "
   ]
  },
  {
   "cell_type": "code",
   "execution_count": 23,
   "id": "26aad3ad",
   "metadata": {},
   "outputs": [],
   "source": [
    "class point:\n",
    "    def __init__(self, x, y):\n",
    "        self.x = x\n",
    "        self.y = y  \n"
   ]
  },
  {
   "cell_type": "code",
   "execution_count": 24,
   "id": "3a873e8c",
   "metadata": {},
   "outputs": [],
   "source": [
    "a = point(2,5)"
   ]
  },
  {
   "cell_type": "code",
   "execution_count": 25,
   "id": "438a2237",
   "metadata": {},
   "outputs": [
    {
     "name": "stdout",
     "output_type": "stream",
     "text": [
      "<__main__.point object at 0x000001B5FCCFBD50>\n"
     ]
    }
   ],
   "source": [
    "print(a)"
   ]
  },
  {
   "cell_type": "code",
   "execution_count": 26,
   "id": "cd6c520a",
   "metadata": {},
   "outputs": [],
   "source": [
    "b = point(3,8)"
   ]
  },
  {
   "cell_type": "code",
   "execution_count": 27,
   "id": "a8d8fb39",
   "metadata": {},
   "outputs": [
    {
     "name": "stdout",
     "output_type": "stream",
     "text": [
      "<__main__.point object at 0x000001B5FCCE9D90>\n"
     ]
    }
   ],
   "source": [
    "print(b)"
   ]
  },
  {
   "cell_type": "markdown",
   "id": "a3324c8c",
   "metadata": {},
   "source": [
    "# Print object\n",
    "##### To print the attributes of the  new objects/instance we have"
   ]
  },
  {
   "cell_type": "code",
   "execution_count": 28,
   "id": "dce4148f",
   "metadata": {},
   "outputs": [
    {
     "name": "stdout",
     "output_type": "stream",
     "text": [
      "The attributes or coordinates of point (a) is 2 and 5\n"
     ]
    }
   ],
   "source": [
    "print(f\"The attributes or coordinates of point (a) is {a.x} and {a.y}\")"
   ]
  },
  {
   "cell_type": "code",
   "execution_count": 29,
   "id": "77a9ead7",
   "metadata": {},
   "outputs": [
    {
     "name": "stdout",
     "output_type": "stream",
     "text": [
      "The attributes or coordinates of point (b) is 3 and 8\n"
     ]
    }
   ],
   "source": [
    "print(f\"The attributes or coordinates of point (b) is {b.x} and {b.y}\")"
   ]
  },
  {
   "cell_type": "markdown",
   "id": "8b15bb24",
   "metadata": {},
   "source": [
    "# Update `Dog` Class\n",
    "##### Update the Dog class with an __init__() method that creates .name and .age attributes:"
   ]
  },
  {
   "cell_type": "code",
   "execution_count": 30,
   "id": "56074a92",
   "metadata": {},
   "outputs": [],
   "source": [
    "class Dog:\n",
    "    def __init__(self, name, age):\n",
    "        self.name = name\n",
    "        self.age = age"
   ]
  },
  {
   "cell_type": "markdown",
   "id": "93f7b7dc",
   "metadata": {},
   "source": [
    "### `Run`: miles = Dog(\"Miles\", 4)"
   ]
  },
  {
   "cell_type": "code",
   "execution_count": 31,
   "id": "bb295eeb",
   "metadata": {},
   "outputs": [],
   "source": [
    "miles = Dog(\"Miles\", 4)"
   ]
  },
  {
   "cell_type": "markdown",
   "id": "af04d4c7",
   "metadata": {},
   "source": [
    "### `Print`: miles"
   ]
  },
  {
   "cell_type": "code",
   "execution_count": 32,
   "id": "34789fa7",
   "metadata": {},
   "outputs": [
    {
     "name": "stdout",
     "output_type": "stream",
     "text": [
      "<__main__.Dog object at 0x000001B5FCD27490>\n"
     ]
    }
   ],
   "source": [
    "print(miles)"
   ]
  },
  {
   "cell_type": "markdown",
   "id": "99428347",
   "metadata": {},
   "source": [
    "# New `Dog` Class\n",
    "#### Create a new Dog class with a class attribute called. species and two instance attributes\n",
    "##### called .name and .age:\n"
   ]
  },
  {
   "cell_type": "markdown",
   "id": "c8f0c69f",
   "metadata": {},
   "source": [
    "# `Class` Attributes\n",
    "#### Class attribute: You define class attributes directly beneath the first line of the class\n",
    "##### `name` and indent them by four spaces"
   ]
  },
  {
   "cell_type": "code",
   "execution_count": 33,
   "id": "5a51a276",
   "metadata": {},
   "outputs": [],
   "source": [
    "class Dog:\n",
    "    species = 'Canis familiaris'\n",
    "    def __init__(self, name, age):\n",
    "        self.name = name\n",
    "        self.age = age\n",
    "        "
   ]
  },
  {
   "cell_type": "markdown",
   "id": "8afef97d",
   "metadata": {},
   "source": [
    "# Understand the error\n",
    "#### To instantiate this Dog class, you need to provide values for `name` and `age`. If you don’t,\n",
    "##### then Python raises a `TypeError`:\n",
    "- Run: Dog()"
   ]
  },
  {
   "cell_type": "code",
   "execution_count": 1,
   "id": "e8cacd9a",
   "metadata": {},
   "outputs": [
    {
     "ename": "NameError",
     "evalue": "name 'Dog' is not defined",
     "output_type": "error",
     "traceback": [
      "\u001b[1;31m---------------------------------------------------------------------------\u001b[0m",
      "\u001b[1;31mNameError\u001b[0m                                 Traceback (most recent call last)",
      "Cell \u001b[1;32mIn[1], line 1\u001b[0m\n\u001b[1;32m----> 1\u001b[0m \u001b[43mDog\u001b[49m()\n",
      "\u001b[1;31mNameError\u001b[0m: name 'Dog' is not defined"
     ]
    }
   ],
   "source": [
    "Dog()  # it show error of missing to requried positional arguments: 'Dog'"
   ]
  },
  {
   "cell_type": "markdown",
   "id": "2d6959b2",
   "metadata": {},
   "source": [
    "# Pass Argument \n",
    "#### To pass arguments to the `name` and `age` parameters, put values into the parentheses\n",
    "##### after the class name:\n",
    "- miles = Dog(\"Miles\", 4)\n",
    "- buddy = Dog(\"Buddy\", 9)\n"
   ]
  },
  {
   "cell_type": "code",
   "execution_count": 35,
   "id": "636e1fbc",
   "metadata": {},
   "outputs": [],
   "source": [
    "miles = Dog(\"Miles\", 4)\n",
    "buddy = Dog(\"Buddy\", 9)"
   ]
  },
  {
   "cell_type": "markdown",
   "id": "aa17e2d1",
   "metadata": {},
   "source": [
    "# Using of `Dog Notation`\n",
    "#### After you create the Dog instances, you can access their instance attributes using dot\n",
    "#### notation:"
   ]
  },
  {
   "cell_type": "code",
   "execution_count": 36,
   "id": "2e0e9d5a",
   "metadata": {},
   "outputs": [
    {
     "name": "stdout",
     "output_type": "stream",
     "text": [
      "Mile name: Miles\n",
      "Miles age: 4\n"
     ]
    }
   ],
   "source": [
    "print(f\"Mile name: {miles.name}\")\n",
    "print(f\"Miles age: {miles.age}\")"
   ]
  },
  {
   "cell_type": "code",
   "execution_count": 37,
   "id": "322f91d6",
   "metadata": {},
   "outputs": [
    {
     "name": "stdout",
     "output_type": "stream",
     "text": [
      "Buddy name: Buddy\n",
      "Buddy age: 9\n"
     ]
    }
   ],
   "source": [
    "print(f\"Buddy name: {buddy.name}\")\n",
    "print(f\"Buddy age: {buddy.age}\")"
   ]
  },
  {
   "cell_type": "markdown",
   "id": "c06bc4e5",
   "metadata": {},
   "source": [
    "# Change value of Attributes\n",
    "##### Although the attributes are guaranteed to exist, their values can change dynamically:\n"
   ]
  },
  {
   "cell_type": "code",
   "execution_count": 38,
   "id": "7bdc2da5",
   "metadata": {},
   "outputs": [],
   "source": [
    "buddy.age = 10"
   ]
  },
  {
   "cell_type": "code",
   "execution_count": 39,
   "id": "e0910640",
   "metadata": {},
   "outputs": [
    {
     "data": {
      "text/plain": [
       "10"
      ]
     },
     "execution_count": 39,
     "metadata": {},
     "output_type": "execute_result"
    }
   ],
   "source": [
    "buddy.age"
   ]
  },
  {
   "cell_type": "code",
   "execution_count": 40,
   "id": "3e80552a",
   "metadata": {},
   "outputs": [],
   "source": [
    "miles.species = \"Felis silvestris\""
   ]
  },
  {
   "cell_type": "code",
   "execution_count": 41,
   "id": "50ae1627",
   "metadata": {},
   "outputs": [
    {
     "data": {
      "text/plain": [
       "'Felis silvestris'"
      ]
     },
     "execution_count": 41,
     "metadata": {},
     "output_type": "execute_result"
    }
   ],
   "source": [
    "miles.species"
   ]
  },
  {
   "cell_type": "markdown",
   "id": "8b7dc58d",
   "metadata": {},
   "source": [
    "# Class Definition: Point in 2D Coordinate System\n",
    "\n",
    "##### Define a class called `Point` in a 2D coordinate system.\n",
    "\n",
    "- The class should have an `__init__` method to initialize the point’s `x` and `y` coordinates.\n",
    "- Add an instance method to calculate the distance between two points.\n",
    "- Implement another instance method to display the point’s coordinates as a tuple `(x, y)`.\n",
    "- Add a `locate` method to determine and display which quadrant or axis the point lies on.\n"
   ]
  },
  {
   "cell_type": "code",
   "execution_count": 42,
   "id": "5715a18f",
   "metadata": {},
   "outputs": [],
   "source": [
    "class Point:\n",
    "    pass"
   ]
  },
  {
   "cell_type": "code",
   "execution_count": 43,
   "id": "9d4d069f",
   "metadata": {},
   "outputs": [],
   "source": [
    "import math\n",
    "class Point:\n",
    "    \"\"\"Represent a 2D coordinte system\n",
    "        parametrs:\n",
    "            x --> float\n",
    "            y --> float\n",
    "        \"\"\"\n",
    "    def __init__(self, x: float, y: float ) -> None:\n",
    "        \"\"\"Initialize the coordinte system\n",
    "        parametrs:\n",
    "            x --> float\n",
    "            y --> float\n",
    "        retrun:\n",
    "            None\n",
    "        \"\"\"\n",
    "        self.x = x\n",
    "        self.y = y\n",
    "    def distance(self, p2: 'point') -> float:\n",
    "        \"\"\"To calculate distance between two points\n",
    "        parameter:\n",
    "            x - float\n",
    "            y - float\n",
    "        return\n",
    "            None\n",
    "        \"\"\"\n",
    "        return math.sqrt((self.x-p2.x)**2 + (self.y-p2.y)**2)\n",
    "    def locate(self) -> str:\n",
    "        \"\"\"Returns a string representation of the point's coordinates.\n",
    "        \n",
    "        returns\n",
    "              --> str\n",
    "        \"\"\"\n",
    "        return f\"Point located at ({self.x} and {self.y}) \"\n",
    "    def show(self) -> tuple:\n",
    "        \"\"\"Retrun the Points in Tuple form\n",
    "        return \n",
    "              --> Tuple \n",
    "        \"\"\"\n",
    "        return (self.x, self.y)"
   ]
  },
  {
   "cell_type": "markdown",
   "id": "50936439",
   "metadata": {},
   "source": [
    "# Create Instance\n",
    "##### Define point1 and pass two numbers. "
   ]
  },
  {
   "cell_type": "code",
   "execution_count": 44,
   "id": "5b0f2e4d",
   "metadata": {},
   "outputs": [],
   "source": [
    "p1 = Point(5,8)"
   ]
  },
  {
   "cell_type": "markdown",
   "id": "c17544eb",
   "metadata": {},
   "source": [
    "# Another Instance\n",
    "##### Make another instance of the point class, say its name is p2. "
   ]
  },
  {
   "cell_type": "code",
   "execution_count": 45,
   "id": "765372d9",
   "metadata": {},
   "outputs": [],
   "source": [
    "p2 = Point(7,3)"
   ]
  },
  {
   "cell_type": "markdown",
   "id": "3ff73c14",
   "metadata": {},
   "source": [
    "# Using Print Commant\n",
    "##### Print p1 and p2, for this use the print command and pass the point as input. "
   ]
  },
  {
   "cell_type": "code",
   "execution_count": 46,
   "id": "b23480de",
   "metadata": {},
   "outputs": [
    {
     "name": "stdout",
     "output_type": "stream",
     "text": [
      "<__main__.Point object at 0x000001B5FBCD58D0>\n"
     ]
    }
   ],
   "source": [
    "print(p1)"
   ]
  },
  {
   "cell_type": "code",
   "execution_count": 47,
   "id": "881f15c0",
   "metadata": {},
   "outputs": [
    {
     "name": "stdout",
     "output_type": "stream",
     "text": [
      "<__main__.Point object at 0x000001B5FCD32ED0>\n"
     ]
    }
   ],
   "source": [
    "print(p2)"
   ]
  },
  {
   "cell_type": "markdown",
   "id": "dfc81f9b",
   "metadata": {},
   "source": [
    "# Print\n",
    "##### Also print the location of both points. "
   ]
  },
  {
   "cell_type": "code",
   "execution_count": 48,
   "id": "b87b9d41",
   "metadata": {},
   "outputs": [
    {
     "name": "stdout",
     "output_type": "stream",
     "text": [
      "Point located at (5 and 8) \n"
     ]
    }
   ],
   "source": [
    "print(p1.locate())"
   ]
  },
  {
   "cell_type": "code",
   "execution_count": 49,
   "id": "15511c0c",
   "metadata": {},
   "outputs": [
    {
     "name": "stdout",
     "output_type": "stream",
     "text": [
      "Point located at (7 and 3) \n"
     ]
    }
   ],
   "source": [
    "print(p2.locate())"
   ]
  },
  {
   "cell_type": "markdown",
   "id": "3d7aa906",
   "metadata": {},
   "source": [
    "# Print\n",
    "##### Print the coordinate by using the object and dot operator"
   ]
  },
  {
   "cell_type": "code",
   "execution_count": 50,
   "id": "d1799267",
   "metadata": {},
   "outputs": [
    {
     "name": "stdout",
     "output_type": "stream",
     "text": [
      "Point_1 Coordinates are (5 , 8)\n"
     ]
    }
   ],
   "source": [
    "print(f\"Point_1 Coordinates are ({p1.x} , {p1.y})\")"
   ]
  },
  {
   "cell_type": "code",
   "execution_count": 51,
   "id": "3b17cbee",
   "metadata": {},
   "outputs": [
    {
     "name": "stdout",
     "output_type": "stream",
     "text": [
      "Point_2 Coordinates are (7 , 3)\n"
     ]
    }
   ],
   "source": [
    "print(f\"Point_2 Coordinates are ({p2.x} , {p2.y})\")"
   ]
  },
  {
   "cell_type": "markdown",
   "id": "a4828ddf",
   "metadata": {},
   "source": [
    "# Add New Method and Print\n",
    "##### Add a new method to the point class to effectively print the points. Print both the point using that function. "
   ]
  },
  {
   "cell_type": "code",
   "execution_count": 52,
   "id": "5f59b102",
   "metadata": {},
   "outputs": [
    {
     "name": "stdout",
     "output_type": "stream",
     "text": [
      "Coordinates of p1 is :  (5, 8)\n"
     ]
    }
   ],
   "source": [
    "print(f\"Coordinates of p1 is : \", p1.show())"
   ]
  },
  {
   "cell_type": "code",
   "execution_count": 53,
   "id": "2a2c41b2",
   "metadata": {},
   "outputs": [
    {
     "name": "stdout",
     "output_type": "stream",
     "text": [
      "Coordinates of p2 is :  (7, 3)\n"
     ]
    }
   ],
   "source": [
    "print(f\"Coordinates of p2 is : \", p2.show())"
   ]
  },
  {
   "cell_type": "markdown",
   "id": "5a294c15",
   "metadata": {},
   "source": [
    "# Call the Function\n",
    "##### Calculate the distance between these two ****points****. "
   ]
  },
  {
   "cell_type": "code",
   "execution_count": 54,
   "id": "e748b1c5",
   "metadata": {},
   "outputs": [],
   "source": [
    "Distance = p1.distance(p2)"
   ]
  },
  {
   "cell_type": "code",
   "execution_count": 55,
   "id": "478ec605",
   "metadata": {},
   "outputs": [
    {
     "name": "stdout",
     "output_type": "stream",
     "text": [
      "5.385164807134504\n"
     ]
    }
   ],
   "source": [
    "print(Distance)"
   ]
  },
  {
   "cell_type": "markdown",
   "id": "1d964685-16dd-46ef-ad71-d66df012e7b0",
   "metadata": {},
   "source": [
    "# Print the Dict"
   ]
  },
  {
   "cell_type": "code",
   "execution_count": 56,
   "id": "1aa8d101",
   "metadata": {},
   "outputs": [
    {
     "name": "stdout",
     "output_type": "stream",
     "text": [
      "mappingproxy({'__dict__': <attribute '__dict__' of 'Point' objects>,\n",
      "              '__doc__': 'Represent a 2D coordinte system\\n'\n",
      "                         '        parametrs:\\n'\n",
      "                         '            x --> float\\n'\n",
      "                         '            y --> float\\n'\n",
      "                         '        ',\n",
      "              '__init__': <function Point.__init__ at 0x000001B5FC0FBBA0>,\n",
      "              '__module__': '__main__',\n",
      "              '__weakref__': <attribute '__weakref__' of 'Point' objects>,\n",
      "              'distance': <function Point.distance at 0x000001B5FC0FBEC0>,\n",
      "              'locate': <function Point.locate at 0x000001B5FC0FBA60>,\n",
      "              'show': <function Point.show at 0x000001B5FC0FB6A0>})\n"
     ]
    }
   ],
   "source": [
    "from pprint import pprint\n",
    "pprint(Point.__dict__)"
   ]
  },
  {
   "cell_type": "code",
   "execution_count": 57,
   "id": "40791628",
   "metadata": {},
   "outputs": [
    {
     "name": "stdout",
     "output_type": "stream",
     "text": [
      "{'x': 5, 'y': 8}\n"
     ]
    }
   ],
   "source": [
    "print(p1.__dict__)"
   ]
  },
  {
   "cell_type": "code",
   "execution_count": 58,
   "id": "34799014",
   "metadata": {},
   "outputs": [
    {
     "name": "stdout",
     "output_type": "stream",
     "text": [
      "{'x': 7, 'y': 3}\n"
     ]
    }
   ],
   "source": [
    "print(p2.__dict__)"
   ]
  },
  {
   "cell_type": "markdown",
   "id": "55b2b7b4",
   "metadata": {},
   "source": [
    "j. Pass the class name to help. "
   ]
  },
  {
   "cell_type": "code",
   "execution_count": 59,
   "id": "c06105e6",
   "metadata": {},
   "outputs": [
    {
     "name": "stdout",
     "output_type": "stream",
     "text": [
      "Help on class Point in module __main__:\n",
      "\n",
      "class Point(builtins.object)\n",
      " |  Point(x: float, y: float) -> None\n",
      " |  \n",
      " |  Represent a 2D coordinte system\n",
      " |  parametrs:\n",
      " |      x --> float\n",
      " |      y --> float\n",
      " |  \n",
      " |  Methods defined here:\n",
      " |  \n",
      " |  __init__(self, x: float, y: float) -> None\n",
      " |      Initialize the coordinte system\n",
      " |      parametrs:\n",
      " |          x --> float\n",
      " |          y --> float\n",
      " |      retrun:\n",
      " |          None\n",
      " |  \n",
      " |  distance(self, p2: 'point') -> float\n",
      " |      To calculate distance between two points\n",
      " |      parameter:\n",
      " |          x - float\n",
      " |          y - float\n",
      " |      return\n",
      " |          None\n",
      " |  \n",
      " |  locate(self) -> str\n",
      " |      Returns a string representation of the point's coordinates.\n",
      " |      \n",
      " |      returns\n",
      " |            --> str\n",
      " |  \n",
      " |  show(self) -> tuple\n",
      " |      Retrun the Points in Tuple form\n",
      " |      return \n",
      " |            --> Tuple\n",
      " |  \n",
      " |  ----------------------------------------------------------------------\n",
      " |  Data descriptors defined here:\n",
      " |  \n",
      " |  __dict__\n",
      " |      dictionary for instance variables (if defined)\n",
      " |  \n",
      " |  __weakref__\n",
      " |      list of weak references to the object (if defined)\n",
      "\n"
     ]
    }
   ],
   "source": [
    "help(Point)"
   ]
  },
  {
   "cell_type": "markdown",
   "id": "ae98965a-663f-4944-b986-ddaf429117c1",
   "metadata": {},
   "source": [
    "# Print the ***docstring***"
   ]
  },
  {
   "cell_type": "code",
   "execution_count": 60,
   "id": "775bbb7d",
   "metadata": {},
   "outputs": [
    {
     "name": "stdout",
     "output_type": "stream",
     "text": [
      "docstring of class named (Point)\n",
      "Represent a 2D coordinte system\n",
      "        parametrs:\n",
      "            x --> float\n",
      "            y --> float\n",
      "        \n",
      "docstring of __init__ methode\n",
      "Initialize the coordinte system\n",
      "        parametrs:\n",
      "            x --> float\n",
      "            y --> float\n",
      "        retrun:\n",
      "            None\n",
      "        \n",
      "docstring of distance instance methode\n",
      "To calculate distance between two points\n",
      "        parameter:\n",
      "            x - float\n",
      "            y - float\n",
      "        return\n",
      "            None\n",
      "        \n",
      "docstring of locate instance methode\n",
      "Returns a string representation of the point's coordinates.\n",
      "        \n",
      "        returns\n",
      "              --> str\n",
      "        \n",
      "docstring of show instance methode\n",
      "Retrun the Points in Tuple form\n",
      "        return \n",
      "              --> Tuple \n",
      "        \n"
     ]
    }
   ],
   "source": [
    "print('docstring of class named (Point)')\n",
    "print(Point.__doc__)\n",
    "print('docstring of __init__ methode')\n",
    "print(Point.__init__.__doc__)\n",
    "print('docstring of distance instance methode')\n",
    "print(Point.distance.__doc__)\n",
    "print('docstring of locate instance methode')\n",
    "print(Point.locate.__doc__)\n",
    "print('docstring of show instance methode')\n",
    "print(Point.show.__doc__)"
   ]
  },
  {
   "cell_type": "markdown",
   "id": "7d42e488",
   "metadata": {},
   "source": [
    "# Modified Class Definition: Point in 2D Coordinate System with Default Parameters\n",
    "\n",
    "##### Modify the `Point` class to provide default values for the parameters, initializing the point to the origin `(0, 0)` if no parameters are provided.\n"
   ]
  },
  {
   "cell_type": "code",
   "execution_count": 61,
   "id": "39831af0",
   "metadata": {},
   "outputs": [],
   "source": [
    "import math\n",
    "class Point:\n",
    "    \"\"\"Represent a 2D coordinte system\n",
    "        parametrs:\n",
    "            x --> float\n",
    "            y --> float\n",
    "        \"\"\"\n",
    "    def __init__(self, x: float = 0, y: float = 0 ) -> None:\n",
    "        \"\"\"Initialize the coordinte system\n",
    "        Default parametrs:\n",
    "            x --> float = 0\n",
    "            y --> float = 0\n",
    "        retrun:\n",
    "            None\n",
    "        \"\"\"\n",
    "        self.x = x\n",
    "        self.y = y\n",
    "    def distance(self, p2: 'point') -> float:\n",
    "        \"\"\"To calculate distance between two points\n",
    "        parameter:\n",
    "            x - float\n",
    "            y - float\n",
    "        return\n",
    "            None\n",
    "        \"\"\"\n",
    "        return math.sqrt((self.x-p2.x)**2 + (self.y-p2.y)**2)\n",
    "    def locate(self) -> str:\n",
    "        \"\"\"Returns a string representation of the point's coordinates.\n",
    "        \n",
    "        returns\n",
    "              --> str\n",
    "        \"\"\"\n",
    "        return f\"Point located at ({self.x} and {self.y}) \"\n",
    "    def show(self) -> tuple:\n",
    "        \"\"\"Retrun the Points in Tuple form\n",
    "        return \n",
    "              --> Tuple \n",
    "        \"\"\"\n",
    "        return (self.x, self.y)\n",
    "    def __str__(self):\n",
    "        return f\"The points of coordinate are: (x -> {self.x}, y -> {self.y})\""
   ]
  },
  {
   "cell_type": "markdown",
   "id": "a622dc01",
   "metadata": {},
   "source": [
    "# Add Instance\n",
    "#### Define point_1 by passing two arguments and print their values by using the dot\n",
    "##### operator and also by calling the show function. "
   ]
  },
  {
   "cell_type": "code",
   "execution_count": 62,
   "id": "4815007e",
   "metadata": {},
   "outputs": [],
   "source": [
    "point_1 = Point(3,5)"
   ]
  },
  {
   "cell_type": "code",
   "execution_count": 63,
   "id": "06583914",
   "metadata": {},
   "outputs": [
    {
     "name": "stdout",
     "output_type": "stream",
     "text": [
      "Point_1 has coordinates: (3 , 5)\n"
     ]
    }
   ],
   "source": [
    "print(f\"Point_1 has coordinates: ({point_1.x} , {point_1.y})\")"
   ]
  },
  {
   "cell_type": "code",
   "execution_count": 64,
   "id": "35ca26d9",
   "metadata": {},
   "outputs": [
    {
     "name": "stdout",
     "output_type": "stream",
     "text": [
      "Point_1 has coordinates: (3, 5)\n"
     ]
    }
   ],
   "source": [
    "print(f\"Point_1 has coordinates: {point_1.show()}\")"
   ]
  },
  {
   "cell_type": "markdown",
   "id": "b700111f",
   "metadata": {},
   "source": [
    "# Add Object\n",
    "#### Define another object with the name point_2 and pass one argument. Display its value\n",
    "##### by calling the show method. "
   ]
  },
  {
   "cell_type": "code",
   "execution_count": 65,
   "id": "5cd66879",
   "metadata": {},
   "outputs": [],
   "source": [
    "point_2 = Point(6)"
   ]
  },
  {
   "cell_type": "code",
   "execution_count": 66,
   "id": "1ccfe15d",
   "metadata": {},
   "outputs": [
    {
     "name": "stdout",
     "output_type": "stream",
     "text": [
      "Point_1 has coordinates: (6, 0)\n"
     ]
    }
   ],
   "source": [
    "print(f\"Point_1 has coordinates: {point_2.show()}\")"
   ]
  },
  {
   "cell_type": "markdown",
   "id": "864d3248",
   "metadata": {},
   "source": [
    "# Add Object with no Argument\n",
    "#### Define another object with the name point_3 and pass no argument. Display its value by\n",
    "##### calling the show method. "
   ]
  },
  {
   "cell_type": "code",
   "execution_count": 67,
   "id": "4a73fd18",
   "metadata": {},
   "outputs": [],
   "source": [
    "point_3 = Point()"
   ]
  },
  {
   "cell_type": "code",
   "execution_count": 68,
   "id": "14c9a5f1",
   "metadata": {},
   "outputs": [
    {
     "name": "stdout",
     "output_type": "stream",
     "text": [
      "Point_1 has coordinates: (0, 0)\n"
     ]
    }
   ],
   "source": [
    "print(f\"Point_1 has coordinates: {point_3.show()}\")"
   ]
  },
  {
   "cell_type": "code",
   "execution_count": 69,
   "id": "afd7dd5f",
   "metadata": {},
   "outputs": [
    {
     "name": "stdout",
     "output_type": "stream",
     "text": [
      "The points of coordinate are: (x -> 3, y -> 5)\n"
     ]
    }
   ],
   "source": [
    "print(point_1)"
   ]
  }
 ],
 "metadata": {
  "kernelspec": {
   "display_name": "Python 3 (ipykernel)",
   "language": "python",
   "name": "python3"
  },
  "language_info": {
   "codemirror_mode": {
    "name": "ipython",
    "version": 3
   },
   "file_extension": ".py",
   "mimetype": "text/x-python",
   "name": "python",
   "nbconvert_exporter": "python",
   "pygments_lexer": "ipython3",
   "version": "3.9.20"
  }
 },
 "nbformat": 4,
 "nbformat_minor": 5
}
