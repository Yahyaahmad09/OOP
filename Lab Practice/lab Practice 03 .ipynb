{
 "cells": [
  {
   "cell_type": "markdown",
   "id": "140b7534-7f1a-44e2-9832-0ed63c53bc4b",
   "metadata": {},
   "source": [
    "# Lab Practice Details\n",
    "\n",
    "| **Field**        | **Details**         |\n",
    "|-------------------|---------------------|\n",
    "| **Name**         | Yahya Ahmad         |\n",
    "| **Req No**       | 23jzele0528         |\n",
    "| **Lab Practice** | 02                  |"
   ]
  },
  {
   "cell_type": "markdown",
   "id": "af8dfd63-f11d-4f8e-b620-2b80c0f6ba43",
   "metadata": {},
   "source": [
    "# Creating a List of Integers in Python\n",
    "\n",
    "### **Objective:**\n",
    "Learn how to create a list of integers in Python. Lists in Python are used to store multiple items in a single variable, and they can hold different types of data, including integers."
   ]
  },
  {
   "cell_type": "code",
   "execution_count": 15,
   "id": "f2722fc4-4463-4fa6-b626-dfe7bbd08927",
   "metadata": {},
   "outputs": [
    {
     "name": "stdout",
     "output_type": "stream",
     "text": [
      "[1, 2, 3, 4, 5]\n"
     ]
    }
   ],
   "source": [
    "lst1 = [1,2,3,4,5]\n",
    "print(lst1)"
   ]
  },
  {
   "cell_type": "markdown",
   "id": "0971b5cd-2c8d-4478-8c4e-b9692fef854b",
   "metadata": {},
   "source": [
    "# Creating a List of Integers and Nested Lists in Python\n",
    "\n",
    "### **Objective:**\n",
    "Learn how to create a list of integers and a nested list that contains the student's name, the last four digits of the registration number, CGPA as a float, and a list containing the GPA of all semesters."
   ]
  },
  {
   "cell_type": "code",
   "execution_count": 16,
   "id": "40fa42fe-f458-432b-9a38-dddaa98abf1b",
   "metadata": {},
   "outputs": [
    {
     "name": "stdout",
     "output_type": "stream",
     "text": [
      "['Yahya', 528, 3.91, [3.86, 3.95]]\n"
     ]
    }
   ],
   "source": [
    "student = ['Yahya', 528, 3.91, [3.86,3.95]]\n",
    "print(student)"
   ]
  },
  {
   "cell_type": "markdown",
   "id": "6fe1776a-fb16-4065-9040-8ac6425fd77a",
   "metadata": {},
   "source": [
    "# Accessing and Printing the Student's CGPA from a Nested List\n",
    "\n",
    "### **Objective:**\n",
    "Learn how to access and print the student's CGPA from a nested list using indexing."
   ]
  },
  {
   "cell_type": "code",
   "execution_count": 17,
   "id": "55707759-30f9-46d9-a536-6790460f78e8",
   "metadata": {},
   "outputs": [
    {
     "name": "stdout",
     "output_type": "stream",
     "text": [
      "3.91\n"
     ]
    }
   ],
   "source": [
    "print(student[2])"
   ]
  },
  {
   "cell_type": "markdown",
   "id": "3d7dfcc4-39c2-495d-95b7-c8009067112e",
   "metadata": {},
   "source": [
    "# Printing List Elements Using a `while` Loop and the `len()` Function\n",
    "\n",
    "### **Objective:**\n",
    "Learn how to print the elements of a list using a `while` loop and the `len()` function in Python."
   ]
  },
  {
   "cell_type": "code",
   "execution_count": 19,
   "id": "cb1447ac-3660-4f16-ad69-4cc341e73a36",
   "metadata": {},
   "outputs": [
    {
     "name": "stdout",
     "output_type": "stream",
     "text": [
      "Yahya\n",
      "528\n",
      "3.91\n",
      "[3.86, 3.95]\n"
     ]
    }
   ],
   "source": [
    "i = 0\n",
    "while i < len(student):\n",
    "    print(student[i])\n",
    "    i += 1"
   ]
  },
  {
   "cell_type": "code",
   "execution_count": 20,
   "id": "0cab98df-c512-4c17-8235-3ffe8243618f",
   "metadata": {},
   "outputs": [
    {
     "name": "stdout",
     "output_type": "stream",
     "text": [
      "['Yahya', 528, 3.91, [3.86, 3.95]]\n"
     ]
    }
   ],
   "source": [
    "print(student)"
   ]
  },
  {
   "cell_type": "markdown",
   "id": "16c05201-0cd9-46cb-adaf-ee2b3a0cea58",
   "metadata": {},
   "source": [
    "# Accessing List Elements Using Negative Indexing\n",
    "\n",
    "### **Objective:**\n",
    "Learn how to access the list of all semester GPAs using negative indexing in Python."
   ]
  },
  {
   "cell_type": "code",
   "execution_count": 15,
   "id": "5e1d599d-2905-4620-ba91-dc10b4590ab8",
   "metadata": {},
   "outputs": [
    {
     "data": {
      "text/plain": [
       "[3.86, 3.95]"
      ]
     },
     "execution_count": 15,
     "metadata": {},
     "output_type": "execute_result"
    }
   ],
   "source": [
    "student[-1]"
   ]
  },
  {
   "cell_type": "markdown",
   "id": "71dfd543-a026-4bc1-a45c-795641b9d9b3",
   "metadata": {},
   "source": [
    "# Creating a List of the First 20 Integers Using the `range()` Function\n",
    "\n",
    "### **Objective:**\n",
    "Learn how to create a list of the first 20 integers using the `range()` function in Python.\n"
   ]
  },
  {
   "cell_type": "code",
   "execution_count": 64,
   "id": "2f9f45cd-8cdd-4d54-98a2-18a979269a5d",
   "metadata": {},
   "outputs": [
    {
     "name": "stdout",
     "output_type": "stream",
     "text": [
      "[1, 2, 3, 4, 5, 6, 7, 8, 9, 10, 11, 12, 13, 14, 15, 16, 17, 18, 19, 20]\n"
     ]
    }
   ],
   "source": [
    "lst2 = [x for x in range(1,21)]\n",
    "print(lst2)"
   ]
  },
  {
   "cell_type": "markdown",
   "id": "289bed7c-cb9a-4424-a6ac-4a633d4c5596",
   "metadata": {},
   "source": [
    "# Creating a List of Odd Integers from 20 to 40 Using the `range()` Function\n",
    "\n",
    "### **Objective:**\n",
    "Learn how to create a list of odd integers from 20 to 40 using the `range()` function in Python."
   ]
  },
  {
   "cell_type": "code",
   "execution_count": 25,
   "id": "f5f082c4-e3d8-40b0-9e40-ac20efe5eacf",
   "metadata": {},
   "outputs": [
    {
     "name": "stdout",
     "output_type": "stream",
     "text": [
      "[21, 23, 25, 27, 29, 31, 33, 35, 37, 39]\n"
     ]
    }
   ],
   "source": [
    "lst3 = [x for x in range(20,40) if x % 2 != 0]\n",
    "print(lst3)"
   ]
  },
  {
   "cell_type": "markdown",
   "id": "49912396-5519-4609-9b0d-2dda29df9b92",
   "metadata": {},
   "source": [
    "# Checking Student Membership in a List Using `in` and `not in` Operators\n",
    "\n",
    "### **Objective:**\n",
    "Learn how to use the `in` and `not in` operators to check whether a student is in the list or not.\n"
   ]
  },
  {
   "cell_type": "code",
   "execution_count": 9,
   "id": "84e0783a-7980-4568-85b7-e9d6138ba11b",
   "metadata": {},
   "outputs": [],
   "source": [
    "Students = ['Ibrahim', 'Husain', 'Irfan', 'Ayub', 'Usman']"
   ]
  },
  {
   "cell_type": "code",
   "execution_count": 11,
   "id": "92952bb6-7f2d-4ae2-8b40-48bc55ac4735",
   "metadata": {},
   "outputs": [
    {
     "name": "stdout",
     "output_type": "stream",
     "text": [
      "False\n",
      "True\n",
      "True\n",
      "True\n"
     ]
    }
   ],
   "source": [
    "print('Ibrahim1' in Students)\n",
    "print('yahya' not in Students)\n",
    "print('Ayub' in Students)\n",
    "print('usman' not in Students)"
   ]
  },
  {
   "cell_type": "code",
   "execution_count": 12,
   "id": "6fc9a644-90da-4f9c-b39b-028716c7ee8b",
   "metadata": {},
   "outputs": [
    {
     "name": "stdout",
     "output_type": "stream",
     "text": [
      "True\n"
     ]
    }
   ],
   "source": [
    "print('Numan' not in Students)"
   ]
  },
  {
   "cell_type": "markdown",
   "id": "38046897-fb3a-49f8-aa12-5dc86af66a87",
   "metadata": {},
   "source": [
    "# Printing All Students from the List Using a `for` Loop\n",
    "\n",
    "### **Objective:**\n",
    "Learn how to iterate over a list of students using a `for` loop and print each student's name.\n"
   ]
  },
  {
   "cell_type": "code",
   "execution_count": null,
   "id": "263f684f-0240-493a-815f-06ae220b6c62",
   "metadata": {},
   "outputs": [],
   "source": [
    "for i in Students:\n",
    "    print(i)"
   ]
  },
  {
   "cell_type": "markdown",
   "id": "e6192cb1-5329-4519-aea4-8df68f92de56",
   "metadata": {},
   "source": [
    "# Observing List Slicing in the `students` List\n",
    "\n",
    "### **Objective:**\n",
    "Learn how to use slicing on a list to print specific sections of the list. In this case, we will observe what is printed when using the slices `students[1:3]` and `students[2:4]`."
   ]
  },
  {
   "cell_type": "code",
   "execution_count": 15,
   "id": "507c005c-261e-4a4f-9fda-512eb0cd1213",
   "metadata": {},
   "outputs": [
    {
     "data": {
      "text/plain": [
       "['Husain', 'Irfan']"
      ]
     },
     "execution_count": 15,
     "metadata": {},
     "output_type": "execute_result"
    }
   ],
   "source": [
    "Students [1:3]"
   ]
  },
  {
   "cell_type": "code",
   "execution_count": 16,
   "id": "56f4a846-add4-492a-8baf-285c9a2c21e8",
   "metadata": {},
   "outputs": [
    {
     "data": {
      "text/plain": [
       "['Irfan', 'Ayub']"
      ]
     },
     "execution_count": 16,
     "metadata": {},
     "output_type": "execute_result"
    }
   ],
   "source": [
    "Students [2:4]"
   ]
  },
  {
   "cell_type": "markdown",
   "id": "da68cf9b-1d23-48b7-83a4-cf9ad21526c9",
   "metadata": {},
   "source": [
    "# Demonstrating List Mutator Methods in Python\n",
    "\n",
    "### **Objective:**\n",
    "Learn how to use various mutator methods in Python to modify lists. These methods include `.append()`, `.extend()`, `.insert()`, `.remove()`, and `.pop()`.\n",
    "\n",
    "### **List Mutator Methods Overview:**\n",
    "- `.append(obj)`: Adds a single item (`obj`) to the end of the list.\n",
    "- `.extend(iterable)`: Adds all elements of an iterable (e.g., another list) to the end of the list.\n",
    "- `.insert(index, obj)`: Inserts a single item (`obj`) at the specified index.\n",
    "- `.remove(obj)`: Removes the first occurrence of the specified item (`obj`).\n",
    "- `.pop([index=-1])`: Removes and returns the item at the specified index (default is the last item)."
   ]
  },
  {
   "cell_type": "code",
   "execution_count": 41,
   "id": "b745df8d-6893-41d7-a048-e10cea3e961c",
   "metadata": {},
   "outputs": [
    {
     "data": {
      "text/plain": [
       "['a', 'b', 'c', 'd', 'e', 'f']"
      ]
     },
     "execution_count": 41,
     "metadata": {},
     "output_type": "execute_result"
    }
   ],
   "source": [
    "lst5 = ['a','b','c','d','e','f']\n",
    "lst5"
   ]
  },
  {
   "cell_type": "code",
   "execution_count": 42,
   "id": "e16d05d1-40aa-4765-8ada-92db0b49fe67",
   "metadata": {},
   "outputs": [
    {
     "data": {
      "text/plain": [
       "['a', 'b', 'c', 'd', 'e', 'f', 'g']"
      ]
     },
     "execution_count": 42,
     "metadata": {},
     "output_type": "execute_result"
    }
   ],
   "source": [
    "lst5.append('g')\n",
    "lst5"
   ]
  },
  {
   "cell_type": "code",
   "execution_count": 43,
   "id": "0f14bfde-7c52-4a6a-bcf1-4a8eeb377ee3",
   "metadata": {},
   "outputs": [
    {
     "data": {
      "text/plain": [
       "['a', 'b', 'c', 'd', 'e', 'f', 'g', 'h']"
      ]
     },
     "execution_count": 43,
     "metadata": {},
     "output_type": "execute_result"
    }
   ],
   "source": [
    "lst5.extend('h')\n",
    "lst5"
   ]
  },
  {
   "cell_type": "code",
   "execution_count": 44,
   "id": "eee9684b-ce09-490e-9426-4cc625c6cd88",
   "metadata": {},
   "outputs": [
    {
     "data": {
      "text/plain": [
       "['a', 'b', 'x', 'c', 'd', 'e', 'f', 'g', 'h']"
      ]
     },
     "execution_count": 44,
     "metadata": {},
     "output_type": "execute_result"
    }
   ],
   "source": [
    "lst5.insert(2, 'x')\n",
    "lst5"
   ]
  },
  {
   "cell_type": "code",
   "execution_count": 35,
   "id": "65e644a1-bcd5-48c9-8387-2d8777e7c019",
   "metadata": {},
   "outputs": [
    {
     "data": {
      "text/plain": [
       "['a', 'b', 'c', 'd', 'e', 'f', 'g', 'h']"
      ]
     },
     "execution_count": 35,
     "metadata": {},
     "output_type": "execute_result"
    }
   ],
   "source": [
    "lst5.remove('x')\n",
    "lst5"
   ]
  },
  {
   "cell_type": "code",
   "execution_count": 36,
   "id": "37f7bdf9-bc80-4cc7-af0e-7dc80dba35d8",
   "metadata": {},
   "outputs": [
    {
     "data": {
      "text/plain": [
       "'h'"
      ]
     },
     "execution_count": 36,
     "metadata": {},
     "output_type": "execute_result"
    }
   ],
   "source": [
    "lst5.pop(-1)"
   ]
  },
  {
   "cell_type": "markdown",
   "id": "f9a83fe3-f13d-488d-852e-8aca8dd47ed5",
   "metadata": {},
   "source": [
    "# List Indexing and Accessing Elements in Nested Lists\n",
    "\n",
    "### **Objective:**\n",
    "Use list indexing to access each element in a nested list. In this case, we will work with a list `x` that contains multiple levels of nested lists and access each element.\n"
   ]
  },
  {
   "cell_type": "code",
   "execution_count": 47,
   "id": "35ad1d12-03aa-4fe2-b7c6-30cb660d77fc",
   "metadata": {},
   "outputs": [],
   "source": [
    "x = [\"a\", [\"bb\", [\"ccc\", \"ddd\"], \"ee\", \"ff\"], \"g\", [\"hh\", \"ii\"], \"j\"]"
   ]
  },
  {
   "cell_type": "code",
   "execution_count": 48,
   "id": "c5c50377-a43e-4116-834b-f5321ede5b69",
   "metadata": {},
   "outputs": [
    {
     "name": "stdout",
     "output_type": "stream",
     "text": [
      "a\n"
     ]
    }
   ],
   "source": [
    "print(x[0])"
   ]
  },
  {
   "cell_type": "code",
   "execution_count": 49,
   "id": "8679250d-5562-4522-aec9-3bb9e6f5376b",
   "metadata": {},
   "outputs": [
    {
     "name": "stdout",
     "output_type": "stream",
     "text": [
      "bb\n"
     ]
    }
   ],
   "source": [
    "print(x[1][0])"
   ]
  },
  {
   "cell_type": "code",
   "execution_count": 50,
   "id": "85b6eadf-64f6-4d1b-a8ff-2d1cdc2416fb",
   "metadata": {},
   "outputs": [
    {
     "name": "stdout",
     "output_type": "stream",
     "text": [
      "ccc\n"
     ]
    }
   ],
   "source": [
    "print(x[1][1][0])"
   ]
  },
  {
   "cell_type": "code",
   "execution_count": 51,
   "id": "4ad9b574-dc02-4f20-98e9-d589da705cca",
   "metadata": {},
   "outputs": [
    {
     "name": "stdout",
     "output_type": "stream",
     "text": [
      "ddd\n"
     ]
    }
   ],
   "source": [
    "print(x[1][1][1])"
   ]
  },
  {
   "cell_type": "code",
   "execution_count": 58,
   "id": "092d2116-3d64-4a76-9d43-3935c67e1bb5",
   "metadata": {},
   "outputs": [
    {
     "name": "stdout",
     "output_type": "stream",
     "text": [
      "ee\n"
     ]
    }
   ],
   "source": [
    "print(x[1][2])"
   ]
  },
  {
   "cell_type": "code",
   "execution_count": 59,
   "id": "5e802974-920d-4748-afcb-9a2ab9b18f04",
   "metadata": {},
   "outputs": [
    {
     "name": "stdout",
     "output_type": "stream",
     "text": [
      "ff\n"
     ]
    }
   ],
   "source": [
    "print(x[1][3])"
   ]
  },
  {
   "cell_type": "code",
   "execution_count": 60,
   "id": "319f67b5-5acf-4bab-b9ba-0cd0e360af89",
   "metadata": {},
   "outputs": [
    {
     "name": "stdout",
     "output_type": "stream",
     "text": [
      "g\n"
     ]
    }
   ],
   "source": [
    "print(x[2])"
   ]
  },
  {
   "cell_type": "code",
   "execution_count": 61,
   "id": "f85ac34f-6faa-44a3-b770-e214449279df",
   "metadata": {},
   "outputs": [
    {
     "name": "stdout",
     "output_type": "stream",
     "text": [
      "hh\n"
     ]
    }
   ],
   "source": [
    "print(x[3][0])"
   ]
  },
  {
   "cell_type": "code",
   "execution_count": 62,
   "id": "1a46420c-1c0f-47f9-9564-e5de031a8c52",
   "metadata": {},
   "outputs": [
    {
     "name": "stdout",
     "output_type": "stream",
     "text": [
      "ii\n"
     ]
    }
   ],
   "source": [
    "print(x[3][1])"
   ]
  },
  {
   "cell_type": "code",
   "execution_count": 63,
   "id": "d0202e00-426b-4555-8d57-8239e71b825e",
   "metadata": {},
   "outputs": [
    {
     "name": "stdout",
     "output_type": "stream",
     "text": [
      "j\n"
     ]
    }
   ],
   "source": [
    "print(x[4])"
   ]
  },
  {
   "cell_type": "markdown",
   "id": "c18153bf-6d7e-4c93-bd15-5e4c02a0b82b",
   "metadata": {},
   "source": [
    "# Tuple and List Operations\n",
    "\n",
    "### **Objective:**\n",
    "Demonstrate the creation of tuples, accessing elements using indexes, and illustrating the differences between mutable lists and immutable tuples.\n",
    "\n",
    "### **Task 1: Make a Tuple Containing the First Five Letters of the English Alphabet**\n",
    "\n",
    "```python\n",
    "letters = ('a', 'b', 'c', 'd', 'e')"
   ]
  },
  {
   "cell_type": "code",
   "execution_count": 1,
   "id": "47dedb2d-1eeb-4b94-ad47-97ea1df70af3",
   "metadata": {},
   "outputs": [],
   "source": [
    "tpl1 = ('a','b','c','d','e')"
   ]
  },
  {
   "cell_type": "code",
   "execution_count": 2,
   "id": "bdf93c8a-6f45-4c4c-bbf9-5f0443d220c3",
   "metadata": {},
   "outputs": [
    {
     "data": {
      "text/plain": [
       "('a', 'b', 'c', 'd', 'e')"
      ]
     },
     "execution_count": 2,
     "metadata": {},
     "output_type": "execute_result"
    }
   ],
   "source": [
    "tpl1"
   ]
  },
  {
   "cell_type": "code",
   "execution_count": 3,
   "id": "9e88a1a9-3766-45a0-b7dd-97da46f8cabe",
   "metadata": {},
   "outputs": [
    {
     "data": {
      "text/plain": [
       "'c'"
      ]
     },
     "execution_count": 3,
     "metadata": {},
     "output_type": "execute_result"
    }
   ],
   "source": [
    "tpl1[2]"
   ]
  },
  {
   "cell_type": "code",
   "execution_count": 4,
   "id": "1ad5c1e1-3cc4-43a1-99b2-c38ff8d7b682",
   "metadata": {},
   "outputs": [
    {
     "data": {
      "text/plain": [
       "'e'"
      ]
     },
     "execution_count": 4,
     "metadata": {},
     "output_type": "execute_result"
    }
   ],
   "source": [
    "tpl1[4]"
   ]
  },
  {
   "cell_type": "code",
   "execution_count": 11,
   "id": "6b692fa4-fc7e-4736-9302-e3fa0967f380",
   "metadata": {},
   "outputs": [],
   "source": [
    "lst1 = ['a', 'b', 'c', 'd', 'e']"
   ]
  },
  {
   "cell_type": "code",
   "execution_count": 12,
   "id": "a15c5f9d-10d3-4ece-acaf-163e6b5f51df",
   "metadata": {},
   "outputs": [
    {
     "data": {
      "text/plain": [
       "['a', 'b', 'c', 'd', 'e']"
      ]
     },
     "execution_count": 12,
     "metadata": {},
     "output_type": "execute_result"
    }
   ],
   "source": [
    "lst1"
   ]
  },
  {
   "cell_type": "code",
   "execution_count": 13,
   "id": "e3fd50b7-13a2-497d-951e-01b42107b97f",
   "metadata": {},
   "outputs": [
    {
     "name": "stdout",
     "output_type": "stream",
     "text": [
      "['a', 'b', 'c', 'd', 'e', 'f']\n"
     ]
    }
   ],
   "source": [
    "# .append()\n",
    "lst1.append('f')    # list is mutable\n",
    "print(lst1)"
   ]
  },
  {
   "cell_type": "code",
   "execution_count": null,
   "id": "d60ea03e-b356-4b2e-9acb-1597e4b5a494",
   "metadata": {},
   "outputs": [],
   "source": [
    "# .append()\n",
    "tpl1.append('f')    # tuple is immutable\n",
    "print(tpl1)"
   ]
  },
  {
   "cell_type": "code",
   "execution_count": 16,
   "id": "573e5a70-8fe9-4bc1-9ab8-759872fbd3af",
   "metadata": {},
   "outputs": [
    {
     "name": "stdout",
     "output_type": "stream",
     "text": [
      "['a', 'b', 'c', 'd', 'f']\n"
     ]
    }
   ],
   "source": [
    "# .remvoe()\n",
    "lst1.remove('e')   # mutabled\n",
    "print(lst1)"
   ]
  },
  {
   "cell_type": "code",
   "execution_count": null,
   "id": "38d4f0cb-9290-4ca3-b7b4-aa432d5b129f",
   "metadata": {
    "scrolled": true
   },
   "outputs": [],
   "source": [
    "tpl1.remvoe('e')    # immutable\n",
    "print(tpl1)"
   ]
  },
  {
   "cell_type": "code",
   "execution_count": 20,
   "id": "c58f8e05-d560-4f6b-bc6b-c243f691afb0",
   "metadata": {},
   "outputs": [
    {
     "data": {
      "text/plain": [
       "['a', 'b', 'e', 'd', 'f']"
      ]
     },
     "execution_count": 20,
     "metadata": {},
     "output_type": "execute_result"
    }
   ],
   "source": [
    "lst1[2] = 'e'   # mutable\n",
    "lst1"
   ]
  },
  {
   "cell_type": "code",
   "execution_count": null,
   "id": "2b376ea4-ff77-4fc5-b73c-1ddad7f5730b",
   "metadata": {},
   "outputs": [],
   "source": [
    "tpl1[0] = 'x'   # immutable\n",
    "tpl1"
   ]
  },
  {
   "cell_type": "code",
   "execution_count": 18,
   "id": "f4a2d47c-6723-44ae-b48b-e71b34d67663",
   "metadata": {},
   "outputs": [
    {
     "data": {
      "text/plain": [
       "(1, 2, 3, 4)"
      ]
     },
     "execution_count": 18,
     "metadata": {},
     "output_type": "execute_result"
    }
   ],
   "source": [
    "num = (1, 2, 3, 4)   # immutable\n",
    "num"
   ]
  },
  {
   "cell_type": "code",
   "execution_count": null,
   "id": "6f8ab332-a73f-4d63-a973-af5d79cfdc70",
   "metadata": {},
   "outputs": [],
   "source": [
    "num[2] = 9"
   ]
  },
  {
   "cell_type": "markdown",
   "id": "b0c29c7a-db70-4cfd-a2e8-f95ed104d934",
   "metadata": {},
   "source": [
    "# Dictionary Operations in Python\n",
    "\n",
    "### **Objective:**\n",
    "Learn and observe different dictionary operations such as adding, deleting, accessing elements, and using built-in dictionary methods in Python.\n",
    "\n",
    "### **Task 1: Dictionary Initialization and Access**\n",
    "\n",
    "```python\n",
    "Fd = {'one': 'aik', 'three': 'teen', 'ten': 'das', 'fifteen': 'pandra'}\n",
    "\n"
   ]
  },
  {
   "cell_type": "code",
   "execution_count": 66,
   "id": "ca544096-4078-4ea6-8810-c9b2c42a1cc8",
   "metadata": {},
   "outputs": [
    {
     "name": "stdout",
     "output_type": "stream",
     "text": [
      "<class 'dict'>\n"
     ]
    }
   ],
   "source": [
    "fd= { 'one': 'aik', 'three': 'teen', 'ten' : 'das', 'fifteen' : 'pandra'}\n",
    "print(type({}))"
   ]
  },
  {
   "cell_type": "code",
   "execution_count": 36,
   "id": "00880399-bc4c-4157-a25e-f02f5a9c7ece",
   "metadata": {},
   "outputs": [
    {
     "name": "stdout",
     "output_type": "stream",
     "text": [
      "{'one': 'aik', 'three': 'teen', 'ten': 'das', 'fifteen': 'pandra'}\n"
     ]
    }
   ],
   "source": [
    "print(fd)"
   ]
  },
  {
   "cell_type": "code",
   "execution_count": 37,
   "id": "87401bcd-d52c-4e90-a313-2971c1806302",
   "metadata": {},
   "outputs": [
    {
     "data": {
      "text/plain": [
       "'aik'"
      ]
     },
     "execution_count": 37,
     "metadata": {},
     "output_type": "execute_result"
    }
   ],
   "source": [
    "fd['one']"
   ]
  },
  {
   "cell_type": "code",
   "execution_count": 38,
   "id": "3c4d3568-9170-44e3-b8eb-5a81c26e7bbc",
   "metadata": {},
   "outputs": [
    {
     "data": {
      "text/plain": [
       "'das'"
      ]
     },
     "execution_count": 38,
     "metadata": {},
     "output_type": "execute_result"
    }
   ],
   "source": [
    "fd['ten']"
   ]
  },
  {
   "cell_type": "code",
   "execution_count": 39,
   "id": "8594c297-67d4-4e86-a861-bb06d812f3af",
   "metadata": {},
   "outputs": [
    {
     "name": "stdout",
     "output_type": "stream",
     "text": [
      "{'one': 'aik', 'ten': 'das', 'fifteen': 'pandra'}\n"
     ]
    }
   ],
   "source": [
    "del fd['three']\n",
    "print(fd)"
   ]
  },
  {
   "cell_type": "code",
   "execution_count": 40,
   "id": "2ce42427-51d1-450f-9f2c-84c32e7f0e5e",
   "metadata": {},
   "outputs": [
    {
     "data": {
      "text/plain": [
       "3"
      ]
     },
     "execution_count": 40,
     "metadata": {},
     "output_type": "execute_result"
    }
   ],
   "source": [
    "len(fd)"
   ]
  },
  {
   "cell_type": "code",
   "execution_count": 41,
   "id": "164bfe60-1af5-42ec-b403-5a34ae81f6fd",
   "metadata": {},
   "outputs": [
    {
     "data": {
      "text/plain": [
       "dict_keys(['one', 'ten', 'fifteen'])"
      ]
     },
     "execution_count": 41,
     "metadata": {},
     "output_type": "execute_result"
    }
   ],
   "source": [
    "fd.keys()"
   ]
  },
  {
   "cell_type": "code",
   "execution_count": 42,
   "id": "d49c667e-aab7-4dd9-b8d3-876e13833202",
   "metadata": {},
   "outputs": [
    {
     "data": {
      "text/plain": [
       "dict_values(['aik', 'das', 'pandra'])"
      ]
     },
     "execution_count": 42,
     "metadata": {},
     "output_type": "execute_result"
    }
   ],
   "source": [
    "fd.values()"
   ]
  },
  {
   "cell_type": "code",
   "execution_count": 43,
   "id": "d4b54128-eecf-4271-a1fc-0d8e83c197e6",
   "metadata": {},
   "outputs": [
    {
     "data": {
      "text/plain": [
       "dict_items([('one', 'aik'), ('ten', 'das'), ('fifteen', 'pandra')])"
      ]
     },
     "execution_count": 43,
     "metadata": {},
     "output_type": "execute_result"
    }
   ],
   "source": [
    "fd.items()"
   ]
  },
  {
   "cell_type": "code",
   "execution_count": null,
   "id": "d8cbcbc1-5ff7-473c-8bb2-f49667af93d6",
   "metadata": {},
   "outputs": [],
   "source": [
    "fd.has_key('one')   # in ptython 3 .has_key methode were remove\n",
    "fd.has_key('two')"
   ]
  },
  {
   "cell_type": "markdown",
   "id": "805b788e-6c42-46a5-b2f4-c3d825e0e6d3",
   "metadata": {},
   "source": [
    "# Dictionary Copying and Alias Behavior\n",
    "\n",
    "### **Objective:**\n",
    "Learn how to copy a dictionary and understand the difference between a copy and an alias in Python.\n",
    "\n",
    "### **Task 1: Copying a Dictionary and Creating an Alias**"
   ]
  },
  {
   "cell_type": "markdown",
   "id": "a2c8a664-69e7-41a6-bc70-99460f1cd6de",
   "metadata": {},
   "source": [
    "copy = Fd.copy()"
   ]
  },
  {
   "cell_type": "code",
   "execution_count": 50,
   "id": "e6020db2-abba-4a69-a13e-02c94976ed26",
   "metadata": {},
   "outputs": [],
   "source": [
    "copy = fd.copy()"
   ]
  },
  {
   "cell_type": "markdown",
   "id": "2ff8e68f-2c6f-4ba3-a904-1442279ee863",
   "metadata": {},
   "source": [
    "alias = Fd"
   ]
  },
  {
   "cell_type": "code",
   "execution_count": 51,
   "id": "9cf60606-478d-446d-9aa1-3fae3246b43e",
   "metadata": {},
   "outputs": [
    {
     "data": {
      "text/plain": [
       "{'one': 'aik', 'ten': 'das', 'fifteen': 'pandra', 'three': '3'}"
      ]
     },
     "execution_count": 51,
     "metadata": {},
     "output_type": "execute_result"
    }
   ],
   "source": [
    "alias = fd\n",
    "alias"
   ]
  },
  {
   "cell_type": "markdown",
   "id": "ea17b6be-4bd8-4985-93dc-5c182f1de920",
   "metadata": {},
   "source": [
    "Now let alias[‘three’] = ‘3’, now print alias and observe the result."
   ]
  },
  {
   "cell_type": "code",
   "execution_count": 52,
   "id": "b15d4cba-5e56-456b-9aa0-cda2476904a0",
   "metadata": {},
   "outputs": [
    {
     "data": {
      "text/plain": [
       "{'one': 'aik', 'ten': 'das', 'fifteen': 'pandra', 'three': '3'}"
      ]
     },
     "execution_count": 52,
     "metadata": {},
     "output_type": "execute_result"
    }
   ],
   "source": [
    "alias['three'] = '3'\n",
    "alias"
   ]
  },
  {
   "cell_type": "markdown",
   "id": "f8b5e32c-6276-47bf-8db3-921bdeaca265",
   "metadata": {},
   "source": [
    "Also let copy[‘three’] = ‘3’, now print copy and observe the result. "
   ]
  },
  {
   "cell_type": "code",
   "execution_count": 54,
   "id": "b8ff7b11-0fb4-4a35-b367-cdaaf1f4aca2",
   "metadata": {},
   "outputs": [
    {
     "data": {
      "text/plain": [
       "{'one': 'aik', 'ten': 'das', 'fifteen': 'pandra', 'three': '3'}"
      ]
     },
     "execution_count": 54,
     "metadata": {},
     "output_type": "execute_result"
    }
   ],
   "source": [
    "copy['three'] = '3'\n",
    "copy"
   ]
  },
  {
   "cell_type": "markdown",
   "id": "8a887b89-00bc-450f-b562-3f2b4d14d9bc",
   "metadata": {},
   "source": [
    "# Dictionary Operations: Built-in Functions\n",
    "\n",
    "### **Objective:**\n",
    "Explore and observe the results of using various built-in dictionary functions in Python.\n",
    "\n",
    "### **Task:**"
   ]
  },
  {
   "cell_type": "code",
   "execution_count": 55,
   "id": "af1b2ff0-be40-4339-ae80-8b992d2015a0",
   "metadata": {},
   "outputs": [
    {
     "data": {
      "text/plain": [
       "{'a': 1, 'b': 2, 'c': 3, 'd': 4, 'f': 5}"
      ]
     },
     "execution_count": 55,
     "metadata": {},
     "output_type": "execute_result"
    }
   ],
   "source": [
    "dict1 = {'a': 1, 'b': 2, 'c': 3, 'd': 4, 'f':5}\n",
    "dict1"
   ]
  },
  {
   "cell_type": "code",
   "execution_count": 56,
   "id": "388793c9-b92d-4753-b994-0a5a86815664",
   "metadata": {},
   "outputs": [
    {
     "data": {
      "text/plain": [
       "2"
      ]
     },
     "execution_count": 56,
     "metadata": {},
     "output_type": "execute_result"
    }
   ],
   "source": [
    "dict1.get('b')    #.get()"
   ]
  },
  {
   "cell_type": "code",
   "execution_count": 61,
   "id": "3de2d2e1-fd3c-4a10-8189-b50b3ce779dd",
   "metadata": {},
   "outputs": [
    {
     "data": {
      "text/plain": [
       "5"
      ]
     },
     "execution_count": 61,
     "metadata": {},
     "output_type": "execute_result"
    }
   ],
   "source": [
    "dict1.get('f')  # .get()"
   ]
  },
  {
   "cell_type": "code",
   "execution_count": 62,
   "id": "a3b28654-ef39-4cea-a975-6561b60da765",
   "metadata": {},
   "outputs": [
    {
     "data": {
      "text/plain": [
       "3"
      ]
     },
     "execution_count": 62,
     "metadata": {},
     "output_type": "execute_result"
    }
   ],
   "source": [
    "dict1.get('c')      # .get()"
   ]
  },
  {
   "cell_type": "code",
   "execution_count": 63,
   "id": "d1ead54a-789b-4c2b-9139-f3dd02abdf1a",
   "metadata": {},
   "outputs": [
    {
     "data": {
      "text/plain": [
       "1"
      ]
     },
     "execution_count": 63,
     "metadata": {},
     "output_type": "execute_result"
    }
   ],
   "source": [
    "dict1.get('a')      # .get()"
   ]
  },
  {
   "cell_type": "code",
   "execution_count": 59,
   "id": "9b79df6c-8c62-4697-80be-6b1b90a9cee7",
   "metadata": {},
   "outputs": [
    {
     "data": {
      "text/plain": [
       "dict_items([('a', 1), ('b', 2), ('c', 3), ('d', 4), ('f', 5)])"
      ]
     },
     "execution_count": 59,
     "metadata": {},
     "output_type": "execute_result"
    }
   ],
   "source": [
    "dict1.items()     #  .items()"
   ]
  },
  {
   "cell_type": "code",
   "execution_count": 60,
   "id": "3aaaf37a-470e-40d3-814b-a6ac466f33a8",
   "metadata": {},
   "outputs": [
    {
     "data": {
      "text/plain": [
       "dict_keys(['a', 'b', 'c', 'd', 'f'])"
      ]
     },
     "execution_count": 60,
     "metadata": {},
     "output_type": "execute_result"
    }
   ],
   "source": [
    "dict1.keys()     # .keys()"
   ]
  },
  {
   "cell_type": "code",
   "execution_count": 64,
   "id": "eccc3d30-7774-4fd5-97c2-20a29091ecbb",
   "metadata": {},
   "outputs": [
    {
     "data": {
      "text/plain": [
       "dict_values([1, 2, 3, 4, 5])"
      ]
     },
     "execution_count": 64,
     "metadata": {},
     "output_type": "execute_result"
    }
   ],
   "source": [
    "dict1.values()       # .values()"
   ]
  },
  {
   "cell_type": "code",
   "execution_count": 67,
   "id": "2c4643bc-e99d-4330-84cc-11acc27cfcef",
   "metadata": {},
   "outputs": [],
   "source": [
    "dict1.clear()          # .clear()"
   ]
  },
  {
   "cell_type": "code",
   "execution_count": 66,
   "id": "7990e881-8309-44e5-86be-c2a90650042e",
   "metadata": {},
   "outputs": [
    {
     "data": {
      "text/plain": [
       "{}"
      ]
     },
     "execution_count": 66,
     "metadata": {},
     "output_type": "execute_result"
    }
   ],
   "source": [
    "dict1"
   ]
  },
  {
   "cell_type": "markdown",
   "id": "43958fe1-9227-4a69-9a51-757014f54437",
   "metadata": {},
   "source": [
    "# List Comprehensions: Square Calculation\n",
    "\n",
    "### **Objective:**\n",
    "Use list comprehensions to calculate the square of numbers in a given list.\n",
    "\n",
    "### **Task:**\n",
    "\n",
    "Consider the following list:\n",
    "1) Replace the above code with the following. Print the square. This sample one-line code is\n",
    "called list comprehension.\n",
    "2) Chane x*x by any function of x and observe the resulting list.\n",
    "3) List comprehensions can filter values based on some arbitrary condition that decides\n",
    "whether or not the resulting value becomes a part of the output list.\n",
    "4) The generalized syntax:\n",
    "              values = [expression for item in collection if condition]\n",
    "5) This new list comprehension can be transformed into an equivalent for-loop:"
   ]
  },
  {
   "cell_type": "code",
   "execution_count": 69,
   "id": "8ea3ac97-fe67-4da8-ab10-0d79f809bc7e",
   "metadata": {},
   "outputs": [
    {
     "data": {
      "text/plain": [
       "[0, 1, 4, 9, 16, 25, 36, 49, 64, 81]"
      ]
     },
     "execution_count": 69,
     "metadata": {},
     "output_type": "execute_result"
    }
   ],
   "source": [
    "squares = []   # this simple way to print squares of number  from 1 to 10\n",
    "for x in range(10):\n",
    " squares.append(x * x)\n",
    "squares"
   ]
  },
  {
   "cell_type": "code",
   "execution_count": 71,
   "id": "5f78c695-edb1-41b9-858e-4899ea133b13",
   "metadata": {},
   "outputs": [
    {
     "data": {
      "text/plain": [
       "[0, 1, 4, 9, 16, 25, 36, 49, 64, 81]"
      ]
     },
     "execution_count": 71,
     "metadata": {},
     "output_type": "execute_result"
    }
   ],
   "source": [
    "squares = [x * x for x in range(10)]  # this list comprehension way to print squares of number  from 1 to 10\n",
    "squares"
   ]
  },
  {
   "cell_type": "code",
   "execution_count": 72,
   "id": "7077f7b9-3ccb-4476-b3c7-5734b65a5cb5",
   "metadata": {},
   "outputs": [
    {
     "data": {
      "text/plain": [
       "[0, 1, 2, 3, 4, 5, 6, 7, 8, 9]"
      ]
     },
     "execution_count": 72,
     "metadata": {},
     "output_type": "execute_result"
    }
   ],
   "source": [
    "squares = [x for x in range(10)] \n",
    "squares"
   ]
  },
  {
   "cell_type": "code",
   "execution_count": 73,
   "id": "19654286-2f25-45c7-beca-ef6fa29154dc",
   "metadata": {},
   "outputs": [
    {
     "data": {
      "text/plain": [
       "[0, 4, 16, 36, 64]"
      ]
     },
     "execution_count": 73,
     "metadata": {},
     "output_type": "execute_result"
    }
   ],
   "source": [
    "even_squares = [x * x for x in range(10) if x % 2 == 0]   # list  comperhension\n",
    "even_squares"
   ]
  },
  {
   "cell_type": "code",
   "execution_count": 76,
   "id": "323a56d1-b674-421e-ab8c-bd53081e29d2",
   "metadata": {},
   "outputs": [
    {
     "data": {
      "text/plain": [
       "[0, 4, 16, 36, 64]"
      ]
     },
     "execution_count": 76,
     "metadata": {},
     "output_type": "execute_result"
    }
   ],
   "source": [
    "even_squares = []           #  simple form to print number with for loop\n",
    "for x in range(10):\n",
    "    if x % 2 == 0:\n",
    "        even_squares.append(x * x)\n",
    "even_squares"
   ]
  },
  {
   "cell_type": "markdown",
   "id": "e6a7604b-0079-44b8-9cda-3dfeb364e616",
   "metadata": {},
   "source": [
    "# Dictionary Comprehension: Square Calculation\n",
    "\n",
    "### **Objective:**\n",
    "Use dictionary comprehension to calculate the square of numbers and store them in a dictionary.\n"
   ]
  },
  {
   "cell_type": "code",
   "execution_count": 83,
   "id": "21899de9-8ee3-4be3-b2c3-64e32f3d1e34",
   "metadata": {},
   "outputs": [],
   "source": [
    "a = {x: x * x for x in range(5)}"
   ]
  },
  {
   "cell_type": "code",
   "execution_count": 85,
   "id": "20133efa-a707-4ef9-82ae-914f446fd48b",
   "metadata": {},
   "outputs": [
    {
     "data": {
      "text/plain": [
       "{0: 0, 1: 1, 2: 4, 3: 9, 4: 16}"
      ]
     },
     "execution_count": 85,
     "metadata": {},
     "output_type": "execute_result"
    }
   ],
   "source": [
    "a"
   ]
  },
  {
   "cell_type": "code",
   "execution_count": 75,
   "id": "4638a785-38ec-401f-af93-c6e8996b0a30",
   "metadata": {},
   "outputs": [
    {
     "name": "stdout",
     "output_type": "stream",
     "text": [
      "{'person1': 'Yahya', 'person2': 'Abbas', 'person3': 'waqas', 'person4': 'noman'}\n"
     ]
    }
   ],
   "source": [
    "My_dict = {'person1': 'Yahya', 'person2': 'Abbas', 'person3': 'waqas', 'person4': 'noman'}\n",
    "print(My_dict)"
   ]
  },
  {
   "cell_type": "code",
   "execution_count": null,
   "id": "d8e6212f-1c3c-42b7-9499-f8df5457574c",
   "metadata": {},
   "outputs": [],
   "source": [
    "list="
   ]
  }
 ],
 "metadata": {
  "kernelspec": {
   "display_name": "Python 3 (ipykernel)",
   "language": "python",
   "name": "python3"
  },
  "language_info": {
   "codemirror_mode": {
    "name": "ipython",
    "version": 3
   },
   "file_extension": ".py",
   "mimetype": "text/x-python",
   "name": "python",
   "nbconvert_exporter": "python",
   "pygments_lexer": "ipython3",
   "version": "3.9.20"
  }
 },
 "nbformat": 4,
 "nbformat_minor": 5
}
