{
 "cells": [
  {
   "cell_type": "markdown",
   "id": "ea8b6184-a1e9-4a1f-b5c3-52fb4df99c32",
   "metadata": {},
   "source": [
    "# Name : Yahya Ahmad\n",
    "# Req No : 23jzele0528\n",
    "# Lab Report No : 02\n"
   ]
  },
  {
   "cell_type": "code",
   "execution_count": 14,
   "id": "38d34785-9916-4fe9-b8f0-68624b255e4e",
   "metadata": {},
   "outputs": [
    {
     "name": "stdout",
     "output_type": "stream",
     "text": [
      "35\n"
     ]
    }
   ],
   "source": [
    "def voltage(current,resistance):   # define function\n",
    "    volt = current * resistance\n",
    "    return volt\n",
    "# argument passing by positional argumnet\n",
    "current_p = 5\n",
    "resistance_p = 7\n",
    "volt1 = voltage(current_p,resistance_p)  # call the function \n",
    "print(volt1)"
   ]
  },
  {
   "cell_type": "code",
   "execution_count": 15,
   "id": "60cd725b-8841-45ad-8b12-2fecededeffe",
   "metadata": {},
   "outputs": [
    {
     "name": "stdout",
     "output_type": "stream",
     "text": [
      "35\n"
     ]
    }
   ],
   "source": [
    "# argument passing by keyword argumnet\n",
    "volt2 = voltage(current = current_p, resistance = resistance_p) # call the function \n",
    "print(volt2)\n"
   ]
  },
  {
   "cell_type": "code",
   "execution_count": 26,
   "id": "e122ea73-3775-42cd-af0a-2f82e41de995",
   "metadata": {},
   "outputs": [
    {
     "name": "stdout",
     "output_type": "stream",
     "text": [
      "8\n"
     ]
    }
   ],
   "source": [
    "# argument passing with a defult value\n",
    "def voltage2(current,resistance=2): # define function\n",
    "    volt = current * resistance\n",
    "    return volt\n",
    "currnet_ = 4\n",
    "volt = voltage2(currnet_)   # call the function \n",
    "print(volt)"
   ]
  },
  {
   "cell_type": "code",
   "execution_count": 27,
   "id": "863024cf-c22f-45eb-9ce0-851b524b7a28",
   "metadata": {},
   "outputs": [
    {
     "ename": "TypeError",
     "evalue": "voltage3() missing 1 required positional argument: 'resistance'",
     "output_type": "error",
     "traceback": [
      "\u001b[1;31m---------------------------------------------------------------------------\u001b[0m",
      "\u001b[1;31mTypeError\u001b[0m                                 Traceback (most recent call last)",
      "Cell \u001b[1;32mIn[27], line 5\u001b[0m\n\u001b[0;32m      3\u001b[0m     volt \u001b[38;5;241m=\u001b[39m current \u001b[38;5;241m*\u001b[39m resistance\n\u001b[0;32m      4\u001b[0m     \u001b[38;5;28;01mreturn\u001b[39;00m volt\n\u001b[1;32m----> 5\u001b[0m volt1 \u001b[38;5;241m=\u001b[39m \u001b[43mvoltage3\u001b[49m\u001b[43m(\u001b[49m\u001b[38;5;241;43m5\u001b[39;49m\u001b[43m)\u001b[49m\n\u001b[0;32m      6\u001b[0m \u001b[38;5;28mprint\u001b[39m(volt1)\n",
      "\u001b[1;31mTypeError\u001b[0m: voltage3() missing 1 required positional argument: 'resistance'"
     ]
    }
   ],
   "source": [
    "# give less number of argument in to function\n",
    "def voltage3(current,resistance):  # define function\n",
    "    volt = current * resistance\n",
    "    return volt\n",
    "volt1 = voltage3(5) # it show error beacuse one argument is missing in the positionol arguments\n",
    "print(volt1)"
   ]
  },
  {
   "cell_type": "code",
   "execution_count": 28,
   "id": "4a9fee45-f871-4b9b-b41a-1312545b643e",
   "metadata": {},
   "outputs": [
    {
     "ename": "SyntaxError",
     "evalue": "positional argument follows keyword argument (454804563.py, line 6)",
     "output_type": "error",
     "traceback": [
      "\u001b[1;36m  Cell \u001b[1;32mIn[28], line 6\u001b[1;36m\u001b[0m\n\u001b[1;33m    volt = voltage(current=current_p,resistance)\u001b[0m\n\u001b[1;37m                                               ^\u001b[0m\n\u001b[1;31mSyntaxError\u001b[0m\u001b[1;31m:\u001b[0m positional argument follows keyword argument\n"
     ]
    }
   ],
   "source": [
    "def voltage3(current,resistance):\n",
    "    volt = current * resistance\n",
    "    return volt\n",
    "current_p = 3\n",
    "resistance_p = 7\n",
    "volt = voltage(current=current_p,resistance) # it show error that positional argument follows keyword argument"
   ]
  },
  {
   "cell_type": "code",
   "execution_count": null,
   "id": "bc0b9d6a-59e0-4b34-ab46-eb1385c9b0e1",
   "metadata": {},
   "outputs": [],
   "source": []
  }
 ],
 "metadata": {
  "kernelspec": {
   "display_name": "Python 3 (ipykernel)",
   "language": "python",
   "name": "python3"
  },
  "language_info": {
   "codemirror_mode": {
    "name": "ipython",
    "version": 3
   },
   "file_extension": ".py",
   "mimetype": "text/x-python",
   "name": "python",
   "nbconvert_exporter": "python",
   "pygments_lexer": "ipython3",
   "version": "3.9.20"
  }
 },
 "nbformat": 4,
 "nbformat_minor": 5
}
