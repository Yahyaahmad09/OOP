{
 "cells": [
  {
   "cell_type": "markdown",
   "id": "a216c17e-631e-47c7-9418-607c7293dc69",
   "metadata": {},
   "source": [
    "# Lab Report Details\n",
    "\n",
    "| **Field**        | **Details**         |\n",
    "|-------------------|---------------------|\n",
    "| **Name**         | Yahya Ahmad         |\n",
    "| **Req No**       | 23jzele0528         |\n",
    "| **Lab Report No**| 04                  |"
   ]
  },
  {
   "cell_type": "markdown",
   "id": "a2d97283-ef57-4937-9f06-65c3b6f303a7",
   "metadata": {},
   "source": [
    "# Python Class: Point Object and Distance Calculation\n",
    "\n",
    "### **Objective:**\n",
    "Define a `Point` class to represent a point in a 2D coordinate system. Create instances of the class, print the coordinates, and calculate the distance between two points.\n",
    "\n",
    "### **Task:**\n",
    "\n",
    "#### **Part A:**\n",
    "1. **Define the `Point` class**: Create a class that stores x and y coordinates.\n",
    "2. **Create the `__str__` method**: Override the `__str__` method to print the point coordinates in a user-friendly way.\n",
    "\n",
    "#### **Part B:**\n",
    "1. **Create instances** `p1` and `p2` of the `Point` class.\n",
    "2. **Print the coordinates** of `p1` and `p2`.\n",
    "3. **Use a method** to print the points in a user-defined format.\n",
    "4. **Calculate and print the distance** between `p1` and `p2`.\n"
   ]
  },
  {
   "cell_type": "code",
   "execution_count": 6,
   "id": "00ba2285-814e-45d3-b2d5-73d55920be70",
   "metadata": {},
   "outputs": [
    {
     "name": "stdout",
     "output_type": "stream",
     "text": [
      "Represents a point in two-dimensional geometric\n",
      "coordinates\n",
      "    Parameters\n",
      "        ----------\n",
      "        x : float\n",
      "        y : float\n",
      "    \n",
      "<__main__.Point object at 0x0000021F22859670>\n",
      "<__main__.Point object at 0x0000021F2283D9D0>\n",
      "p1 coordinates is (2 , 3)\n",
      "p2 coordinates is (4 , 2)\n",
      "Point(2, 3)\n",
      "Point(4, 2)\n",
      "Distance B/W two points (p1, p2) is 2.23606797749979\n"
     ]
    }
   ],
   "source": [
    "class Point:\n",
    "    pass\n",
    "\n",
    "import math\n",
    "class Point:\n",
    "    \"\"\"Represents a point in two-dimensional geometric\n",
    "coordinates\n",
    "    Parameters\n",
    "        ----------\n",
    "        x : float\n",
    "        y : float\n",
    "    \"\"\"\n",
    "    def __init__(self, x: float, y: float)->None:\n",
    "        self.x = x\n",
    "        self.y = y\n",
    "    def distance(self, p2)->float:\n",
    "        return math.sqrt((self.x-p2.x)**2 + (self.y-p2.y)**2)\n",
    "    def point(self) -> None:\n",
    "        print(f\"Point({self.x}, {self.y})\")\n",
    "print(Point.__doc__)\n",
    "p1 = Point(2,3)\n",
    "p2 = Point(4,2)\n",
    "print(p1)\n",
    "print(p2)\n",
    "print(f\"p1 coordinates is ({p1.x} , {p1.y})\")\n",
    "print(f\"p2 coordinates is ({p2.x} , {p2.y})\")\n",
    "p1.point()\n",
    "p2.point()\n",
    "Distance = p1.distance(p2)\n",
    "print(f\"Distance B/W two points (p1, p2) is {Distance}\")"
   ]
  }
 ],
 "metadata": {
  "kernelspec": {
   "display_name": "Python 3 (ipykernel)",
   "language": "python",
   "name": "python3"
  },
  "language_info": {
   "codemirror_mode": {
    "name": "ipython",
    "version": 3
   },
   "file_extension": ".py",
   "mimetype": "text/x-python",
   "name": "python",
   "nbconvert_exporter": "python",
   "pygments_lexer": "ipython3",
   "version": "3.9.20"
  }
 },
 "nbformat": 4,
 "nbformat_minor": 5
}
