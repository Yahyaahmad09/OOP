{
 "cells": [
  {
   "cell_type": "markdown",
   "id": "07976039-2967-4137-8a0f-608a98fded92",
   "metadata": {},
   "source": [
    "# Lab Report Details\n",
    "\n",
    "| **Field**        | **Details**         |\n",
    "|-------------------|---------------------|\n",
    "| **Name**         | Yahya Ahmad         |\n",
    "| **Req No**       | 23jzele0528         |\n",
    "| **Lab Report No**| 05                  |"
   ]
  },
  {
   "cell_type": "markdown",
   "id": "ff175ae7-9a3e-4137-a6f7-bbbdbf43db79",
   "metadata": {},
   "source": [
    "# Python Class: Circle with Volume, Area, Circumference, and Diameter\n",
    "\n",
    "### **Objective:**\n",
    "Define a class named `Circle` to represent a circle. The class should include:\n",
    "1. An `__init__` method to initialize the radius of the circle.\n",
    "2. An instance method for the volume of a cylinder with the given radius.\n",
    "3. Property methods to compute the area, circumference, and diameter of the circle.\n",
    "4. `__repr__` and `__str__` methods for string representation.\n",
    "5. Proper annotations and docstrings for every class and method.\n"
   ]
  },
  {
   "cell_type": "code",
   "execution_count": 2,
   "id": "1a1c2f91-d361-4b12-afd5-6a23dfdea17c",
   "metadata": {},
   "outputs": [],
   "source": [
    "class Circle:\n",
    "    \"\"\"A class to represent a circle and perform related calculations.\n",
    "    \n",
    "    Attributes:\n",
    "    radius : float\n",
    "        The radius of the circle with a default value 1.0.\n",
    "    \n",
    "    Methods:\n",
    "    area():\n",
    "        Returns the area of the circle.\n",
    "    circumference():\n",
    "        Returns the circumference of the circle.\n",
    "    diameter():\n",
    "        Returns the diameter of the circle.\n",
    "    cylinder_volume(height: float):\n",
    "        Returns the volume of a cylinder with the circle as its area and a given height.\n",
    "    \"\"\"\n",
    "    def __init__(self,radius: float = 1.0):\n",
    "        \"\"\"Initializes the Circle with a radius.\n",
    "\n",
    "        Parameters:\n",
    "        radius:\n",
    "            The radius of the circle with a default value of 1.0.\n",
    "        \"\"\"\n",
    "        self.radius = radius\n",
    "    def area(self)-> float :\n",
    "        \"\"\"Calculates the area of the circle.\n",
    "    Return:\n",
    "        Return area in float\n",
    "    \"\"\"\n",
    "        return math.pi * self.radius**2\n",
    "    def circumference(self) -> float:\n",
    "        \"\"\"Calculates the circumference of the circle.\n",
    "    Return:\n",
    "        Return circumference in float\n",
    "    \"\"\"\n",
    "        return math.pi * 2 * self.radius\n",
    "    def diameter(self) -> float:\n",
    "        \"\"\"Calculates the diameter of the circle.\n",
    "    Return:\n",
    "        Return diameter in float\n",
    "    \"\"\"\n",
    "        return  2 * self.radius\n",
    "    def Volume_of_cylinder(self, height: float) -> float:\n",
    "        \"\"\"Calculates the volume of cylinder with the area of the circle.\n",
    "    Parameters:\n",
    "        height : float\n",
    "            The height of the cylinder.\n",
    "        Return:\n",
    "        float\n",
    "            The volume of the cylinder.\n",
    "        \"\"\"\n",
    "        return self.area * height\n",
    "    def __repr__(self) -> str:\n",
    "        \"\"\"This representation is intended for developers,\n",
    "        showing the class name and radius attribute in a format suitable for\n",
    "        recreating the object.\"\"\"\n",
    "        return f\"{type(self).__name__} ({self.radius})\"\n",
    "    def __str__(self) -> str:\n",
    "        \"\"\" This representation provides a simple description of the circle's\n",
    "        radius and is intended for end-users or general display purposes.\"\"\"\n",
    "        return f\"Circle with Radius: {self.radius}\""
   ]
  },
  {
   "cell_type": "code",
   "execution_count": 3,
   "id": "14ec2760-7679-431f-b6e8-3c3f70dea3a5",
   "metadata": {},
   "outputs": [],
   "source": [
    "inst_1 = Circle(4)\n",
    "inst_2 = Circle(8)"
   ]
  },
  {
   "cell_type": "code",
   "execution_count": 4,
   "id": "d73bcfc4-02f1-440e-9456-4dc60f977b24",
   "metadata": {},
   "outputs": [
    {
     "name": "stdout",
     "output_type": "stream",
     "text": [
      "Circle with Radius: 4\n",
      "Circle with Radius: 8\n"
     ]
    }
   ],
   "source": [
    "print(inst_1)\n",
    "print(inst_2)"
   ]
  },
  {
   "cell_type": "code",
   "execution_count": 5,
   "id": "5d701b6b-57a9-4fa3-8ae0-b9118857a275",
   "metadata": {},
   "outputs": [
    {
     "name": "stdout",
     "output_type": "stream",
     "text": [
      "mappingproxy({'Volume_of_cylinder': <function Circle.Volume_of_cylinder at 0x000002037CB7B0D0>,\n",
      "              '__dict__': <attribute '__dict__' of 'Circle' objects>,\n",
      "              '__doc__': 'A class to represent a circle and perform related '\n",
      "                         'calculations.\\n'\n",
      "                         '    \\n'\n",
      "                         '    Attributes:\\n'\n",
      "                         '    radius : float\\n'\n",
      "                         '        The radius of the circle with a default '\n",
      "                         'value 1.0.\\n'\n",
      "                         '    \\n'\n",
      "                         '    Methods:\\n'\n",
      "                         '    area():\\n'\n",
      "                         '        Returns the area of the circle.\\n'\n",
      "                         '    circumference():\\n'\n",
      "                         '        Returns the circumference of the circle.\\n'\n",
      "                         '    diameter():\\n'\n",
      "                         '        Returns the diameter of the circle.\\n'\n",
      "                         '    cylinder_volume(height: float):\\n'\n",
      "                         '        Returns the volume of a cylinder with the '\n",
      "                         'circle as its area and a given height.\\n'\n",
      "                         '    ',\n",
      "              '__init__': <function Circle.__init__ at 0x000002037CB32790>,\n",
      "              '__module__': '__main__',\n",
      "              '__repr__': <function Circle.__repr__ at 0x000002037CB7B160>,\n",
      "              '__str__': <function Circle.__str__ at 0x000002037CB7B1F0>,\n",
      "              '__weakref__': <attribute '__weakref__' of 'Circle' objects>,\n",
      "              'area': <function Circle.area at 0x000002037CB329D0>,\n",
      "              'circumference': <function Circle.circumference at 0x000002037CB32F70>,\n",
      "              'diameter': <function Circle.diameter at 0x000002037CB7B040>})\n"
     ]
    }
   ],
   "source": [
    "from pprint import pprint\n",
    "pprint(Circle.__dict__)"
   ]
  },
  {
   "cell_type": "code",
   "execution_count": 6,
   "id": "b29b21f4-5c6b-4432-b906-cdbbe8d7786b",
   "metadata": {},
   "outputs": [
    {
     "name": "stdout",
     "output_type": "stream",
     "text": [
      "mappingproxy({'Volume_of_cylinder': <function Circle.Volume_of_cylinder at 0x000002037CB7B0D0>,\n",
      "              '__dict__': <attribute '__dict__' of 'Circle' objects>,\n",
      "              '__doc__': 'A class to represent a circle and perform related '\n",
      "                         'calculations.\\n'\n",
      "                         '    \\n'\n",
      "                         '    Attributes:\\n'\n",
      "                         '    radius : float\\n'\n",
      "                         '        The radius of the circle with a default '\n",
      "                         'value 1.0.\\n'\n",
      "                         '    \\n'\n",
      "                         '    Methods:\\n'\n",
      "                         '    area():\\n'\n",
      "                         '        Returns the area of the circle.\\n'\n",
      "                         '    circumference():\\n'\n",
      "                         '        Returns the circumference of the circle.\\n'\n",
      "                         '    diameter():\\n'\n",
      "                         '        Returns the diameter of the circle.\\n'\n",
      "                         '    cylinder_volume(height: float):\\n'\n",
      "                         '        Returns the volume of a cylinder with the '\n",
      "                         'circle as its area and a given height.\\n'\n",
      "                         '    ',\n",
      "              '__init__': <function Circle.__init__ at 0x000002037CB32790>,\n",
      "              '__module__': '__main__',\n",
      "              '__repr__': <function Circle.__repr__ at 0x000002037CB7B160>,\n",
      "              '__str__': <function Circle.__str__ at 0x000002037CB7B1F0>,\n",
      "              '__weakref__': <attribute '__weakref__' of 'Circle' objects>,\n",
      "              'area': <function Circle.area at 0x000002037CB329D0>,\n",
      "              'circumference': <function Circle.circumference at 0x000002037CB32F70>,\n",
      "              'diameter': <function Circle.diameter at 0x000002037CB7B040>})\n"
     ]
    }
   ],
   "source": [
    "pprint(vars(Circle))"
   ]
  },
  {
   "cell_type": "code",
   "execution_count": 7,
   "id": "edd66291-4eeb-46b0-a8a8-6db5b68db97e",
   "metadata": {},
   "outputs": [
    {
     "name": "stdout",
     "output_type": "stream",
     "text": [
      "{'radius': 4}\n"
     ]
    }
   ],
   "source": [
    "print(inst_1.__dict__)"
   ]
  },
  {
   "cell_type": "code",
   "execution_count": 8,
   "id": "ac2065bd-8724-4a0a-aa13-7b7847466216",
   "metadata": {},
   "outputs": [
    {
     "name": "stdout",
     "output_type": "stream",
     "text": [
      "{'radius': 8}\n"
     ]
    }
   ],
   "source": [
    "print(inst_2.__dict__)"
   ]
  },
  {
   "cell_type": "code",
   "execution_count": 9,
   "id": "90a40441-3756-4f7d-8730-bb1d1d2b3cf9",
   "metadata": {},
   "outputs": [
    {
     "name": "stdout",
     "output_type": "stream",
     "text": [
      "Help on class Circle in module __main__:\n",
      "\n",
      "class Circle(builtins.object)\n",
      " |  Circle(radius: float = 1.0)\n",
      " |  \n",
      " |  A class to represent a circle and perform related calculations.\n",
      " |  \n",
      " |  Attributes:\n",
      " |  radius : float\n",
      " |      The radius of the circle with a default value 1.0.\n",
      " |  \n",
      " |  Methods:\n",
      " |  area():\n",
      " |      Returns the area of the circle.\n",
      " |  circumference():\n",
      " |      Returns the circumference of the circle.\n",
      " |  diameter():\n",
      " |      Returns the diameter of the circle.\n",
      " |  cylinder_volume(height: float):\n",
      " |      Returns the volume of a cylinder with the circle as its area and a given height.\n",
      " |  \n",
      " |  Methods defined here:\n",
      " |  \n",
      " |  Volume_of_cylinder(self, height: float) -> float\n",
      " |      Calculates the volume of cylinder with the area of the circle.\n",
      " |      Parameters:\n",
      " |          height : float\n",
      " |              The height of the cylinder.\n",
      " |          Return:\n",
      " |          float\n",
      " |              The volume of the cylinder.\n",
      " |  \n",
      " |  __init__(self, radius: float = 1.0)\n",
      " |      Initializes the Circle with a radius.\n",
      " |      \n",
      " |      Parameters:\n",
      " |      radius:\n",
      " |          The radius of the circle with a default value of 1.0.\n",
      " |  \n",
      " |  __repr__(self) -> str\n",
      " |      This representation is intended for developers,\n",
      " |      showing the class name and radius attribute in a format suitable for\n",
      " |      recreating the object.\n",
      " |  \n",
      " |  __str__(self) -> str\n",
      " |      This representation provides a simple description of the circle's\n",
      " |      radius and is intended for end-users or general display purposes.\n",
      " |  \n",
      " |  area(self) -> float\n",
      " |      Calculates the area of the circle.\n",
      " |      Return:\n",
      " |          Return area in float\n",
      " |  \n",
      " |  circumference(self) -> float\n",
      " |      Calculates the circumference of the circle.\n",
      " |      Return:\n",
      " |          Return circumference in float\n",
      " |  \n",
      " |  diameter(self) -> float\n",
      " |      Calculates the diameter of the circle.\n",
      " |      Return:\n",
      " |          Return diameter in float\n",
      " |  \n",
      " |  ----------------------------------------------------------------------\n",
      " |  Data descriptors defined here:\n",
      " |  \n",
      " |  __dict__\n",
      " |      dictionary for instance variables (if defined)\n",
      " |  \n",
      " |  __weakref__\n",
      " |      list of weak references to the object (if defined)\n",
      "\n"
     ]
    }
   ],
   "source": [
    "help(Circle)"
   ]
  },
  {
   "cell_type": "code",
   "execution_count": 10,
   "id": "7781d454-aed2-42c7-9637-dff26bd4bbb0",
   "metadata": {},
   "outputs": [
    {
     "name": "stdout",
     "output_type": "stream",
     "text": [
      "A class to represent a circle and perform related calculations.\n",
      "    \n",
      "    Attributes:\n",
      "    radius : float\n",
      "        The radius of the circle with a default value 1.0.\n",
      "    \n",
      "    Methods:\n",
      "    area():\n",
      "        Returns the area of the circle.\n",
      "    circumference():\n",
      "        Returns the circumference of the circle.\n",
      "    diameter():\n",
      "        Returns the diameter of the circle.\n",
      "    cylinder_volume(height: float):\n",
      "        Returns the volume of a cylinder with the circle as its area and a given height.\n",
      "    \n",
      "\n",
      "{'radius': <class 'float'>}\n",
      "Initializes the Circle with a radius.\n",
      "\n",
      "        Parameters:\n",
      "        radius:\n",
      "            The radius of the circle with a default value of 1.0.\n",
      "        \n",
      "\n",
      "Calculates the area of the circle.\n",
      "    Return:\n",
      "        Return area in float\n",
      "    \n",
      "Calculates the circumference of the circle.\n",
      "    Return:\n",
      "        Return circumference in float\n",
      "    \n",
      "\n",
      "Calculates the diameter of the circle.\n",
      "    Return:\n",
      "        Return diameter in float\n",
      "    \n",
      "\n",
      "This representation is intended for developers,\n",
      "        showing the class name and radius attribute in a format suitable for\n",
      "        recreating the object.\n",
      " This representation provides a simple description of the circle's\n",
      "        radius and is intended for end-users or general display purposes.\n"
     ]
    }
   ],
   "source": [
    "print(Circle.__doc__)\n",
    "print()\n",
    "print(Circle.__init__.__annotations__)\n",
    "print(Circle.__init__.__doc__)\n",
    "print()\n",
    "print(Circle.area.__doc__)\n",
    "print(Circle.circumference.__doc__)\n",
    "print()\n",
    "print(Circle.diameter.__doc__)\n",
    "\n",
    "print()\n",
    "print(Circle.__repr__.__doc__)\n",
    "print(Circle.__str__.__doc__)"
   ]
  },
  {
   "cell_type": "code",
   "execution_count": 11,
   "id": "a3f1ab8a-fad9-4bc8-ad4d-55438fa062ea",
   "metadata": {},
   "outputs": [
    {
     "name": "stdout",
     "output_type": "stream",
     "text": [
      "Circle with Radius: 1.0\n"
     ]
    },
    {
     "data": {
      "text/plain": [
       "Circle (1.0)"
      ]
     },
     "execution_count": 11,
     "metadata": {},
     "output_type": "execute_result"
    }
   ],
   "source": [
    "inst_3 = Circle()\n",
    "print(inst_3)\n",
    "inst_3"
   ]
  }
 ],
 "metadata": {
  "kernelspec": {
   "display_name": "Python 3 (ipykernel)",
   "language": "python",
   "name": "python3"
  },
  "language_info": {
   "codemirror_mode": {
    "name": "ipython",
    "version": 3
   },
   "file_extension": ".py",
   "mimetype": "text/x-python",
   "name": "python",
   "nbconvert_exporter": "python",
   "pygments_lexer": "ipython3",
   "version": "3.9.20"
  }
 },
 "nbformat": 4,
 "nbformat_minor": 5
}
