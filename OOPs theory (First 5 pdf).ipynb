{
 "cells": [
  {
   "cell_type": "markdown",
   "id": "f6f8c0dd-5cc2-47fa-a117-9770a7362de9",
   "metadata": {},
   "source": [
    "# Yahya Ahmad\n",
    "# 23JZELE0528"
   ]
  },
  {
   "cell_type": "markdown",
   "id": "f8e8a551-9d8c-4d5c-9191-37ce2cefcd38",
   "metadata": {},
   "source": [
    "# Lecture No 01\n",
    "# Basic data type"
   ]
  },
  {
   "cell_type": "code",
   "execution_count": 25,
   "id": "a89c5409",
   "metadata": {},
   "outputs": [
    {
     "data": {
      "text/plain": [
       "809"
      ]
     },
     "execution_count": 25,
     "metadata": {},
     "output_type": "execute_result"
    }
   ],
   "source": [
    "809"
   ]
  },
  {
   "cell_type": "code",
   "execution_count": 26,
   "id": "f4517ad4",
   "metadata": {},
   "outputs": [
    {
     "data": {
      "text/plain": [
       "int"
      ]
     },
     "execution_count": 26,
     "metadata": {},
     "output_type": "execute_result"
    }
   ],
   "source": [
    "type(45)"
   ]
  },
  {
   "cell_type": "code",
   "execution_count": 27,
   "id": "6103acb9",
   "metadata": {},
   "outputs": [
    {
     "data": {
      "text/plain": [
       "67.76"
      ]
     },
     "execution_count": 27,
     "metadata": {},
     "output_type": "execute_result"
    }
   ],
   "source": [
    "67.76"
   ]
  },
  {
   "cell_type": "code",
   "execution_count": 28,
   "id": "30adbbd8",
   "metadata": {},
   "outputs": [
    {
     "data": {
      "text/plain": [
       "float"
      ]
     },
     "execution_count": 28,
     "metadata": {},
     "output_type": "execute_result"
    }
   ],
   "source": [
    "type(67.76)"
   ]
  },
  {
   "cell_type": "code",
   "execution_count": 29,
   "id": "9c6fa01e",
   "metadata": {},
   "outputs": [
    {
     "data": {
      "text/plain": [
       "(6+3j)"
      ]
     },
     "execution_count": 29,
     "metadata": {},
     "output_type": "execute_result"
    }
   ],
   "source": [
    "6+3j"
   ]
  },
  {
   "cell_type": "code",
   "execution_count": 30,
   "id": "75c46cb7",
   "metadata": {},
   "outputs": [
    {
     "data": {
      "text/plain": [
       "complex"
      ]
     },
     "execution_count": 30,
     "metadata": {},
     "output_type": "execute_result"
    }
   ],
   "source": [
    "type(6+3j)"
   ]
  },
  {
   "cell_type": "code",
   "execution_count": 31,
   "id": "798d6c9c",
   "metadata": {},
   "outputs": [
    {
     "data": {
      "text/plain": [
       "(-4-8j)"
      ]
     },
     "execution_count": 31,
     "metadata": {},
     "output_type": "execute_result"
    }
   ],
   "source": [
    "(8j-4).conjugate()"
   ]
  },
  {
   "cell_type": "code",
   "execution_count": 32,
   "id": "610bc963",
   "metadata": {},
   "outputs": [
    {
     "data": {
      "text/plain": [
       "(8+0j)"
      ]
     },
     "execution_count": 32,
     "metadata": {},
     "output_type": "execute_result"
    }
   ],
   "source": [
    "complex(8)"
   ]
  },
  {
   "cell_type": "code",
   "execution_count": 33,
   "id": "99bb26de",
   "metadata": {},
   "outputs": [
    {
     "data": {
      "text/plain": [
       "(8+1j)"
      ]
     },
     "execution_count": 33,
     "metadata": {},
     "output_type": "execute_result"
    }
   ],
   "source": [
    "complex(8+1j)"
   ]
  },
  {
   "cell_type": "code",
   "execution_count": 34,
   "id": "216641ab",
   "metadata": {},
   "outputs": [
    {
     "data": {
      "text/plain": [
       "(-0-9j)"
      ]
     },
     "execution_count": 34,
     "metadata": {},
     "output_type": "execute_result"
    }
   ],
   "source": [
    "complex(-9j)"
   ]
  },
  {
   "cell_type": "code",
   "execution_count": 35,
   "id": "983ce1e2",
   "metadata": {},
   "outputs": [
    {
     "data": {
      "text/plain": [
       "(4841369599423283, 1125899906842624)"
      ]
     },
     "execution_count": 35,
     "metadata": {},
     "output_type": "execute_result"
    }
   ],
   "source": [
    "(4.3).as_integer_ratio()"
   ]
  },
  {
   "cell_type": "code",
   "execution_count": 36,
   "id": "27fc814e",
   "metadata": {},
   "outputs": [
    {
     "ename": "AttributeError",
     "evalue": "'int' object has no attribute 'bit_count'",
     "output_type": "error",
     "traceback": [
      "\u001b[1;31m---------------------------------------------------------------------------\u001b[0m",
      "\u001b[1;31mAttributeError\u001b[0m                            Traceback (most recent call last)",
      "Cell \u001b[1;32mIn[36], line 1\u001b[0m\n\u001b[1;32m----> 1\u001b[0m \u001b[43m(\u001b[49m\u001b[38;5;241;43m45\u001b[39;49m\u001b[43m)\u001b[49m\u001b[38;5;241;43m.\u001b[39;49m\u001b[43mbit_count\u001b[49m()\n",
      "\u001b[1;31mAttributeError\u001b[0m: 'int' object has no attribute 'bit_count'"
     ]
    }
   ],
   "source": [
    "(45).bit_count()"
   ]
  },
  {
   "cell_type": "code",
   "execution_count": 37,
   "id": "5251a8cf",
   "metadata": {},
   "outputs": [
    {
     "data": {
      "text/plain": [
       "6"
      ]
     },
     "execution_count": 37,
     "metadata": {},
     "output_type": "execute_result"
    }
   ],
   "source": [
    "(45).bit_length()"
   ]
  },
  {
   "cell_type": "code",
   "execution_count": 38,
   "id": "f392d80e",
   "metadata": {},
   "outputs": [
    {
     "data": {
      "text/plain": [
       "False"
      ]
     },
     "execution_count": 38,
     "metadata": {},
     "output_type": "execute_result"
    }
   ],
   "source": [
    "(4.0).is_integer()\n",
    "(8.6).is_integer()"
   ]
  },
  {
   "cell_type": "code",
   "execution_count": 39,
   "id": "eff570c8",
   "metadata": {},
   "outputs": [
    {
     "name": "stdout",
     "output_type": "stream",
     "text": [
      "<class 'float'>\n"
     ]
    }
   ],
   "source": [
    "print(type(4.0))"
   ]
  },
  {
   "cell_type": "code",
   "execution_count": 40,
   "id": "272f664c",
   "metadata": {},
   "outputs": [
    {
     "data": {
      "text/plain": [
       "'Hello  world'"
      ]
     },
     "execution_count": 40,
     "metadata": {},
     "output_type": "execute_result"
    }
   ],
   "source": [
    "\"Hello  world\""
   ]
  },
  {
   "cell_type": "code",
   "execution_count": 41,
   "id": "ead5b764",
   "metadata": {},
   "outputs": [
    {
     "data": {
      "text/plain": [
       "'hello  world'"
      ]
     },
     "execution_count": 41,
     "metadata": {},
     "output_type": "execute_result"
    }
   ],
   "source": [
    "'hello  world'"
   ]
  },
  {
   "cell_type": "code",
   "execution_count": 42,
   "id": "fb238126",
   "metadata": {},
   "outputs": [
    {
     "name": "stdout",
     "output_type": "stream",
     "text": [
      "<class 'str'>\n"
     ]
    }
   ],
   "source": [
    "print(type(\"Hello world\"))"
   ]
  },
  {
   "cell_type": "code",
   "execution_count": 43,
   "id": "5f89a822",
   "metadata": {
    "scrolled": true
   },
   "outputs": [
    {
     "name": "stdout",
     "output_type": "stream",
     "text": [
      "I am string\n",
      "I am  also strig\n"
     ]
    },
    {
     "data": {
      "text/plain": [
       "'i am strig'"
      ]
     },
     "execution_count": 43,
     "metadata": {},
     "output_type": "execute_result"
    }
   ],
   "source": [
    "print(\"I am string\")\n",
    "print('I am  also strig')\n",
    "\"i am strig\""
   ]
  },
  {
   "cell_type": "code",
   "execution_count": 44,
   "id": "0d5b6d0f",
   "metadata": {},
   "outputs": [
    {
     "data": {
      "text/plain": [
       "'this is also contain (\") quots'"
      ]
     },
     "execution_count": 44,
     "metadata": {},
     "output_type": "execute_result"
    }
   ],
   "source": [
    "'this is also contain (\") quots'"
   ]
  },
  {
   "cell_type": "code",
   "execution_count": 45,
   "id": "a18d8ff8",
   "metadata": {},
   "outputs": [
    {
     "data": {
      "text/plain": [
       "\"this is also contain (') quot\""
      ]
     },
     "execution_count": 45,
     "metadata": {},
     "output_type": "execute_result"
    }
   ],
   "source": [
    "\"this is also contain (') quot\""
   ]
  },
  {
   "cell_type": "code",
   "execution_count": 46,
   "id": "57d4bf0c",
   "metadata": {},
   "outputs": [
    {
     "data": {
      "text/plain": [
       "'hy'"
      ]
     },
     "execution_count": 46,
     "metadata": {},
     "output_type": "execute_result"
    }
   ],
   "source": [
    "('Yahya').strip('Ya')"
   ]
  },
  {
   "cell_type": "code",
   "execution_count": 47,
   "id": "2a979a1f",
   "metadata": {},
   "outputs": [
    {
     "data": {
      "text/plain": [
       "'ahma'"
      ]
     },
     "execution_count": 47,
     "metadata": {},
     "output_type": "execute_result"
    }
   ],
   "source": [
    "('ahmad').strip('d')"
   ]
  },
  {
   "cell_type": "code",
   "execution_count": 48,
   "id": "eb3a2220",
   "metadata": {},
   "outputs": [
    {
     "data": {
      "text/plain": [
       "'Yahya, Ahmad'"
      ]
     },
     "execution_count": 48,
     "metadata": {},
     "output_type": "execute_result"
    }
   ],
   "source": [
    "name='Ahmad'\n",
    "'Yahya, {0}'.format(name)"
   ]
  },
  {
   "cell_type": "code",
   "execution_count": 49,
   "id": "62c0ad03",
   "metadata": {},
   "outputs": [
    {
     "data": {
      "text/plain": [
       "'How i you.'"
      ]
     },
     "execution_count": 49,
     "metadata": {},
     "output_type": "execute_result"
    }
   ],
   "source": [
    "\"how i you.\".capitalize()"
   ]
  },
  {
   "cell_type": "code",
   "execution_count": 50,
   "id": "86d49302",
   "metadata": {},
   "outputs": [
    {
     "data": {
      "text/plain": [
       "'HARD WORK IS THE KEY TO SUCCESS'"
      ]
     },
     "execution_count": 50,
     "metadata": {},
     "output_type": "execute_result"
    }
   ],
   "source": [
    "'hard work is the key to success'.upper()"
   ]
  },
  {
   "cell_type": "code",
   "execution_count": 51,
   "id": "933dd73e-9bc8-4fef-81a6-2253073b4535",
   "metadata": {},
   "outputs": [
    {
     "data": {
      "text/plain": [
       "'Noman'"
      ]
     },
     "execution_count": 51,
     "metadata": {},
     "output_type": "execute_result"
    }
   ],
   "source": [
    "name= 'Aoman'\n",
    "name.replace('A','N')"
   ]
  },
  {
   "cell_type": "code",
   "execution_count": 52,
   "id": "2717f94d-e22d-4bad-b132-cf8b0e503ef6",
   "metadata": {},
   "outputs": [
    {
     "data": {
      "text/plain": [
       "'You are vary Handsome'"
      ]
     },
     "execution_count": 52,
     "metadata": {},
     "output_type": "execute_result"
    }
   ],
   "source": [
    "\"{0} are vary {1}\".format('You','Handsome')"
   ]
  },
  {
   "cell_type": "markdown",
   "id": "7b941198-3436-4f7f-8f32-2b143ee767eb",
   "metadata": {},
   "source": [
    "# lecture 02\n",
    "# Define your onw function"
   ]
  },
  {
   "cell_type": "markdown",
   "id": "6737e105-edb9-4c05-bcf9-33804b154e71",
   "metadata": {},
   "source": [
    "Build-in functions"
   ]
  },
  {
   "cell_type": "code",
   "execution_count": 53,
   "id": "40a472e8-5d21-4024-b9a7-3a9f95e9ae77",
   "metadata": {},
   "outputs": [
    {
     "data": {
      "text/plain": [
       "True"
      ]
     },
     "execution_count": 53,
     "metadata": {},
     "output_type": "execute_result"
    }
   ],
   "source": [
    "# any() funcyion\n",
    "any(['y' == 'y', 'bar' ==  'baz'])"
   ]
  },
  {
   "cell_type": "code",
   "execution_count": 54,
   "id": "80b04cb8-b81d-4023-8906-e90aef344aaa",
   "metadata": {},
   "outputs": [
    {
     "data": {
      "text/plain": [
       "11"
      ]
     },
     "execution_count": 54,
     "metadata": {},
     "output_type": "execute_result"
    }
   ],
   "source": [
    "# length() function\n",
    "a = [12,3,4,['a','d','e'],'bar','yes',3.5,34643,4847344648,4,5.34454]\n",
    "len(a)"
   ]
  },
  {
   "cell_type": "code",
   "execution_count": 55,
   "id": "1b637471-fb05-4a80-9f75-17a038a16fb1",
   "metadata": {},
   "outputs": [
    {
     "data": {
      "text/plain": [
       "1544975700784"
      ]
     },
     "execution_count": 55,
     "metadata": {},
     "output_type": "execute_result"
    }
   ],
   "source": [
    "# id() function\n",
    "a = 'yahya'\n",
    "id(a)"
   ]
  },
  {
   "cell_type": "code",
   "execution_count": 56,
   "id": "d674668a-5cc0-483f-9312-a394ba83c791",
   "metadata": {},
   "outputs": [],
   "source": [
    "# run the function without parameter and statements\n",
    "def y():\n",
    "    pass"
   ]
  },
  {
   "cell_type": "code",
   "execution_count": 57,
   "id": "e58dbe9c-fad5-4192-b4b8-fcd7a8ad167b",
   "metadata": {},
   "outputs": [],
   "source": [
    "def y():\n",
    "    k = '----inside in function f()'\n",
    "    print(k)"
   ]
  },
  {
   "cell_type": "code",
   "execution_count": 58,
   "id": "14da0bd8-d58f-436c-9e09-07acd66e0b0f",
   "metadata": {},
   "outputs": [
    {
     "name": "stdout",
     "output_type": "stream",
     "text": [
      "----inside in function f()\n"
     ]
    }
   ],
   "source": [
    "y()"
   ]
  },
  {
   "cell_type": "code",
   "execution_count": 59,
   "id": "6cf16956-b4a7-4ad6-8e1b-1e40eb186d57",
   "metadata": {},
   "outputs": [],
   "source": [
    "# positional arguments passing\n",
    "def p():\n",
    "    pass"
   ]
  },
  {
   "cell_type": "code",
   "execution_count": 60,
   "id": "732a04c1-2bb1-4298-9bd5-641d3259374b",
   "metadata": {},
   "outputs": [],
   "source": [
    "# positional arguments passing\n",
    "def p(quntity,item,price):\n",
    "    print(f\"{quntity} {item} cost = Rs {price:.3f}\")"
   ]
  },
  {
   "cell_type": "code",
   "execution_count": 61,
   "id": "6030a76b-ef9b-47fa-81af-eb0ba9530aad",
   "metadata": {},
   "outputs": [
    {
     "name": "stdout",
     "output_type": "stream",
     "text": [
      "10 Tomato cost = Rs 450.000\n"
     ]
    }
   ],
   "source": [
    "p(10,'Tomato',450.00000000)"
   ]
  },
  {
   "cell_type": "code",
   "execution_count": 62,
   "id": "7156f283-eaf5-4b69-adbe-8953b5e61d98",
   "metadata": {},
   "outputs": [],
   "source": [
    "# keyword arguments passing\n",
    "def k(quntity,item,price):\n",
    "    print(f\"{quntity} {item} cost = Rs {price:.3f}\")"
   ]
  },
  {
   "cell_type": "code",
   "execution_count": 63,
   "id": "28a49a61-bb97-493a-a5de-ecb453598c89",
   "metadata": {},
   "outputs": [
    {
     "name": "stdout",
     "output_type": "stream",
     "text": [
      "19 manogo cost = Rs 150.235\n"
     ]
    }
   ],
   "source": [
    "k(quntity = 19, item = 'manogo', price = 150.23455)"
   ]
  },
  {
   "cell_type": "code",
   "execution_count": 64,
   "id": "4fe4d6c6-68ce-4a2f-9081-d202e8f5da3a",
   "metadata": {},
   "outputs": [],
   "source": [
    "# default parameter passing\n",
    "def d(quntity = 5,item = 'banana',price =50):\n",
    "    print(f\"{quntity} {item} cost = Rs {price:.3f}\")"
   ]
  },
  {
   "cell_type": "code",
   "execution_count": 65,
   "id": "0cf878bf-ff04-4660-97a3-892776e173e0",
   "metadata": {},
   "outputs": [
    {
     "ename": "TypeError",
     "evalue": "k() missing 3 required positional arguments: 'quntity', 'item', and 'price'",
     "output_type": "error",
     "traceback": [
      "\u001b[1;31m---------------------------------------------------------------------------\u001b[0m",
      "\u001b[1;31mTypeError\u001b[0m                                 Traceback (most recent call last)",
      "Cell \u001b[1;32mIn[65], line 1\u001b[0m\n\u001b[1;32m----> 1\u001b[0m \u001b[43mk\u001b[49m\u001b[43m(\u001b[49m\u001b[43m)\u001b[49m\n",
      "\u001b[1;31mTypeError\u001b[0m: k() missing 3 required positional arguments: 'quntity', 'item', and 'price'"
     ]
    }
   ],
   "source": [
    "k()"
   ]
  },
  {
   "cell_type": "code",
   "execution_count": 66,
   "id": "42693258-bb74-46bf-bf0a-c97f759f0fcf",
   "metadata": {},
   "outputs": [
    {
     "name": "stdout",
     "output_type": "stream",
     "text": [
      "45 garllic cost = Rs 2000.234\n"
     ]
    }
   ],
   "source": [
    "k(45,'garllic', 2000.234058)"
   ]
  },
  {
   "cell_type": "code",
   "execution_count": 67,
   "id": "df718fa6-c867-45c0-ba56-7fe8060ce2b9",
   "metadata": {},
   "outputs": [
    {
     "name": "stdout",
     "output_type": "stream",
     "text": [
      "15 apple cost = Rs 3400.000\n"
     ]
    }
   ],
   "source": [
    "k(quntity = 15, item = 'apple', price = 3400)"
   ]
  },
  {
   "cell_type": "code",
   "execution_count": 68,
   "id": "ba781e5b-5079-4036-b307-f79101f2c7b0",
   "metadata": {},
   "outputs": [],
   "source": [
    "# mutalbe default parameters\n",
    "def lst(my_list=[]):\n",
    "    my_list.append('Yes')\n",
    "    return my_list"
   ]
  },
  {
   "cell_type": "code",
   "execution_count": 69,
   "id": "178bdeb0-e914-4a79-ab68-a9850ef5d646",
   "metadata": {},
   "outputs": [
    {
     "data": {
      "text/plain": [
       "['It', 'is', 'list', '->', 'Yes']"
      ]
     },
     "execution_count": 69,
     "metadata": {},
     "output_type": "execute_result"
    }
   ],
   "source": [
    "lst(['It', 'is', 'list','->'])"
   ]
  },
  {
   "cell_type": "code",
   "execution_count": 70,
   "id": "c8e1beea-073a-476e-a811-18c02bd0186d",
   "metadata": {},
   "outputs": [
    {
     "data": {
      "text/plain": [
       "[1, 2, 3, 4, 5, 6, 7, 'Yes']"
      ]
     },
     "execution_count": 70,
     "metadata": {},
     "output_type": "execute_result"
    }
   ],
   "source": [
    "lst([1,2,3,4,5,6,7])"
   ]
  },
  {
   "cell_type": "code",
   "execution_count": 71,
   "id": "e5c64ddb-4181-43bb-99db-18580774620a",
   "metadata": {},
   "outputs": [
    {
     "data": {
      "text/plain": [
       "['Yes']"
      ]
     },
     "execution_count": 71,
     "metadata": {},
     "output_type": "execute_result"
    }
   ],
   "source": [
    "lst()"
   ]
  },
  {
   "cell_type": "code",
   "execution_count": 72,
   "id": "774a987c-dcd0-41ce-a362-57c047158e5d",
   "metadata": {},
   "outputs": [
    {
     "data": {
      "text/plain": [
       "['Yes', 'Yes']"
      ]
     },
     "execution_count": 72,
     "metadata": {},
     "output_type": "execute_result"
    }
   ],
   "source": [
    "lst()"
   ]
  },
  {
   "cell_type": "code",
   "execution_count": 73,
   "id": "cc3f0ee7-4655-454c-8fcf-a3855723362a",
   "metadata": {},
   "outputs": [
    {
     "data": {
      "text/plain": [
       "['Yes', 'Yes', 'Yes']"
      ]
     },
     "execution_count": 73,
     "metadata": {},
     "output_type": "execute_result"
    }
   ],
   "source": [
    "lst()"
   ]
  },
  {
   "cell_type": "code",
   "execution_count": 74,
   "id": "d74634e8-4bf2-4d1f-86ae-8059a352243e",
   "metadata": {},
   "outputs": [],
   "source": [
    "def f(x):\n",
    "    x[0] = '----'\n",
    "    x[3] = 'yes'\n",
    "my_lsit = [1,2,3,4,5]\n",
    "f(my_lsit)"
   ]
  },
  {
   "cell_type": "code",
   "execution_count": 75,
   "id": "e181c0be-cf64-4802-a348-65d139fd2d96",
   "metadata": {},
   "outputs": [
    {
     "data": {
      "text/plain": [
       "['----', 2, 3, 'yes', 5]"
      ]
     },
     "execution_count": 75,
     "metadata": {},
     "output_type": "execute_result"
    }
   ],
   "source": [
    "my_lsit"
   ]
  },
  {
   "cell_type": "code",
   "execution_count": 76,
   "id": "8f988659-d941-4c7e-a9f0-1c097b32b2de",
   "metadata": {},
   "outputs": [],
   "source": [
    "def avg(*args):   # function in elegant form\n",
    "    return sum(args)/len(args)"
   ]
  },
  {
   "cell_type": "code",
   "execution_count": 77,
   "id": "5ccbb8cc-68f2-4d6a-9654-037b0f727d0b",
   "metadata": {},
   "outputs": [
    {
     "data": {
      "text/plain": [
       "3.5"
      ]
     },
     "execution_count": 77,
     "metadata": {},
     "output_type": "execute_result"
    }
   ],
   "source": [
    "avg(3,4)"
   ]
  },
  {
   "cell_type": "code",
   "execution_count": 78,
   "id": "a8817f4f-3635-4808-81fe-22bd3aa3bc00",
   "metadata": {},
   "outputs": [
    {
     "data": {
      "text/plain": [
       "15.0"
      ]
     },
     "execution_count": 78,
     "metadata": {},
     "output_type": "execute_result"
    }
   ],
   "source": [
    "avg(3,4,5,6,7,3,4,45,5,7,8,89,9)"
   ]
  },
  {
   "cell_type": "code",
   "execution_count": 79,
   "id": "871d2ee1-9c54-4bd5-9fc7-7bf7f4e66f28",
   "metadata": {},
   "outputs": [],
   "source": [
    "def avg(*args):    # function in detail and use of more code as compare to above \n",
    "    total = 0     # both are same but above one is best and less use of code\n",
    "    for a in args:\n",
    "        total += a\n",
    "    return total / len(args)\n",
    "        "
   ]
  },
  {
   "cell_type": "code",
   "execution_count": 80,
   "id": "6160dee7-8330-498c-af65-804a5d9e5025",
   "metadata": {},
   "outputs": [
    {
     "data": {
      "text/plain": [
       "4.0"
      ]
     },
     "execution_count": 80,
     "metadata": {},
     "output_type": "execute_result"
    }
   ],
   "source": [
    "avg(3,4,5)"
   ]
  },
  {
   "cell_type": "code",
   "execution_count": 81,
   "id": "252356a3-577d-4648-91e4-af37a6101642",
   "metadata": {},
   "outputs": [
    {
     "name": "stdout",
     "output_type": "stream",
     "text": [
      "a = 1 \n",
      "b = 2 \n",
      "c = 3 \n",
      "None\n",
      "a = xx \n",
      "b = yy \n",
      "c = zz \n",
      "None\n",
      "a = 123 \n",
      "b = 456 \n",
      "c = 789 \n",
      "None\n"
     ]
    }
   ],
   "source": [
    "def f(a,b,c):    \n",
    "    print(f\"a = {a} \")\n",
    "    print(f\"b = {b} \")\n",
    "    print(f\"c = {c} \")\n",
    "print(f(1,2,3))\n",
    "t = ['xx', 'yy', 'zz']\n",
    "print(f(*t))\n",
    "t1 = [123, 456, 789]\n",
    "print(f(*t1))"
   ]
  },
  {
   "cell_type": "code",
   "execution_count": 82,
   "id": "c969a840-1374-45de-b272-0487100cebcd",
   "metadata": {},
   "outputs": [
    {
     "name": "stdout",
     "output_type": "stream",
     "text": [
      "(1, 2, 3)\n",
      "None\n",
      "(('xx', 'yy', 'zz'),)\n",
      "None\n",
      "([123, 456, 789],)\n",
      "None\n"
     ]
    }
   ],
   "source": [
    "def f(*args):   # packing tuple\n",
    "    print(args)\n",
    "print(f(1,2,3))\n",
    "t = ('xx', 'yy', 'zz')\n",
    "print(f(t))\n",
    "t1 = [123, 456, 789]\n",
    "print(f(t1))"
   ]
  },
  {
   "cell_type": "code",
   "execution_count": 83,
   "id": "dbf78cbb-78c1-4bbc-a49f-e49d81d6b038",
   "metadata": {},
   "outputs": [
    {
     "name": "stdout",
     "output_type": "stream",
     "text": [
      "{'one': 1, 'two': 2}\n"
     ]
    }
   ],
   "source": [
    "def f(**kwargs):  # packing dictionary\n",
    "    return kwargs\n",
    "t = {'one': 1,'two': 2}\n",
    "print(f(**t))\n"
   ]
  },
  {
   "cell_type": "code",
   "execution_count": 84,
   "id": "52068134-89c6-41c4-809c-99d13e66b2c2",
   "metadata": {},
   "outputs": [
    {
     "name": "stdout",
     "output_type": "stream",
     "text": [
      "a = 1 \n",
      "b = 2 \n",
      "c = 3 \n",
      "None\n",
      "a = xx \n",
      "b = yy \n",
      "c = zz \n",
      "None\n",
      "a = 123 \n",
      "b = 456 \n",
      "c = 789 \n",
      "None\n"
     ]
    }
   ],
   "source": [
    "def f(a,b,c):  # unpacking tuple \n",
    "    print(f\"a = {a} \")\n",
    "    print(f\"b = {b} \")\n",
    "    print(f\"c = {c} \")\n",
    "print(f(1,2,3))\n",
    "t = ('xx', 'yy', 'zz')\n",
    "print(f(*t))\n",
    "t1 = [123, 456, 789]\n",
    "print(f(*t1))"
   ]
  },
  {
   "cell_type": "code",
   "execution_count": 85,
   "id": "02450a38-dfc3-46d1-bfef-bfd22beb31a6",
   "metadata": {},
   "outputs": [
    {
     "name": "stdout",
     "output_type": "stream",
     "text": [
      "a = 1 \n",
      "b = 2 \n",
      "c = 3 \n",
      "None\n"
     ]
    }
   ],
   "source": [
    "def f(a,b,c):  # unpacking dictionary\n",
    "    print(f\"a = {a} \")\n",
    "    print(f\"b = {b} \")\n",
    "    print(f\"c = {c} \")\n",
    "\n",
    "t = {'a': 1,'b': 2, 'c': 3}\n",
    "print(f(**t))\n"
   ]
  },
  {
   "cell_type": "code",
   "execution_count": 86,
   "id": "9079afc5-9e52-4b3a-9304-98b57e33bc95",
   "metadata": {},
   "outputs": [
    {
     "data": {
      "text/plain": [
       "12"
      ]
     },
     "execution_count": 86,
     "metadata": {},
     "output_type": "execute_result"
    }
   ],
   "source": [
    "def  h(x,y, z='+'):\n",
    "    if z == '+':\n",
    "        return x + y\n",
    "    elif z == '-':\n",
    "        return x - y\n",
    "    elif z == '/':\n",
    "        return x / y\n",
    "    else:\n",
    "        None\n",
    "h(4,8)"
   ]
  },
  {
   "cell_type": "code",
   "execution_count": 87,
   "id": "f1677c6d-bccf-4842-bb21-2dd85fd78cd5",
   "metadata": {},
   "outputs": [
    {
     "data": {
      "text/plain": [
       "-4"
      ]
     },
     "execution_count": 87,
     "metadata": {},
     "output_type": "execute_result"
    }
   ],
   "source": [
    "h(3,7, z='-')"
   ]
  },
  {
   "cell_type": "code",
   "execution_count": 88,
   "id": "d72105c5-dfa5-4ed1-9d8e-f025f93f4b4a",
   "metadata": {},
   "outputs": [
    {
     "data": {
      "text/plain": [
       "12"
      ]
     },
     "execution_count": 88,
     "metadata": {},
     "output_type": "execute_result"
    }
   ],
   "source": [
    "def  h(x,y, *ignore, z='+'):\n",
    "    if z == '+':\n",
    "        return x + y\n",
    "    elif z == '-':\n",
    "        return x - y\n",
    "    elif z == '/':\n",
    "        return x / y\n",
    "    else:\n",
    "        None\n",
    "h(4,8)"
   ]
  },
  {
   "cell_type": "code",
   "execution_count": 89,
   "id": "e34fb601-10ad-42c5-a7c8-68fa2e3ec36a",
   "metadata": {},
   "outputs": [
    {
     "data": {
      "text/plain": [
       "12"
      ]
     },
     "execution_count": 89,
     "metadata": {},
     "output_type": "execute_result"
    }
   ],
   "source": [
    "h(4,8, z='+')"
   ]
  },
  {
   "cell_type": "markdown",
   "id": "a777db15-9f08-4c09-96ea-47b58d29566b",
   "metadata": {},
   "source": [
    "# Lecture 03\n",
    "# python list and tuple "
   ]
  },
  {
   "cell_type": "code",
   "execution_count": 90,
   "id": "8abff16b-3f7a-495f-abe9-8434fb1c2431",
   "metadata": {},
   "outputs": [
    {
     "data": {
      "text/plain": [
       "[1, 2, 3, 'a', 'b', 'c']"
      ]
     },
     "execution_count": 90,
     "metadata": {},
     "output_type": "execute_result"
    }
   ],
   "source": [
    "My_list = [1,2,3,'a','b','c'] # one way\n",
    "My_list"
   ]
  },
  {
   "cell_type": "code",
   "execution_count": 91,
   "id": "f0015a99-80f0-45bd-9582-92fdd353d07e",
   "metadata": {},
   "outputs": [
    {
     "data": {
      "text/plain": [
       "(1, 2, 3, 'a', 'b', 'c')"
      ]
     },
     "execution_count": 91,
     "metadata": {},
     "output_type": "execute_result"
    }
   ],
   "source": [
    "My_tuple = (1,2,3,'a','b','c')  # one way\n",
    "My_tuple"
   ]
  },
  {
   "cell_type": "code",
   "execution_count": 92,
   "id": "2286ac17-4384-46e3-9c25-0b29f69416ca",
   "metadata": {},
   "outputs": [
    {
     "data": {
      "text/plain": [
       "list"
      ]
     },
     "execution_count": 92,
     "metadata": {},
     "output_type": "execute_result"
    }
   ],
   "source": [
    "type(My_list)"
   ]
  },
  {
   "cell_type": "code",
   "execution_count": 93,
   "id": "d22e06f9-8f78-4136-b012-885c5f5e8690",
   "metadata": {},
   "outputs": [
    {
     "data": {
      "text/plain": [
       "tuple"
      ]
     },
     "execution_count": 93,
     "metadata": {},
     "output_type": "execute_result"
    }
   ],
   "source": [
    "type(My_tuple)"
   ]
  },
  {
   "cell_type": "code",
   "execution_count": 94,
   "id": "b3c70f62-b001-4162-9305-8d2c779eb0d8",
   "metadata": {},
   "outputs": [
    {
     "data": {
      "text/plain": [
       "[0, 1, 2, 3, 4, 5, 6, 7, 8, 9]"
      ]
     },
     "execution_count": 94,
     "metadata": {},
     "output_type": "execute_result"
    }
   ],
   "source": [
    "lst = list(range(10))     # second way\n",
    "lst"
   ]
  },
  {
   "cell_type": "code",
   "execution_count": 95,
   "id": "ee32c57b-a915-4979-a946-b47a3f7e4cb3",
   "metadata": {},
   "outputs": [
    {
     "data": {
      "text/plain": [
       "(0, 1, 2, 3, 4, 5, 6, 7, 8, 9)"
      ]
     },
     "execution_count": 95,
     "metadata": {},
     "output_type": "execute_result"
    }
   ],
   "source": [
    "tuplee = tuple(range(10))      # second way\n",
    "tuplee"
   ]
  },
  {
   "cell_type": "code",
   "execution_count": 96,
   "id": "bba0876b-d2ee-4c9b-82db-1eb5fcec1c26",
   "metadata": {},
   "outputs": [
    {
     "data": {
      "text/plain": [
       "[2, 4, 6, 8, 10, 12, 14, 16, 18]"
      ]
     },
     "execution_count": 96,
     "metadata": {},
     "output_type": "execute_result"
    }
   ],
   "source": [
    "lst1 = list(a for a in range(1,20) if a % 2 == 0)\n",
    "lst1"
   ]
  },
  {
   "cell_type": "code",
   "execution_count": 97,
   "id": "0a711782-bb55-4cde-8abe-68e92973eb8e",
   "metadata": {},
   "outputs": [
    {
     "data": {
      "text/plain": [
       "(0, 2, 4, 6, 8, 10, 12, 14, 16, 18)"
      ]
     },
     "execution_count": 97,
     "metadata": {},
     "output_type": "execute_result"
    }
   ],
   "source": [
    "tpl = tuple(a for a in range(20) if a % 2 == 0)\n",
    "tpl"
   ]
  },
  {
   "cell_type": "code",
   "execution_count": 98,
   "id": "0527a2be-02b4-4b28-880c-9fb360b05924",
   "metadata": {},
   "outputs": [
    {
     "name": "stdout",
     "output_type": "stream",
     "text": [
      "<class 'list'>\n",
      "<class 'tuple'>\n"
     ]
    }
   ],
   "source": [
    "print(type(lst1))\n",
    "print(type(tpl))"
   ]
  },
  {
   "cell_type": "code",
   "execution_count": 99,
   "id": "142a6b5f-a5bd-43d0-8fc5-1166d891db95",
   "metadata": {},
   "outputs": [
    {
     "data": {
      "text/plain": [
       "10"
      ]
     },
     "execution_count": 99,
     "metadata": {},
     "output_type": "execute_result"
    }
   ],
   "source": [
    "len(tpl)"
   ]
  },
  {
   "cell_type": "code",
   "execution_count": 100,
   "id": "b99768fa-7fdb-4ca4-97fc-948f84204d28",
   "metadata": {},
   "outputs": [
    {
     "data": {
      "text/plain": [
       "9"
      ]
     },
     "execution_count": 100,
     "metadata": {},
     "output_type": "execute_result"
    }
   ],
   "source": [
    "len(lst1)"
   ]
  },
  {
   "cell_type": "code",
   "execution_count": 101,
   "id": "b605a35b-016b-4332-b417-9ebc503ba48c",
   "metadata": {},
   "outputs": [
    {
     "data": {
      "text/plain": [
       "6"
      ]
     },
     "execution_count": 101,
     "metadata": {},
     "output_type": "execute_result"
    }
   ],
   "source": [
    "len(My_list)"
   ]
  },
  {
   "cell_type": "code",
   "execution_count": 102,
   "id": "2ddd8a5a-1c51-4513-9939-9f6310896c22",
   "metadata": {},
   "outputs": [
    {
     "data": {
      "text/plain": [
       "'c'"
      ]
     },
     "execution_count": 102,
     "metadata": {},
     "output_type": "execute_result"
    }
   ],
   "source": [
    "lst2 = ['a', 'b',['c', 'd',['a',['e', 'f'] ,'b', 'c'], 'e', 'f', 'g'], 'c','d','e', 'f', 'g']\n",
    "lst2[3] # nested list and then slicing and indexing of the nested list"
   ]
  },
  {
   "cell_type": "code",
   "execution_count": 103,
   "id": "ec2bc048-96e1-4433-b93e-fb12ceccbad8",
   "metadata": {},
   "outputs": [
    {
     "data": {
      "text/plain": [
       "'e'"
      ]
     },
     "execution_count": 103,
     "metadata": {},
     "output_type": "execute_result"
    }
   ],
   "source": [
    "lst2[-3]"
   ]
  },
  {
   "cell_type": "code",
   "execution_count": 104,
   "id": "9820b240-8795-471b-9b51-aa43dca4b43f",
   "metadata": {},
   "outputs": [
    {
     "data": {
      "text/plain": [
       "'a'"
      ]
     },
     "execution_count": 104,
     "metadata": {},
     "output_type": "execute_result"
    }
   ],
   "source": [
    "lst2[0]"
   ]
  },
  {
   "cell_type": "code",
   "execution_count": 105,
   "id": "59839a34-f218-4d82-a674-65e6c10917e4",
   "metadata": {},
   "outputs": [
    {
     "data": {
      "text/plain": [
       "'c'"
      ]
     },
     "execution_count": 105,
     "metadata": {},
     "output_type": "execute_result"
    }
   ],
   "source": [
    "lst2[3]"
   ]
  },
  {
   "cell_type": "code",
   "execution_count": 106,
   "id": "216c8c92-25fb-42fe-a33b-eb6901f33cb5",
   "metadata": {},
   "outputs": [
    {
     "data": {
      "text/plain": [
       "['c', 'd', ['a', ['e', 'f'], 'b', 'c'], 'e', 'f', 'g']"
      ]
     },
     "execution_count": 106,
     "metadata": {},
     "output_type": "execute_result"
    }
   ],
   "source": [
    "lst2[2]"
   ]
  },
  {
   "cell_type": "code",
   "execution_count": 107,
   "id": "eca145de-9a8d-40d7-9618-2e3e36a29222",
   "metadata": {},
   "outputs": [
    {
     "data": {
      "text/plain": [
       "['a', ['e', 'f'], 'b', 'c']"
      ]
     },
     "execution_count": 107,
     "metadata": {},
     "output_type": "execute_result"
    }
   ],
   "source": [
    "lst2[2][2]"
   ]
  },
  {
   "cell_type": "code",
   "execution_count": 108,
   "id": "abef6ead-e948-4131-b824-8c74a165998a",
   "metadata": {},
   "outputs": [
    {
     "data": {
      "text/plain": [
       "['e', 'f']"
      ]
     },
     "execution_count": 108,
     "metadata": {},
     "output_type": "execute_result"
    }
   ],
   "source": [
    "lst2[2][2][1]"
   ]
  },
  {
   "cell_type": "code",
   "execution_count": 109,
   "id": "d0791078-e388-477c-b729-0a36c9190403",
   "metadata": {},
   "outputs": [
    {
     "data": {
      "text/plain": [
       "'e'"
      ]
     },
     "execution_count": 109,
     "metadata": {},
     "output_type": "execute_result"
    }
   ],
   "source": [
    "lst2[2][2][1][0]"
   ]
  },
  {
   "cell_type": "code",
   "execution_count": 110,
   "id": "728386cd-4f6a-4bff-8065-107b2bb5dc75",
   "metadata": {},
   "outputs": [
    {
     "data": {
      "text/plain": [
       "[['c', 'd', ['a', ['e', 'f'], 'b', 'c'], 'e', 'f', 'g'], 'c']"
      ]
     },
     "execution_count": 110,
     "metadata": {},
     "output_type": "execute_result"
    }
   ],
   "source": [
    "lst2[2:4]"
   ]
  },
  {
   "cell_type": "code",
   "execution_count": 111,
   "id": "5f14fda8-6881-4aeb-9ec7-f085bccb90be",
   "metadata": {},
   "outputs": [
    {
     "data": {
      "text/plain": [
       "['a', 'b', ['c', 'd', ['a', ['e', 'f'], 'b', 'c'], 'e', 'f', 'g']]"
      ]
     },
     "execution_count": 111,
     "metadata": {},
     "output_type": "execute_result"
    }
   ],
   "source": [
    "lst2[ :3]"
   ]
  },
  {
   "cell_type": "code",
   "execution_count": 112,
   "id": "e8dab94e-83dd-4004-ae91-7548b73436f6",
   "metadata": {},
   "outputs": [
    {
     "data": {
      "text/plain": [
       "['a', 'b', 'c', 'd']"
      ]
     },
     "execution_count": 112,
     "metadata": {},
     "output_type": "execute_result"
    }
   ],
   "source": [
    "lst2[0:2] + lst2[3:5]"
   ]
  },
  {
   "cell_type": "code",
   "execution_count": 113,
   "id": "13f5f73b-ad26-426c-a9d6-f81c2c497df8",
   "metadata": {},
   "outputs": [
    {
     "name": "stdout",
     "output_type": "stream",
     "text": [
      "['a', 'b', 'c']\n",
      "['y', 'b', 'c']\n"
     ]
    }
   ],
   "source": [
    "# list mutable\n",
    "# it can be a \"list\", \"Dictionary\", \"set\" (Mutable data can be change or modified easily)\n",
    "List = ['a', 'b', 'c']\n",
    "print(List) # simple list\n",
    "List[0]='y' # modified list\n",
    "print(List)"
   ]
  },
  {
   "cell_type": "code",
   "execution_count": 114,
   "id": "40fb32a3-0031-4f69-96cf-f6a9f4a9e35e",
   "metadata": {},
   "outputs": [
    {
     "name": "stdout",
     "output_type": "stream",
     "text": [
      "('x', 'y', 'z')\n"
     ]
    },
    {
     "ename": "TypeError",
     "evalue": "'tuple' object does not support item assignment",
     "output_type": "error",
     "traceback": [
      "\u001b[1;31m---------------------------------------------------------------------------\u001b[0m",
      "\u001b[1;31mTypeError\u001b[0m                                 Traceback (most recent call last)",
      "Cell \u001b[1;32mIn[114], line 5\u001b[0m\n\u001b[0;32m      3\u001b[0m Tuple \u001b[38;5;241m=\u001b[39m (\u001b[38;5;124m'\u001b[39m\u001b[38;5;124mx\u001b[39m\u001b[38;5;124m'\u001b[39m, \u001b[38;5;124m'\u001b[39m\u001b[38;5;124my\u001b[39m\u001b[38;5;124m'\u001b[39m, \u001b[38;5;124m'\u001b[39m\u001b[38;5;124mz\u001b[39m\u001b[38;5;124m'\u001b[39m) \u001b[38;5;66;03m# simple tuple\u001b[39;00m\n\u001b[0;32m      4\u001b[0m \u001b[38;5;28mprint\u001b[39m(Tuple)\n\u001b[1;32m----> 5\u001b[0m Tuple[\u001b[38;5;241m2\u001b[39m] \u001b[38;5;241m=\u001b[39m \u001b[38;5;124m'\u001b[39m\u001b[38;5;124mc\u001b[39m\u001b[38;5;124m'\u001b[39m  \u001b[38;5;66;03m# tuple to modified it, can show error\u001b[39;00m\n\u001b[0;32m      6\u001b[0m \u001b[38;5;28mprint\u001b[39m(Tuple)\n",
      "\u001b[1;31mTypeError\u001b[0m: 'tuple' object does not support item assignment"
     ]
    }
   ],
   "source": [
    "# Tuple ->\"Immutable\"\n",
    "# it can be \"tuple\", \"string\", \"forzen set\" and it cannot be modified\n",
    "Tuple = ('x', 'y', 'z') # simple tuple\n",
    "print(Tuple)\n",
    "Tuple[2] = 'c'  # tuple to modified it, can show error\n",
    "print(Tuple)"
   ]
  },
  {
   "cell_type": "code",
   "execution_count": 115,
   "id": "343d00b6-a869-40cf-bd6e-58bc766bc57f",
   "metadata": {},
   "outputs": [
    {
     "name": "stdout",
     "output_type": "stream",
     "text": [
      "(1, ['a', 'b', 'c'], 'Two')\n",
      "(1, ['a', 'b', 'z'], 'Two')   \"z\" is change\n"
     ]
    },
    {
     "ename": "TypeError",
     "evalue": "'tuple' object does not support item assignment",
     "output_type": "error",
     "traceback": [
      "\u001b[1;31m---------------------------------------------------------------------------\u001b[0m",
      "\u001b[1;31mTypeError\u001b[0m                                 Traceback (most recent call last)",
      "Cell \u001b[1;32mIn[115], line 8\u001b[0m\n\u001b[0;32m      5\u001b[0m Tuple_with_list[\u001b[38;5;241m1\u001b[39m][\u001b[38;5;241m2\u001b[39m] \u001b[38;5;241m=\u001b[39m \u001b[38;5;124m'\u001b[39m\u001b[38;5;124mz\u001b[39m\u001b[38;5;124m'\u001b[39m \u001b[38;5;66;03m# inside tuple, there is a list which is easily to modified \u001b[39;00m\n\u001b[0;32m      6\u001b[0m \u001b[38;5;28mprint\u001b[39m(Tuple_with_list, \u001b[38;5;124m'\u001b[39m\u001b[38;5;124m  \u001b[39m\u001b[38;5;124m\"\u001b[39m\u001b[38;5;124mz\u001b[39m\u001b[38;5;124m\"\u001b[39m\u001b[38;5;124m is change\u001b[39m\u001b[38;5;124m'\u001b[39m)  \n\u001b[1;32m----> 8\u001b[0m Tuple_with_list[\u001b[38;5;241m0\u001b[39m] \u001b[38;5;241m=\u001b[39m \u001b[38;5;241m2\u001b[39m \u001b[38;5;66;03m# first one is tuple element, so it show error\u001b[39;00m\n\u001b[0;32m      9\u001b[0m \u001b[38;5;28mprint\u001b[39m(Tuple_with_list)\n\u001b[0;32m     11\u001b[0m Tuple_with_list[\u001b[38;5;241m2\u001b[39m][\u001b[38;5;241m0\u001b[39m] \u001b[38;5;241m=\u001b[39m \u001b[38;5;124m'\u001b[39m\u001b[38;5;124mone\u001b[39m\u001b[38;5;124m'\u001b[39m \u001b[38;5;66;03m# it is also show an error becasue it is the element of the tuple\u001b[39;00m\n",
      "\u001b[1;31mTypeError\u001b[0m: 'tuple' object does not support item assignment"
     ]
    }
   ],
   "source": [
    "# Now a tuple and inside tuple ther is a list then what's happen to change in tuple and list let's see\n",
    "Tuple_with_list = (1, ['a', 'b', 'c'], 'Two') # (mean that a tuple is immutable and not to modified but inside the tuple there is a list which is easily modified)\n",
    "print(Tuple_with_list)\n",
    "\n",
    "Tuple_with_list[1][2] = 'z' # inside tuple, there is a list which is easily to modified \n",
    "print(Tuple_with_list, '  \"z\" is change')  \n",
    "\n",
    "Tuple_with_list[0] = 2 # first one is tuple element, so it show error\n",
    "print(Tuple_with_list)\n",
    "\n",
    "Tuple_with_list[2][0] = 'one' # it is also show an error becasue it is the element of the tuple\n",
    "print(Tuple_with_list)"
   ]
  },
  {
   "cell_type": "code",
   "execution_count": 116,
   "id": "882cfce6-292e-476e-a336-806bdb486c70",
   "metadata": {},
   "outputs": [
    {
     "name": "stdout",
     "output_type": "stream",
     "text": [
      "['a', 'b', 'c', ['d', 'e']]\n"
     ]
    }
   ],
   "source": [
    "# build-in function\n",
    "a = ['a', 'b', 'c']\n",
    "a.append(['d','e'])\n",
    "print(a)"
   ]
  },
  {
   "cell_type": "code",
   "execution_count": 117,
   "id": "43e4a4b7-4061-4056-a6b9-91ff4273be4c",
   "metadata": {},
   "outputs": [
    {
     "name": "stdout",
     "output_type": "stream",
     "text": [
      "['a', 'b', 'c', ['d', 'e'], 'f', 'g']\n"
     ]
    }
   ],
   "source": [
    "a.extend(['f','g'])\n",
    "print(a)"
   ]
  },
  {
   "cell_type": "code",
   "execution_count": 118,
   "id": "6c1f46a2-42fb-44c3-9e1d-4822b44773d2",
   "metadata": {},
   "outputs": [
    {
     "name": "stdout",
     "output_type": "stream",
     "text": [
      "['a', 'b', 'x', 'c', ['d', 'e'], 'f', 'g']\n"
     ]
    }
   ],
   "source": [
    "a.insert(2,'x')\n",
    "print(a)"
   ]
  },
  {
   "cell_type": "code",
   "execution_count": 119,
   "id": "3b10cfe1-db6c-411a-a08f-c50da5fb4538",
   "metadata": {},
   "outputs": [
    {
     "name": "stdout",
     "output_type": "stream",
     "text": [
      "['a', 'b', 'c', ['d', 'e'], 'f', 'g']\n"
     ]
    }
   ],
   "source": [
    "a.remove('x')\n",
    "print(a)"
   ]
  },
  {
   "cell_type": "code",
   "execution_count": 120,
   "id": "77af6643-d4d1-442c-ac3f-9d123a980595",
   "metadata": {},
   "outputs": [
    {
     "name": "stdout",
     "output_type": "stream",
     "text": [
      "['a', 'b', 'c', ['d', 'e'], 'f']\n",
      "['a', 'b', 'c', ['d', 'e']]\n"
     ]
    }
   ],
   "source": [
    "a.pop()\n",
    "print(a)\n",
    "a.pop()\n",
    "print(a)"
   ]
  },
  {
   "cell_type": "code",
   "execution_count": 121,
   "id": "9f259f9d-7368-4999-8dc3-0f9478c3904e",
   "metadata": {},
   "outputs": [
    {
     "name": "stdout",
     "output_type": "stream",
     "text": [
      "['a', 'b', ['d', 'e']]\n"
     ]
    }
   ],
   "source": [
    "a.pop(2)\n",
    "print(a)"
   ]
  },
  {
   "cell_type": "code",
   "execution_count": 122,
   "id": "72770c9d-b410-4c54-bda7-b1e3f090460e",
   "metadata": {},
   "outputs": [
    {
     "data": {
      "text/plain": [
       "True"
      ]
     },
     "execution_count": 122,
     "metadata": {},
     "output_type": "execute_result"
    }
   ],
   "source": [
    "'a' in a  # operator"
   ]
  },
  {
   "cell_type": "code",
   "execution_count": 123,
   "id": "bf69a967-4024-4bf6-bd69-1fb9a05e89ec",
   "metadata": {},
   "outputs": [
    {
     "data": {
      "text/plain": [
       "False"
      ]
     },
     "execution_count": 123,
     "metadata": {},
     "output_type": "execute_result"
    }
   ],
   "source": [
    "'h' in a  # operator"
   ]
  },
  {
   "cell_type": "code",
   "execution_count": 124,
   "id": "7ef5edcd-6029-439f-92c1-18e74602074a",
   "metadata": {},
   "outputs": [
    {
     "data": {
      "text/plain": [
       "True"
      ]
     },
     "execution_count": 124,
     "metadata": {},
     "output_type": "execute_result"
    }
   ],
   "source": [
    "'d' not in a   #operator"
   ]
  },
  {
   "cell_type": "code",
   "execution_count": 125,
   "id": "49ca4c57-428b-4fb3-b269-7056e45acab3",
   "metadata": {},
   "outputs": [
    {
     "data": {
      "text/plain": [
       "['a', 'b', ['d', 'e'], 'e', 'f', 'g']"
      ]
     },
     "execution_count": 125,
     "metadata": {},
     "output_type": "execute_result"
    }
   ],
   "source": [
    "a + ['e','f', 'g']"
   ]
  },
  {
   "cell_type": "code",
   "execution_count": 126,
   "id": "49b22bb9-e669-4c09-9f2d-b3c422b53a97",
   "metadata": {},
   "outputs": [
    {
     "data": {
      "text/plain": [
       "['a', 'b', ['d', 'e'], 'a', 'b', ['d', 'e']]"
      ]
     },
     "execution_count": 126,
     "metadata": {},
     "output_type": "execute_result"
    }
   ],
   "source": [
    "a * 2"
   ]
  },
  {
   "cell_type": "code",
   "execution_count": 127,
   "id": "1b1aa61d-85b6-4854-84a4-300429a325ee",
   "metadata": {},
   "outputs": [
    {
     "data": {
      "text/plain": [
       "['a', 'b', ['d', 'e'], 'a', 'b', ['d', 'e'], 'a', 'b', ['d', 'e']]"
      ]
     },
     "execution_count": 127,
     "metadata": {},
     "output_type": "execute_result"
    }
   ],
   "source": [
    "a *  3"
   ]
  },
  {
   "cell_type": "code",
   "execution_count": 128,
   "id": "5d6cc11e-c467-4826-aae9-f1a127b6e159",
   "metadata": {},
   "outputs": [
    {
     "data": {
      "text/plain": [
       "457"
      ]
     },
     "execution_count": 128,
     "metadata": {},
     "output_type": "execute_result"
    }
   ],
   "source": [
    "b = [12,3,32,56,23,45,23,11,457]\n",
    "max(b)"
   ]
  },
  {
   "cell_type": "code",
   "execution_count": 129,
   "id": "f42ee348-fea9-4c63-a14a-179d80c801b3",
   "metadata": {},
   "outputs": [
    {
     "data": {
      "text/plain": [
       "3"
      ]
     },
     "execution_count": 129,
     "metadata": {},
     "output_type": "execute_result"
    }
   ],
   "source": [
    "min(b)"
   ]
  },
  {
   "cell_type": "code",
   "execution_count": 130,
   "id": "1daa4069-5d02-4775-a2b0-f1045fa75793",
   "metadata": {},
   "outputs": [
    {
     "data": {
      "text/plain": [
       "9"
      ]
     },
     "execution_count": 130,
     "metadata": {},
     "output_type": "execute_result"
    }
   ],
   "source": [
    "len(b)"
   ]
  },
  {
   "cell_type": "code",
   "execution_count": 131,
   "id": "222d4447-5b79-40b5-8886-183f1bded111",
   "metadata": {},
   "outputs": [
    {
     "data": {
      "text/plain": [
       "662"
      ]
     },
     "execution_count": 131,
     "metadata": {},
     "output_type": "execute_result"
    }
   ],
   "source": [
    "sum(b)"
   ]
  },
  {
   "cell_type": "code",
   "execution_count": 132,
   "id": "e05a532c-5203-472f-b32e-e078282e0657",
   "metadata": {},
   "outputs": [
    {
     "data": {
      "text/plain": [
       "[1, 2, 3, 4, 5]"
      ]
     },
     "execution_count": 132,
     "metadata": {},
     "output_type": "execute_result"
    }
   ],
   "source": [
    "c = [1,2,3,4,5]   # list packing\n",
    "c"
   ]
  },
  {
   "cell_type": "code",
   "execution_count": 133,
   "id": "458f7f11-7a4d-4415-a17a-d883575acab7",
   "metadata": {},
   "outputs": [],
   "source": [
    "n1,n2,n3,n4,n5 = c    # list unpacking"
   ]
  },
  {
   "cell_type": "code",
   "execution_count": 134,
   "id": "1649bfd9-af01-407a-a99a-2e5be45a7091",
   "metadata": {},
   "outputs": [
    {
     "data": {
      "text/plain": [
       "1"
      ]
     },
     "execution_count": 134,
     "metadata": {},
     "output_type": "execute_result"
    }
   ],
   "source": [
    "n1"
   ]
  },
  {
   "cell_type": "code",
   "execution_count": 135,
   "id": "ff5b7909-c70d-4ee7-929f-49ca20f3ff3b",
   "metadata": {},
   "outputs": [
    {
     "data": {
      "text/plain": [
       "2"
      ]
     },
     "execution_count": 135,
     "metadata": {},
     "output_type": "execute_result"
    }
   ],
   "source": [
    "n2"
   ]
  },
  {
   "cell_type": "code",
   "execution_count": 136,
   "id": "a295d679-22bb-40db-a2e4-042341530126",
   "metadata": {},
   "outputs": [
    {
     "data": {
      "text/plain": [
       "3"
      ]
     },
     "execution_count": 136,
     "metadata": {},
     "output_type": "execute_result"
    }
   ],
   "source": [
    "n3"
   ]
  },
  {
   "cell_type": "code",
   "execution_count": 137,
   "id": "afdd94bd-3bfe-461c-b2b4-bf5c456057e4",
   "metadata": {},
   "outputs": [
    {
     "data": {
      "text/plain": [
       "4"
      ]
     },
     "execution_count": 137,
     "metadata": {},
     "output_type": "execute_result"
    }
   ],
   "source": [
    "n4"
   ]
  },
  {
   "cell_type": "code",
   "execution_count": 138,
   "id": "50f743ad-a623-4f86-bdda-a43a6ce40d41",
   "metadata": {},
   "outputs": [
    {
     "data": {
      "text/plain": [
       "5"
      ]
     },
     "execution_count": 138,
     "metadata": {},
     "output_type": "execute_result"
    }
   ],
   "source": [
    "n5"
   ]
  },
  {
   "cell_type": "code",
   "execution_count": 139,
   "id": "eb68701a-c86c-4286-8f6e-2a456b52782e",
   "metadata": {},
   "outputs": [
    {
     "name": "stdout",
     "output_type": "stream",
     "text": [
      "1 2 3 4 5\n"
     ]
    }
   ],
   "source": [
    "print(n1,n2,n3,n4,n5) "
   ]
  },
  {
   "cell_type": "code",
   "execution_count": 140,
   "id": "d8862148-d009-41fd-8bac-57df607f8152",
   "metadata": {},
   "outputs": [
    {
     "name": "stdout",
     "output_type": "stream",
     "text": [
      "1 2 3 4 5\n"
     ]
    }
   ],
   "source": [
    "c = (1,2,3,4,5)   # tuple packcing\n",
    "n1,n2,n3,n4,n5 = c  # tuple unpacking\n",
    "print(n1,n2,n3,n4,n5)"
   ]
  },
  {
   "cell_type": "markdown",
   "id": "1d2c1dd5-3516-45cb-9b77-f3dd434362d9",
   "metadata": {},
   "source": [
    "# lecture 04\n",
    "# Dictionary"
   ]
  },
  {
   "cell_type": "code",
   "execution_count": 159,
   "id": "e23223f7-b7f5-4a81-9672-6f6662ff7b17",
   "metadata": {},
   "outputs": [],
   "source": [
    "# first methode\n",
    "My_grp = {'person1': 'Yahya Ahmad', 'person2': 'Abbas Khan','person3': 'waqas Khan','person4': 'Noman Khan'}"
   ]
  },
  {
   "cell_type": "code",
   "execution_count": 160,
   "id": "4ae00ccf-7bcd-43ed-a11b-ec752bf2a93a",
   "metadata": {},
   "outputs": [
    {
     "data": {
      "text/plain": [
       "{'person1': 'Yahya Ahmad',\n",
       " 'person2': 'Abbas Khan',\n",
       " 'person3': 'waqas Khan',\n",
       " 'person4': 'Noman Khan'}"
      ]
     },
     "execution_count": 160,
     "metadata": {},
     "output_type": "execute_result"
    }
   ],
   "source": [
    "My_grp"
   ]
  },
  {
   "cell_type": "code",
   "execution_count": 161,
   "id": "e624f359-e2b3-41bc-9d28-9f50d64d3b1c",
   "metadata": {},
   "outputs": [],
   "source": [
    "# second methode\n",
    "My_grp1 = dict(person1= 'Yahya Ahmad', person2= 'Abbas Khan',person3= 'waqas Khan',person4= 'Noman Khan')"
   ]
  },
  {
   "cell_type": "code",
   "execution_count": 162,
   "id": "f062469d-bba2-44a9-8af8-63be7f176747",
   "metadata": {},
   "outputs": [
    {
     "data": {
      "text/plain": [
       "{'person1': 'Yahya Ahmad',\n",
       " 'person2': 'Abbas Khan',\n",
       " 'person3': 'waqas Khan',\n",
       " 'person4': 'Noman Khan'}"
      ]
     },
     "execution_count": 162,
     "metadata": {},
     "output_type": "execute_result"
    }
   ],
   "source": [
    "My_grp1"
   ]
  },
  {
   "cell_type": "code",
   "execution_count": 163,
   "id": "375e827d-a80a-43ff-9098-8a695703313c",
   "metadata": {},
   "outputs": [
    {
     "data": {
      "text/plain": [
       "dict"
      ]
     },
     "execution_count": 163,
     "metadata": {},
     "output_type": "execute_result"
    }
   ],
   "source": [
    "type(My_grp)"
   ]
  },
  {
   "cell_type": "code",
   "execution_count": 164,
   "id": "ce9d1d0c-3ccf-462d-bdb3-0534a5a43d76",
   "metadata": {},
   "outputs": [
    {
     "data": {
      "text/plain": [
       "dict"
      ]
     },
     "execution_count": 164,
     "metadata": {},
     "output_type": "execute_result"
    }
   ],
   "source": [
    "type(My_grp1)"
   ]
  },
  {
   "cell_type": "code",
   "execution_count": 165,
   "id": "7a139708-a7bf-4d62-a32c-89828a555f2b",
   "metadata": {},
   "outputs": [
    {
     "data": {
      "text/plain": [
       "'Abbas Khan'"
      ]
     },
     "execution_count": 165,
     "metadata": {},
     "output_type": "execute_result"
    }
   ],
   "source": [
    "# get value of the dictionary with the use of key \n",
    "My_grp1['person2']"
   ]
  },
  {
   "cell_type": "code",
   "execution_count": 166,
   "id": "7e2ee0f7-1cf0-4f36-ab80-64f71a1d9be6",
   "metadata": {},
   "outputs": [
    {
     "data": {
      "text/plain": [
       "'Yahya Ahmad'"
      ]
     },
     "execution_count": 166,
     "metadata": {},
     "output_type": "execute_result"
    }
   ],
   "source": [
    "My_grp['person1']"
   ]
  },
  {
   "cell_type": "code",
   "execution_count": 167,
   "id": "0f51f978-0686-495b-8c24-8a4025b72aa7",
   "metadata": {},
   "outputs": [
    {
     "data": {
      "text/plain": [
       "'Noman Khan'"
      ]
     },
     "execution_count": 167,
     "metadata": {},
     "output_type": "execute_result"
    }
   ],
   "source": [
    "My_grp['person4']"
   ]
  },
  {
   "cell_type": "code",
   "execution_count": 168,
   "id": "32bc1124-1da0-4aed-8e85-03e25df90708",
   "metadata": {},
   "outputs": [
    {
     "data": {
      "text/plain": [
       "'waqas Khan'"
      ]
     },
     "execution_count": 168,
     "metadata": {},
     "output_type": "execute_result"
    }
   ],
   "source": [
    "My_grp['person3']"
   ]
  },
  {
   "cell_type": "code",
   "execution_count": 169,
   "id": "97ac4579-d348-4984-b777-23426605108b",
   "metadata": {},
   "outputs": [
    {
     "data": {
      "text/plain": [
       "{'person1': 'Yahya Ahmad',\n",
       " 'person2': 'Abbas Khan',\n",
       " 'person3': 'waqas Khan',\n",
       " 'person4': 'Noman Khan',\n",
       " 'person5': 'Assadullah khan'}"
      ]
     },
     "execution_count": 169,
     "metadata": {},
     "output_type": "execute_result"
    }
   ],
   "source": [
    "# add an element to the dict using of key\n",
    "My_grp['person5'] = 'Assadullah khan'   # add in  frist grp\n",
    "My_grp"
   ]
  },
  {
   "cell_type": "code",
   "execution_count": 170,
   "id": "2fdcbc57-ec73-4510-a360-b03b6b7af687",
   "metadata": {},
   "outputs": [
    {
     "data": {
      "text/plain": [
       "{'person1': 'Yahya Ahmad',\n",
       " 'person2': 'Abbas Khan',\n",
       " 'person3': 'waqas Khan',\n",
       " 'person4': 'Noman Khan',\n",
       " 'person5': 'Assadullah khan'}"
      ]
     },
     "execution_count": 170,
     "metadata": {},
     "output_type": "execute_result"
    }
   ],
   "source": [
    "My_grp1['person5'] = 'Assadullah khan'   # add in second grp\n",
    "My_grp1"
   ]
  },
  {
   "cell_type": "code",
   "execution_count": 171,
   "id": "6c9ba090-385f-454c-848a-711ce07055b3",
   "metadata": {},
   "outputs": [
    {
     "data": {
      "text/plain": [
       "{'person1': 'Yahya Ahmad',\n",
       " 'person2': 'Abbas Khan',\n",
       " 'person4': 'Noman Khan',\n",
       " 'person5': 'Assadullah khan'}"
      ]
     },
     "execution_count": 171,
     "metadata": {},
     "output_type": "execute_result"
    }
   ],
   "source": [
    "# delete an element from the dictionary\n",
    "del My_grp['person3']\n",
    "My_grp"
   ]
  },
  {
   "cell_type": "code",
   "execution_count": 172,
   "id": "fc9bd477-2845-4842-b6f4-34a24f701b0f",
   "metadata": {},
   "outputs": [
    {
     "data": {
      "text/plain": [
       "True"
      ]
     },
     "execution_count": 172,
     "metadata": {},
     "output_type": "execute_result"
    }
   ],
   "source": [
    "# operator in dict\n",
    "'person1' in My_grp"
   ]
  },
  {
   "cell_type": "code",
   "execution_count": 173,
   "id": "cde08be7-176a-471f-b19c-357bd802cc28",
   "metadata": {},
   "outputs": [
    {
     "data": {
      "text/plain": [
       "False"
      ]
     },
     "execution_count": 173,
     "metadata": {},
     "output_type": "execute_result"
    }
   ],
   "source": [
    "'person6' in My_grp1"
   ]
  },
  {
   "cell_type": "code",
   "execution_count": 174,
   "id": "bc93d537-7815-422a-8e59-8c3271eefa63",
   "metadata": {},
   "outputs": [
    {
     "data": {
      "text/plain": [
       "True"
      ]
     },
     "execution_count": 174,
     "metadata": {},
     "output_type": "execute_result"
    }
   ],
   "source": [
    "'person10' not in My_grp"
   ]
  },
  {
   "cell_type": "code",
   "execution_count": 176,
   "id": "58af7a27-7099-4c59-8764-275469fd06de",
   "metadata": {},
   "outputs": [
    {
     "data": {
      "text/plain": [
       "4"
      ]
     },
     "execution_count": 176,
     "metadata": {},
     "output_type": "execute_result"
    }
   ],
   "source": [
    "# length of dictionary\n",
    "len(My_grp)  # first grp"
   ]
  },
  {
   "cell_type": "code",
   "execution_count": 177,
   "id": "843b5a71-c735-4616-aede-26c8f5f0b2f7",
   "metadata": {},
   "outputs": [
    {
     "data": {
      "text/plain": [
       "5"
      ]
     },
     "execution_count": 177,
     "metadata": {},
     "output_type": "execute_result"
    }
   ],
   "source": [
    "len(My_grp1)   # second grp"
   ]
  },
  {
   "cell_type": "code",
   "execution_count": 178,
   "id": "a1ec2629-e069-4a91-be6d-5ee8446c2a64",
   "metadata": {},
   "outputs": [
    {
     "data": {
      "text/plain": [
       "'Yahya Ahmad'"
      ]
     },
     "execution_count": 178,
     "metadata": {},
     "output_type": "execute_result"
    }
   ],
   "source": [
    "My_grp.get('person1')"
   ]
  },
  {
   "cell_type": "code",
   "execution_count": 179,
   "id": "fbe13940-6229-461c-982e-ca7fe57d2808",
   "metadata": {},
   "outputs": [
    {
     "data": {
      "text/plain": [
       "'Noman Khan'"
      ]
     },
     "execution_count": 179,
     "metadata": {},
     "output_type": "execute_result"
    }
   ],
   "source": [
    "My_grp1.get('person4')"
   ]
  },
  {
   "cell_type": "code",
   "execution_count": 181,
   "id": "440bebc4-069a-46cf-a290-f87105a48efd",
   "metadata": {},
   "outputs": [
    {
     "data": {
      "text/plain": [
       "dict_items([('person1', 'Yahya Ahmad'), ('person2', 'Abbas Khan'), ('person4', 'Noman Khan'), ('person5', 'Assadullah khan')])"
      ]
     },
     "execution_count": 181,
     "metadata": {},
     "output_type": "execute_result"
    }
   ],
   "source": [
    "My_grp.items()"
   ]
  },
  {
   "cell_type": "code",
   "execution_count": 182,
   "id": "639ba0dd-63c4-46cf-ace1-02eefd7b21b3",
   "metadata": {},
   "outputs": [
    {
     "data": {
      "text/plain": [
       "dict_items([('person1', 'Yahya Ahmad'), ('person2', 'Abbas Khan'), ('person3', 'waqas Khan'), ('person4', 'Noman Khan'), ('person5', 'Assadullah khan')])"
      ]
     },
     "execution_count": 182,
     "metadata": {},
     "output_type": "execute_result"
    }
   ],
   "source": [
    "My_grp1.items()"
   ]
  },
  {
   "cell_type": "code",
   "execution_count": 187,
   "id": "81bb9dd6-dc4c-4496-8faa-073cad9bb11c",
   "metadata": {},
   "outputs": [
    {
     "data": {
      "text/plain": [
       "['person1', 'person2', 'person4', 'person5']"
      ]
     },
     "execution_count": 187,
     "metadata": {},
     "output_type": "execute_result"
    }
   ],
   "source": [
    "list(My_grp.keys())"
   ]
  },
  {
   "cell_type": "code",
   "execution_count": 188,
   "id": "f926eba5-e059-40f1-932c-667a5fb6fd0d",
   "metadata": {},
   "outputs": [
    {
     "data": {
      "text/plain": [
       "('Yahya Ahmad', 'Abbas Khan', 'waqas Khan', 'Noman Khan', 'Assadullah khan')"
      ]
     },
     "execution_count": 188,
     "metadata": {},
     "output_type": "execute_result"
    }
   ],
   "source": [
    "tuple(My_grp1.values())"
   ]
  },
  {
   "cell_type": "code",
   "execution_count": 190,
   "id": "a3e40599-edee-4e21-8b1c-ed6396ef5f6c",
   "metadata": {},
   "outputs": [
    {
     "data": {
      "text/plain": [
       "'Assadullah khan'"
      ]
     },
     "execution_count": 190,
     "metadata": {},
     "output_type": "execute_result"
    }
   ],
   "source": [
    "My_grp1.pop('person5')"
   ]
  },
  {
   "cell_type": "code",
   "execution_count": 191,
   "id": "426f1235-8586-4fb5-a0bf-0029c85e0a46",
   "metadata": {},
   "outputs": [
    {
     "data": {
      "text/plain": [
       "{'person1': 'Yahya Ahmad',\n",
       " 'person2': 'Abbas Khan',\n",
       " 'person3': 'waqas Khan',\n",
       " 'person4': 'Noman Khan'}"
      ]
     },
     "execution_count": 191,
     "metadata": {},
     "output_type": "execute_result"
    }
   ],
   "source": [
    "My_grp1"
   ]
  },
  {
   "cell_type": "code",
   "execution_count": 193,
   "id": "0668036a-6178-4f42-ae19-c71ce2d3ec5d",
   "metadata": {},
   "outputs": [
    {
     "data": {
      "text/plain": [
       "('person5', 'Assadullah khan')"
      ]
     },
     "execution_count": 193,
     "metadata": {},
     "output_type": "execute_result"
    }
   ],
   "source": [
    "My_grp.popitem()"
   ]
  },
  {
   "cell_type": "code",
   "execution_count": 199,
   "id": "c88b683f-dc19-416b-8b66-d5be4a903650",
   "metadata": {},
   "outputs": [
    {
     "data": {
      "text/plain": [
       "{'person1': 'Yahya Ahmad',\n",
       " 'person2': 'Abbas Khan',\n",
       " 'person4': 'Noman Khan',\n",
       " 'person5': 'Assadullah khan'}"
      ]
     },
     "execution_count": 199,
     "metadata": {},
     "output_type": "execute_result"
    }
   ],
   "source": [
    "My_grp.update(person5 = 'Assadullah khan')\n",
    "My_grp"
   ]
  },
  {
   "cell_type": "code",
   "execution_count": 204,
   "id": "61e4670a-7296-403a-b5f0-d91822014f3a",
   "metadata": {},
   "outputs": [
    {
     "name": "stdout",
     "output_type": "stream",
     "text": [
      "{'person1': 'Yahya Ahmad',\n",
      " 'person2': 'Abbas Khan',\n",
      " 'person4': 'Noman Khan',\n",
      " 'person5': 'Assadullah khan'}\n",
      "\n",
      "{'person1': 'Yahya Ahmad',\n",
      " 'person2': 'Abbas Khan',\n",
      " 'person3': 'waqas Khan',\n",
      " 'person4': 'Noman Khan'}\n"
     ]
    }
   ],
   "source": [
    "from pprint import pprint\n",
    "pprint(My_grp)\n",
    "print()\n",
    "pprint(My_grp1)"
   ]
  },
  {
   "cell_type": "markdown",
   "id": "0a870235-193d-446f-af46-742fa5390ff6",
   "metadata": {},
   "source": [
    "# lecture 5\n",
    "# List and Dictionary comprehension"
   ]
  },
  {
   "cell_type": "code",
   "execution_count": 206,
   "id": "815c76b4-fdcb-4d06-af5f-a4e64b8e0081",
   "metadata": {},
   "outputs": [],
   "source": [
    "square = []    # simple list using of for loop\n",
    "for x in range(10):\n",
    "    square.append(x * x)"
   ]
  },
  {
   "cell_type": "code",
   "execution_count": 207,
   "id": "d9580a66-492e-40ad-b9db-699bd1ad3228",
   "metadata": {},
   "outputs": [
    {
     "data": {
      "text/plain": [
       "[0, 1, 4, 9, 16, 25, 36, 49, 64, 81]"
      ]
     },
     "execution_count": 207,
     "metadata": {},
     "output_type": "execute_result"
    }
   ],
   "source": [
    "square"
   ]
  },
  {
   "cell_type": "code",
   "execution_count": 208,
   "id": "08ccebaa-4022-4731-bdd5-0d7dd07b7acd",
   "metadata": {},
   "outputs": [],
   "source": [
    "square1 = [a * a for a in  range(10 )]   # now list comprehension"
   ]
  },
  {
   "cell_type": "code",
   "execution_count": 209,
   "id": "849f86e8-a383-46b7-b769-15217b3d35fb",
   "metadata": {},
   "outputs": [
    {
     "data": {
      "text/plain": [
       "[0, 1, 4, 9, 16, 25, 36, 49, 64, 81]"
      ]
     },
     "execution_count": 209,
     "metadata": {},
     "output_type": "execute_result"
    }
   ],
   "source": [
    "square"
   ]
  },
  {
   "cell_type": "code",
   "execution_count": 211,
   "id": "3dc1333d-3065-4999-8d05-c29144d230d1",
   "metadata": {},
   "outputs": [
    {
     "data": {
      "text/plain": [
       "[0, 4, 16, 36, 64, 100, 144, 196, 256, 324]"
      ]
     },
     "execution_count": 211,
     "metadata": {},
     "output_type": "execute_result"
    }
   ],
   "source": [
    "even_square = [b * b for b in range(20) if b % 2 == 0]\n",
    "even_square"
   ]
  },
  {
   "cell_type": "code",
   "execution_count": 214,
   "id": "8fa67813-11c2-4af0-b5d0-119c7be6fc1e",
   "metadata": {},
   "outputs": [
    {
     "data": {
      "text/plain": [
       "{10: 20,\n",
       " 11: 22,\n",
       " 12: 24,\n",
       " 13: 26,\n",
       " 14: 28,\n",
       " 15: 30,\n",
       " 16: 32,\n",
       " 17: 34,\n",
       " 18: 36,\n",
       " 19: 38}"
      ]
     },
     "execution_count": 214,
     "metadata": {},
     "output_type": "execute_result"
    }
   ],
   "source": [
    "dict1 = {c: c + c for c in range(10,20)}\n",
    "dict1"
   ]
  },
  {
   "cell_type": "code",
   "execution_count": 237,
   "id": "86200de4-eee4-4d37-9987-650d1e9fa0d6",
   "metadata": {},
   "outputs": [],
   "source": [
    "dict2 = {f: f * f for f in range(10)}"
   ]
  },
  {
   "cell_type": "code",
   "execution_count": 238,
   "id": "bef0d4e1-33a2-47fd-8d8a-bf74740d6cda",
   "metadata": {},
   "outputs": [
    {
     "data": {
      "text/plain": [
       "{0: 0, 1: 1, 2: 4, 3: 9, 4: 16, 5: 25, 6: 36, 7: 49, 8: 64, 9: 81}"
      ]
     },
     "execution_count": 238,
     "metadata": {},
     "output_type": "execute_result"
    }
   ],
   "source": [
    "dict2"
   ]
  },
  {
   "cell_type": "code",
   "execution_count": null,
   "id": "6b1f2708-7829-426c-93cd-52bdf5f6a757",
   "metadata": {},
   "outputs": [],
   "source": []
  }
 ],
 "metadata": {
  "kernelspec": {
   "display_name": "Python 3 (ipykernel)",
   "language": "python",
   "name": "python3"
  },
  "language_info": {
   "codemirror_mode": {
    "name": "ipython",
    "version": 3
   },
   "file_extension": ".py",
   "mimetype": "text/x-python",
   "name": "python",
   "nbconvert_exporter": "python",
   "pygments_lexer": "ipython3",
   "version": "3.9.20"
  }
 },
 "nbformat": 4,
 "nbformat_minor": 5
}
