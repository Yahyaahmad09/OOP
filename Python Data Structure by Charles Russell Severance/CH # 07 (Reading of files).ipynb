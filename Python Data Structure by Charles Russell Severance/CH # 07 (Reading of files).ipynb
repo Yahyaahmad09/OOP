{
 "cells": [
  {
   "cell_type": "code",
   "execution_count": 1,
   "id": "5a7171ef",
   "metadata": {},
   "outputs": [
    {
     "name": "stdout",
     "output_type": "stream",
     "text": [
      "i am yahya ahmad.\n",
      "i am from swabi.\n",
      "i am twenty.\n",
      "i belong to kotha.\n"
     ]
    }
   ],
   "source": [
    "# opening and reading the file open() & read();\n",
    "f = open('yahya ahmad.txt') # for writing a text file use 'w'.\n",
    "print(f.read())\n",
    " # for reading a file use 'r'.\n",
    "\n"
   ]
  },
  {
   "cell_type": "code",
   "execution_count": 18,
   "id": "6ef6cf01",
   "metadata": {},
   "outputs": [
    {
     "name": "stdout",
     "output_type": "stream",
     "text": [
      "i am \n",
      " Ali\n",
      "who are \n",
      " you\n"
     ]
    },
    {
     "data": {
      "text/plain": [
       "13"
      ]
     },
     "execution_count": 18,
     "metadata": {},
     "output_type": "execute_result"
    }
   ],
   "source": [
    "# newline character;  use (\\n) for newline. (break or end the line)\n",
    "ali = 'i am \\n Ali'\n",
    "print(ali)\n",
    "len(ali)\n",
    "\n",
    "Hi = 'who are \\n you'\n",
    "print(Hi)\n",
    "len(Hi)"
   ]
  },
  {
   "cell_type": "code",
   "execution_count": 12,
   "id": "48d9186c",
   "metadata": {},
   "outputs": [
    {
     "name": "stdout",
     "output_type": "stream",
     "text": [
      "66\n",
      " ahmad.\n",
      "i am fr\n"
     ]
    }
   ],
   "source": [
    "#  read whole file;\n",
    "get = open('yahya ahmad.txt')\n",
    "inp=get.read()\n",
    "print(len(inp))\n",
    "\n",
    "print(inp[10:25])"
   ]
  },
  {
   "cell_type": "code",
   "execution_count": 17,
   "id": "76c31adb",
   "metadata": {},
   "outputs": [
    {
     "name": "stdout",
     "output_type": "stream",
     "text": [
      "line;- 2\n",
      "line;- 3\n",
      "line;- 4\n",
      "line;- 5\n"
     ]
    }
   ],
   "source": [
    "# count lines;\n",
    "y = open('yahya ahmad.txt')\n",
    "count = 1\n",
    "for line in y:\n",
    "    count = count + 1\n",
    "    print('line;-',count)"
   ]
  },
  {
   "cell_type": "code",
   "execution_count": 20,
   "id": "56ed770c",
   "metadata": {},
   "outputs": [
    {
     "name": "stdout",
     "output_type": "stream",
     "text": [
      "I: am yahya.\n",
      "\n",
      "I: am tewnty.\n",
      "\n",
      "I: am from kotha. \n"
     ]
    }
   ],
   "source": [
    "# searching through file;\n",
    "e = open('yahya.txt')\n",
    "for line in e :\n",
    "    if line.startswith('I:') :\n",
    "          print(line)"
   ]
  },
  {
   "cell_type": "code",
   "execution_count": 25,
   "id": "e0758bee",
   "metadata": {},
   "outputs": [
    {
     "name": "stdout",
     "output_type": "stream",
     "text": [
      "96\n",
      " I:     am yahya ahmad.\n",
      "  I:    am from swabi.\n",
      "  I:       am twenty.\n",
      "  I:      belong to kotha.\n"
     ]
    }
   ],
   "source": [
    "# file handle as sequance;\n",
    "t = open('yahya ahmad.txt')\n",
    "inp = t.read()\n",
    "print(len(inp))\n",
    "print(inp[1:96])\n"
   ]
  },
  {
   "cell_type": "code",
   "execution_count": 19,
   "id": "6f7e70d0",
   "metadata": {},
   "outputs": [
    {
     "name": "stdout",
     "output_type": "stream",
     "text": [
      "I: am yahya.\n",
      "\n",
      "I: am going to uni.\n",
      "\n",
      "I: am tewnty.\n",
      "\n",
      "I: am from kotha. \n",
      "I: am yahya.\n",
      "I: am going to uni.\n",
      "I: am tewnty.\n",
      "I: am from kotha.\n"
     ]
    }
   ],
   "source": [
    "# searching through file (fixed);\n",
    "he = open('yahya.txt')\n",
    "for line in he :\n",
    "    line = line.lstrip()\n",
    "    if line.startswith('I:'):\n",
    "        print(line)\n",
    "        \n",
    "        \n",
    "he = open('yahya.txt')\n",
    "for line in he :\n",
    "    line = line.rstrip()\n",
    "    if line.startswith('I:'):\n",
    "        print(line)"
   ]
  },
  {
   "cell_type": "code",
   "execution_count": 18,
   "id": "2eddddd7",
   "metadata": {},
   "outputs": [
    {
     "name": "stdout",
     "output_type": "stream",
     "text": [
      "I: am yahya.\n",
      "I: am going to uni.\n",
      "I: am tewnty.\n",
      "I: am from kotha.\n"
     ]
    }
   ],
   "source": [
    "# skippig and continue;\n",
    "he = open('yahya.txt')       \n",
    "for line in he :\n",
    "    line = line.rstrip()\n",
    "    if not line.startswith('I:'):\n",
    "        continue\n",
    "    print(line)"
   ]
  },
  {
   "cell_type": "code",
   "execution_count": 29,
   "id": "15db977c",
   "metadata": {},
   "outputs": [
    {
     "name": "stdout",
     "output_type": "stream",
     "text": [
      "I: go to uni.\n",
      "I want to play cricket.\n"
     ]
    }
   ],
   "source": [
    "# using (in) to select a line or lines \n",
    "he = open('yahya.txt')       \n",
    "for line in he :\n",
    "    line = line.rstrip()\n",
    "    if not 'to' in line :\n",
    "        continue\n",
    "    print(line)"
   ]
  },
  {
   "cell_type": "code",
   "execution_count": 1,
   "id": "256e4192",
   "metadata": {},
   "outputs": [
    {
     "name": "stdout",
     "output_type": "stream",
     "text": [
      "Enter the name: yahya.txt\n",
      "there are 0 what line in yahya.txt\n",
      "there are 0 what line in yahya.txt\n",
      "there are 0 what line in yahya.txt\n",
      "there are 1 what line in yahya.txt\n",
      "there are 1 what line in yahya.txt\n",
      "there are 1 what line in yahya.txt\n",
      "there are 1 what line in yahya.txt\n",
      "there are 1 what line in yahya.txt\n"
     ]
    }
   ],
   "source": [
    "# prompt for file name;\n",
    "s = input('Enter the name: ')\n",
    "he = open(s)       \n",
    "count = 0\n",
    "for line in he:\n",
    "    if line.startswith('what'):\n",
    "         count = count + 1\n",
    "    print('there are' , count , 'what line in' , s)"
   ]
  },
  {
   "cell_type": "code",
   "execution_count": 2,
   "id": "36611319",
   "metadata": {},
   "outputs": [
    {
     "name": "stdout",
     "output_type": "stream",
     "text": [
      "Enter the name: yahyass\n",
      "file cannat be opened: \n"
     ]
    }
   ],
   "source": [
    "# bad file name;\n",
    "s = input('Enter the name: ')\n",
    "try:\n",
    "    he = open(s) \n",
    "except:\n",
    "    print('file cannat be opened: ')\n",
    "    quit()\n",
    "    \n",
    "count = 0\n",
    "for line in he:\n",
    "    if line.startswith('I'):\n",
    "         count = count + 1 \n",
    "    print('there are' , count , 'I line in' , s)"
   ]
  },
  {
   "cell_type": "code",
   "execution_count": null,
   "id": "7bbbcd79",
   "metadata": {},
   "outputs": [],
   "source": []
  }
 ],
 "metadata": {
  "kernelspec": {
   "display_name": "Python 3 (ipykernel)",
   "language": "python",
   "name": "python3"
  },
  "language_info": {
   "codemirror_mode": {
    "name": "ipython",
    "version": 3
   },
   "file_extension": ".py",
   "mimetype": "text/x-python",
   "name": "python",
   "nbconvert_exporter": "python",
   "pygments_lexer": "ipython3",
   "version": "3.11.5"
  }
 },
 "nbformat": 4,
 "nbformat_minor": 5
}
