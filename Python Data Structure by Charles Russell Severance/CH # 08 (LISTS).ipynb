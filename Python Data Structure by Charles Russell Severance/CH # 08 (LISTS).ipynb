{
 "cells": [
  {
   "cell_type": "code",
   "execution_count": null,
   "id": "e6e89991",
   "metadata": {},
   "outputs": [],
   "source": [
    "# not collection data means one value overwrite on another value like;\n",
    "x = 4\n",
    "x = 2\n",
    "print(x)"
   ]
  },
  {
   "cell_type": "code",
   "execution_count": 3,
   "id": "6dc39fab",
   "metadata": {},
   "outputs": [
    {
     "name": "stdout",
     "output_type": "stream",
     "text": [
      "[2, 3, 5, 8, 34, 567, 856]\n",
      "['green', 'red', 'tomato']\n",
      "[5, 2, 'Ali', [4, 7], []]\n"
     ]
    }
   ],
   "source": [
    "# list of constant;\n",
    "print([2,3,5,8,34,567,856])\n",
    "print(['green','red','tomato'])\n",
    "print([ 5, 2, 'Ali',[4,7],[]])\n"
   ]
  },
  {
   "cell_type": "code",
   "execution_count": 5,
   "id": "81920df6",
   "metadata": {},
   "outputs": [
    {
     "name": "stdout",
     "output_type": "stream",
     "text": [
      "4\n",
      "5\n",
      "7\n",
      "3\n",
      "4\n",
      "5\n"
     ]
    }
   ],
   "source": [
    "# LIST;\n",
    "for u in [4, 5, 7, 3, 4, 5,]:\n",
    "    print(u)"
   ]
  },
  {
   "cell_type": "code",
   "execution_count": 6,
   "id": "dda6b431",
   "metadata": {},
   "outputs": [
    {
     "name": "stdout",
     "output_type": "stream",
     "text": [
      "How are you Abbas\n",
      "How are you Idrees\n",
      "How are you Noman\n",
      "How are you Kashif\n"
     ]
    }
   ],
   "source": [
    "# list and definite loop;\n",
    "q = ['Abbas','Idrees','Noman','Kashif']\n",
    "for z in q:\n",
    "    print('How are you',z)"
   ]
  },
  {
   "cell_type": "code",
   "execution_count": 9,
   "id": "fdaa4c09",
   "metadata": {},
   "outputs": [
    {
     "name": "stdout",
     "output_type": "stream",
     "text": [
      "Noman\n",
      "Abbas\n",
      "Idrees\n"
     ]
    }
   ],
   "source": [
    "# LOOKING INSIDE THE LIST, using index specified;\n",
    "q = ['Abbas','Idrees','Noman','Kashif']\n",
    "print(q[2])\n",
    "print(q[0])\n",
    "print(q[1])"
   ]
  },
  {
   "cell_type": "code",
   "execution_count": 12,
   "id": "72325483",
   "metadata": {},
   "outputs": [
    {
     "name": "stdout",
     "output_type": "stream",
     "text": [
      "[2, 3, 5, 56]\n"
     ]
    }
   ],
   "source": [
    "# list are changable;\n",
    "q = [2,3,5,8]   # 8 change into 56;\n",
    "q[3] = 56\n",
    "print(q)"
   ]
  },
  {
   "cell_type": "code",
   "execution_count": 14,
   "id": "cbf09cf9",
   "metadata": {},
   "outputs": [
    {
     "name": "stdout",
     "output_type": "stream",
     "text": [
      "5\n"
     ]
    }
   ],
   "source": [
    "# Length of list;   (it show the number of elements in the list)\n",
    "b = [2,4,6,'ali',[]]\n",
    "print(len(b))"
   ]
  },
  {
   "cell_type": "code",
   "execution_count": 18,
   "id": "3a23b97c",
   "metadata": {},
   "outputs": [
    {
     "name": "stdout",
     "output_type": "stream",
     "text": [
      "range(0, 7)\n",
      "5\n",
      "range(0, 5)\n"
     ]
    }
   ],
   "source": [
    "# using range() function;\n",
    "print(range(7))\n",
    "d = ['ali','umar','green','red','tomato']\n",
    "print(len(d))\n",
    "print(range(len(d)))"
   ]
  },
  {
   "cell_type": "code",
   "execution_count": 19,
   "id": "1d6d6acc",
   "metadata": {},
   "outputs": [
    {
     "name": "stdout",
     "output_type": "stream",
     "text": [
      "[3, 5, 7, 4, 6, 8]\n"
     ]
    }
   ],
   "source": [
    "# adding of two list or concentrating of two list;\\\n",
    "a=[3,5,7]\n",
    "b=[4,6,8]\n",
    "c =a+b\n",
    "print(c)"
   ]
  },
  {
   "cell_type": "code",
   "execution_count": 22,
   "id": "993ed0da",
   "metadata": {},
   "outputs": [
    {
     "data": {
      "text/plain": [
       "[7, 3, 5, 74, 67, 33, 7776, 3, 3, 6, 9]"
      ]
     },
     "execution_count": 22,
     "metadata": {},
     "output_type": "execute_result"
    }
   ],
   "source": [
    "# list can be slcied;\n",
    "a = [2,3,56,7,3,5,74,67,33,7776,3,3,6,9]\n",
    "a[3: ]"
   ]
  },
  {
   "cell_type": "code",
   "execution_count": 23,
   "id": "b4db82d2",
   "metadata": {},
   "outputs": [
    {
     "data": {
      "text/plain": [
       "[2, 3, 56, 7, 3, 5, 74, 67]"
      ]
     },
     "execution_count": 23,
     "metadata": {},
     "output_type": "execute_result"
    }
   ],
   "source": [
    "# list can be slcied;\n",
    "a = [2,3,56,7,3,5,74,67,33,7776,3,3,6,9]\n",
    "a[ :8 ]"
   ]
  },
  {
   "cell_type": "code",
   "execution_count": 24,
   "id": "fbfb6c28",
   "metadata": {},
   "outputs": [
    {
     "data": {
      "text/plain": [
       "[3, 56, 7, 3]"
      ]
     },
     "execution_count": 24,
     "metadata": {},
     "output_type": "execute_result"
    }
   ],
   "source": [
    "# list can be slcied;\n",
    "a = [2,3,56,7,3,5,74,67,33,7776,3,3,6,9]\n",
    "a[1: 5]"
   ]
  },
  {
   "cell_type": "code",
   "execution_count": 26,
   "id": "3d77879c",
   "metadata": {},
   "outputs": [
    {
     "data": {
      "text/plain": [
       "[74, 67, 33, 7776, 3, 3, 6, 9]"
      ]
     },
     "execution_count": 26,
     "metadata": {},
     "output_type": "execute_result"
    }
   ],
   "source": [
    "# list can be slcied;\n",
    "a = [2,3,56,7,3,5,74,67,33,7776,3,3,6,9]\n",
    "a[6:14]"
   ]
  },
  {
   "cell_type": "code",
   "execution_count": 28,
   "id": "52d07fe6",
   "metadata": {},
   "outputs": [
    {
     "data": {
      "text/plain": [
       "['__add__',\n",
       " '__class__',\n",
       " '__class_getitem__',\n",
       " '__contains__',\n",
       " '__delattr__',\n",
       " '__delitem__',\n",
       " '__dir__',\n",
       " '__doc__',\n",
       " '__eq__',\n",
       " '__format__',\n",
       " '__ge__',\n",
       " '__getattribute__',\n",
       " '__getitem__',\n",
       " '__getstate__',\n",
       " '__gt__',\n",
       " '__hash__',\n",
       " '__iadd__',\n",
       " '__imul__',\n",
       " '__init__',\n",
       " '__init_subclass__',\n",
       " '__iter__',\n",
       " '__le__',\n",
       " '__len__',\n",
       " '__lt__',\n",
       " '__mul__',\n",
       " '__ne__',\n",
       " '__new__',\n",
       " '__reduce__',\n",
       " '__reduce_ex__',\n",
       " '__repr__',\n",
       " '__reversed__',\n",
       " '__rmul__',\n",
       " '__setattr__',\n",
       " '__setitem__',\n",
       " '__sizeof__',\n",
       " '__str__',\n",
       " '__subclasshook__',\n",
       " 'append',\n",
       " 'clear',\n",
       " 'copy',\n",
       " 'count',\n",
       " 'extend',\n",
       " 'index',\n",
       " 'insert',\n",
       " 'pop',\n",
       " 'remove',\n",
       " 'reverse',\n",
       " 'sort']"
      ]
     },
     "execution_count": 28,
     "metadata": {},
     "output_type": "execute_result"
    }
   ],
   "source": [
    "# list methode;\n",
    "x = list()\n",
    "type(x)    #-->  list\n",
    "dir(x)"
   ]
  },
  {
   "cell_type": "code",
   "execution_count": 7,
   "id": "03712dd8",
   "metadata": {},
   "outputs": [
    {
     "name": "stdout",
     "output_type": "stream",
     "text": [
      "[3, 'ali', 5, 'green', 366, 3.4]\n"
     ]
    }
   ],
   "source": [
    "# building a list from scratch;\n",
    "a = list()\n",
    "a.append (3)\n",
    "a.append ('ali')\n",
    "a.append (5)\n",
    "a.append ('green')\n",
    "a.append (366)\n",
    "a.append (3.4)\n",
    "print(a)"
   ]
  },
  {
   "cell_type": "code",
   "execution_count": 11,
   "id": "82ca2bb9",
   "metadata": {},
   "outputs": [
    {
     "data": {
      "text/plain": [
       "True"
      ]
     },
     "execution_count": 11,
     "metadata": {},
     "output_type": "execute_result"
    }
   ],
   "source": [
    "# is something  in  list;\n",
    "a = [0, 1, 2, 3, 4, 5, 6, 7, 8, 9, 10, 11, 12, 13, 14]\n",
    "3 in a"
   ]
  },
  {
   "cell_type": "code",
   "execution_count": 14,
   "id": "f977d13e",
   "metadata": {},
   "outputs": [
    {
     "data": {
      "text/plain": [
       "True"
      ]
     },
     "execution_count": 14,
     "metadata": {},
     "output_type": "execute_result"
    }
   ],
   "source": [
    "# is something  in  list;\n",
    "a = [0, 1, 2, 3, 4, 5, 6, 7, 8, 9, 10, 11, 12, 13, 14]\n",
    "13 in a"
   ]
  },
  {
   "cell_type": "code",
   "execution_count": 13,
   "id": "a31b913c",
   "metadata": {},
   "outputs": [
    {
     "data": {
      "text/plain": [
       "True"
      ]
     },
     "execution_count": 13,
     "metadata": {},
     "output_type": "execute_result"
    }
   ],
   "source": [
    "# is something  in  list;\n",
    "a = [0, 1, 2, 3, 4, 5, 6, 7, 8, 9, 10, 11, 12, 13, 14]\n",
    "20 not in a"
   ]
  },
  {
   "cell_type": "code",
   "execution_count": 12,
   "id": "2889ae4f",
   "metadata": {},
   "outputs": [
    {
     "data": {
      "text/plain": [
       "False"
      ]
     },
     "execution_count": 12,
     "metadata": {},
     "output_type": "execute_result"
    }
   ],
   "source": [
    "# is something  in  list;\n",
    "a = [0, 1, 2, 3, 4, 5, 6, 7, 8, 9, 10, 11, 12, 13, 14]\n",
    "10 not in a"
   ]
  },
  {
   "cell_type": "code",
   "execution_count": 16,
   "id": "4a0f4503",
   "metadata": {},
   "outputs": [
    {
     "name": "stdout",
     "output_type": "stream",
     "text": [
      "['ali', 'boy', 'kamran', 'umar', 'zain']\n"
     ]
    }
   ],
   "source": [
    "# list are in order;\n",
    "a = ['boy','umar','kamran','zain','ali']\n",
    "a.sort()\n",
    "print(a)"
   ]
  },
  {
   "cell_type": "code",
   "execution_count": 19,
   "id": "464e079d",
   "metadata": {},
   "outputs": [
    {
     "name": "stdout",
     "output_type": "stream",
     "text": [
      "7\n",
      "116\n",
      "50\n",
      "1\n"
     ]
    }
   ],
   "source": [
    "# Build in function in list;\n",
    "g = [1,2,4,9,20,30,50]\n",
    "print(len(g))\n",
    "print(sum(g))\n",
    "print(max(g))\n",
    "print(min(g))"
   ]
  },
  {
   "cell_type": "code",
   "execution_count": 25,
   "id": "5a2f2b25",
   "metadata": {},
   "outputs": [
    {
     "name": "stdout",
     "output_type": "stream",
     "text": [
      "Number:3\n",
      "Number:6\n",
      "Number:9\n",
      "Number:4\n",
      "Number:9\n",
      "Number:56\n",
      "Number:9\n",
      "Number:9\n",
      "Number:87\n",
      "Number:done\n",
      "Average 87.0\n"
     ]
    }
   ],
   "source": [
    "# Build in function in list;\n",
    "total = 0\n",
    "count = 0\n",
    "while True:\n",
    "    a = input('Number:')\n",
    "    if  a == 'done' : break\n",
    "    value = float(a)\n",
    "    v = total + value\n",
    "    c = count + 1\n",
    "average = v/c\n",
    "print('Average',average)"
   ]
  },
  {
   "cell_type": "code",
   "execution_count": 9,
   "id": "ba8f69b2",
   "metadata": {},
   "outputs": [
    {
     "name": "stdout",
     "output_type": "stream",
     "text": [
      "['what', 'are', 'you', 'doing', 'here']\n"
     ]
    }
   ],
   "source": [
    "# string and list;\n",
    "dd = 'what are you doing here'\n",
    "ff = dd.split()\n",
    "print(ff)"
   ]
  },
  {
   "cell_type": "code",
   "execution_count": 5,
   "id": "ae84afa1",
   "metadata": {},
   "outputs": [
    {
     "name": "stdout",
     "output_type": "stream",
     "text": [
      "what\n",
      "are\n",
      "you\n",
      "doing\n",
      "here\n"
     ]
    }
   ],
   "source": [
    "ss = ['what', 'are', 'you', 'doing', 'here']\n",
    "for r in ss:\n",
    "    print(r)"
   ]
  },
  {
   "cell_type": "code",
   "execution_count": 10,
   "id": "56b2a8c5",
   "metadata": {},
   "outputs": [
    {
     "name": "stdout",
     "output_type": "stream",
     "text": [
      "['how', 'are', 'you']\n"
     ]
    }
   ],
   "source": [
    "rr = 'how are          you'\n",
    "gg = rr.split()\n",
    "print(gg)\n"
   ]
  },
  {
   "cell_type": "code",
   "execution_count": null,
   "id": "bfbc9715",
   "metadata": {},
   "outputs": [],
   "source": []
  },
  {
   "cell_type": "code",
   "execution_count": 11,
   "id": "9b40c667",
   "metadata": {},
   "outputs": [
    {
     "name": "stdout",
     "output_type": "stream",
     "text": [
      "['what;are;your;name']\n"
     ]
    }
   ],
   "source": [
    "tt = 'what;are;your;name'\n",
    "yy = tt.split()\n",
    "print(yy) \n"
   ]
  },
  {
   "cell_type": "code",
   "execution_count": 13,
   "id": "21e089e9",
   "metadata": {},
   "outputs": [
    {
     "name": "stdout",
     "output_type": "stream",
     "text": [
      "['what', 'are', 'you', 'name']\n"
     ]
    }
   ],
   "source": [
    "ii = 'what;are;you;name'\n",
    "hh = ii.split(';')\n",
    "print(hh)"
   ]
  },
  {
   "cell_type": "code",
   "execution_count": 18,
   "id": "0ace8bcc",
   "metadata": {},
   "outputs": [
    {
     "name": "stdout",
     "output_type": "stream",
     "text": [
      "['Connent', 'switch', 'A', 'and', 'B', 'in', 'seris', 'ewith', 'battery', 'and', 'bulb.']\n"
     ]
    }
   ],
   "source": [
    "# double split;\n",
    "# first one;\n",
    "had = 'Connent switch A and B in seris ewith battery and bulb.'\n",
    "will = had.split()\n",
    "print(will)"
   ]
  },
  {
   "cell_type": "code",
   "execution_count": 3,
   "id": "253f8270",
   "metadata": {},
   "outputs": [
    {
     "name": "stdout",
     "output_type": "stream",
     "text": [
      "['A', 'B']\n"
     ]
    }
   ],
   "source": [
    "# Now take a piece and split it;\n",
    "had = 'Connent switch AandB in seris ewith battery and bulb.'\n",
    "will = had.split()\n",
    "dd = will[2]\n",
    "ff = dd.split('and')\n",
    "print(ff)"
   ]
  },
  {
   "cell_type": "code",
   "execution_count": null,
   "id": "c1a9554c",
   "metadata": {},
   "outputs": [],
   "source": []
  }
 ],
 "metadata": {
  "kernelspec": {
   "display_name": "Python 3 (ipykernel)",
   "language": "python",
   "name": "python3"
  },
  "language_info": {
   "codemirror_mode": {
    "name": "ipython",
    "version": 3
   },
   "file_extension": ".py",
   "mimetype": "text/x-python",
   "name": "python",
   "nbconvert_exporter": "python",
   "pygments_lexer": "ipython3",
   "version": "3.11.5"
  }
 },
 "nbformat": 4,
 "nbformat_minor": 5
}
