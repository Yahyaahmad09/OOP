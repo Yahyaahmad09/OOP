{
 "cells": [
  {
   "cell_type": "code",
   "execution_count": 1,
   "id": "5ad87fe9",
   "metadata": {},
   "outputs": [
    {
     "name": "stdout",
     "output_type": "stream",
     "text": [
      "{'hello': 34, 'Hi': 22, 'what': 78}\n"
     ]
    }
   ],
   "source": [
    "# simple dictionray;\n",
    "ss = dict()\n",
    "ss['hello'] = 34\n",
    "ss['Hi'] = 22\n",
    "ss['what'] = 78\n",
    "print(ss)"
   ]
  },
  {
   "cell_type": "code",
   "execution_count": 6,
   "id": "90a8e7d7",
   "metadata": {},
   "outputs": [
    {
     "name": "stdout",
     "output_type": "stream",
     "text": [
      "{'hello': 34, 'Hi': 27, 'what': 78}\n"
     ]
    }
   ],
   "source": [
    "# simple dictionray;\n",
    "ss = dict()\n",
    "ss['hello'] = 34\n",
    "ss['Hi'] = 22\n",
    "ss['what'] = 78\n",
    "ss['Hi'] = ss['Hi'] + 5\n",
    "print(ss)"
   ]
  },
  {
   "cell_type": "code",
   "execution_count": 11,
   "id": "c90fda08",
   "metadata": {},
   "outputs": [
    {
     "name": "stdout",
     "output_type": "stream",
     "text": [
      "78\n"
     ]
    }
   ],
   "source": [
    "# simple dictionray;\n",
    "ss = dict()\n",
    "ss['hello'] = 34\n",
    "ss['Hi'] = 22\n",
    "ss['what'] = 78\n",
    "print(ss['what'])\n"
   ]
  },
  {
   "cell_type": "code",
   "execution_count": 13,
   "id": "07a1ab35",
   "metadata": {},
   "outputs": [
    {
     "name": "stdout",
     "output_type": "stream",
     "text": [
      "['Number', 34, 78]\n"
     ]
    }
   ],
   "source": [
    "# comparing list and dict;\n",
    "# list:\n",
    "fff = list()\n",
    "fff.append('Number')\n",
    "fff.append(34)\n",
    "fff.append(78)\n",
    "print(fff)"
   ]
  },
  {
   "cell_type": "code",
   "execution_count": 14,
   "id": "b82073e2",
   "metadata": {},
   "outputs": [
    {
     "name": "stdout",
     "output_type": "stream",
     "text": [
      "['Number', 687, 78]\n"
     ]
    }
   ],
   "source": [
    "# comparing list and dict;\n",
    "# list:\n",
    "fff = list()\n",
    "fff.append('Number')\n",
    "fff.append(34)\n",
    "fff.append(78)\n",
    "fff[1] = 687\n",
    "print(fff)"
   ]
  },
  {
   "cell_type": "code",
   "execution_count": 15,
   "id": "d84e5d1d",
   "metadata": {},
   "outputs": [
    {
     "name": "stdout",
     "output_type": "stream",
     "text": [
      "{'why': 34, 'what': 98, 'where': 23}\n"
     ]
    }
   ],
   "source": [
    "# comparing list and dict;\n",
    "# dict:\n",
    "d = dict()\n",
    "d['why'] = 34\n",
    "d['what'] = 98\n",
    "d['where'] =23\n",
    "print(d)"
   ]
  },
  {
   "cell_type": "code",
   "execution_count": 16,
   "id": "5ccb8a2b",
   "metadata": {},
   "outputs": [
    {
     "name": "stdout",
     "output_type": "stream",
     "text": [
      "{'why': 34, 'what': 2049, 'where': 23}\n"
     ]
    }
   ],
   "source": [
    "# comparing list and dict;\n",
    "# dict:\n",
    "d = dict()\n",
    "d['why'] = 34\n",
    "d['what'] = 98\n",
    "d['where'] =23\n",
    "d['what'] = 2049\n",
    "print(d)"
   ]
  },
  {
   "cell_type": "code",
   "execution_count": 19,
   "id": "fd08463a",
   "metadata": {},
   "outputs": [
    {
     "name": "stdout",
     "output_type": "stream",
     "text": [
      "{'Hi': 64, 'Ali': 87}\n"
     ]
    }
   ],
   "source": [
    " # dict literals (constant)\n",
    "f = {'Hi':64,'Ali':87}\n",
    "print(f)"
   ]
  },
  {
   "cell_type": "code",
   "execution_count": 20,
   "id": "1f913ffd",
   "metadata": {},
   "outputs": [
    {
     "name": "stdout",
     "output_type": "stream",
     "text": [
      "{'is': 32, 'are': 94, 'am': 73}\n"
     ]
    }
   ],
   "source": [
    "# many counting  with a dict;\n",
    "p = dict()\n",
    "p['is'] = 32\n",
    "p['are'] = 94\n",
    "p['am'] = 73\n",
    "print(p)"
   ]
  },
  {
   "cell_type": "code",
   "execution_count": 21,
   "id": "766e2f99",
   "metadata": {},
   "outputs": [
    {
     "name": "stdout",
     "output_type": "stream",
     "text": [
      "{'is': 132, 'are': 94, 'am': 73}\n"
     ]
    }
   ],
   "source": [
    "# many counting  with a dict;\n",
    "p = dict()\n",
    "p['is'] = 32\n",
    "p['are'] = 94\n",
    "p['am'] = 73\n",
    "\n",
    "p['is'] = p['is'] +100\n",
    "print(p)"
   ]
  },
  {
   "cell_type": "code",
   "execution_count": 24,
   "id": "03f0e271",
   "metadata": {},
   "outputs": [
    {
     "data": {
      "text/plain": [
       "False"
      ]
     },
     "execution_count": 24,
     "metadata": {},
     "output_type": "execute_result"
    }
   ],
   "source": [
    "# dict use (in) to find is the given key is in the dict or not;\n",
    "p = dict()\n",
    "p['is'] = 32\n",
    "p['are'] = 94\n",
    "p['am'] = 73\n",
    "'am' in p  #True\n",
    "'you' in p"
   ]
  },
  {
   "cell_type": "code",
   "execution_count": 4,
   "id": "4b17f454",
   "metadata": {},
   "outputs": [
    {
     "name": "stdout",
     "output_type": "stream",
     "text": [
      "{'ali': 3, 'umar': 1, 'usman': 1, 'kamran': 2}\n"
     ]
    }
   ],
   "source": [
    "# A new name;\n",
    "a = dict()\n",
    "r = ['ali' ,'umar', 'usman','ali','kamran','ali','kamran']\n",
    "for s in r:\n",
    "    if s not in a:\n",
    "        a[s] = 1  \n",
    "    else:\n",
    "        a[s] = a[s] +1\n",
    "print(a)"
   ]
  },
  {
   "cell_type": "code",
   "execution_count": 7,
   "id": "ad15d08e",
   "metadata": {},
   "outputs": [
    {
     "name": "stdout",
     "output_type": "stream",
     "text": [
      "{'i': 1}\n"
     ]
    }
   ],
   "source": [
    "counts = dict() \n",
    "names = ['ali' ,'umar', 'usman','ali','kamran','ali']\n",
    "for name in name:\n",
    "    counts[name] = counts.get(name,0) +1\n",
    "print(counts)\n"
   ]
  },
  {
   "cell_type": "code",
   "execution_count": 9,
   "id": "3bc01176",
   "metadata": {},
   "outputs": [
    {
     "name": "stdout",
     "output_type": "stream",
     "text": [
      "Enter thr line:\n",
      " . The reason of applying for financial aid is that I belong to a family which is financially very weak and hardly completes its monthly expenses. We use only one salary which is very hard to complete our needs. I want this course and its certificate.\n",
      "words ['.', 'The', 'reason', 'of', 'applying', 'for', 'financial', 'aid', 'is', 'that', 'I', 'belong', 'to', 'a', 'family', 'which', 'is', 'financially', 'very', 'weak', 'and', 'hardly', 'completes', 'its', 'monthly', 'expenses.', 'We', 'use', 'only', 'one', 'salary', 'which', 'is', 'very', 'hard', 'to', 'complete', 'our', 'needs.', 'I', 'want', 'this', 'course', 'and', 'its', 'certificate.']\n",
      "counting...\n",
      "{'.': 1, 'The': 1, 'reason': 1, 'of': 1, 'applying': 1, 'for': 1, 'financial': 1, 'aid': 1, 'is': 3, 'that': 1, 'I': 2, 'belong': 1, 'to': 2, 'a': 1, 'family': 1, 'which': 2, 'financially': 1, 'very': 2, 'weak': 1, 'and': 2, 'hardly': 1, 'completes': 1, 'its': 2, 'monthly': 1, 'expenses.': 1, 'We': 1, 'use': 1, 'only': 1, 'one': 1, 'salary': 1, 'hard': 1, 'complete': 1, 'our': 1, 'needs.': 1, 'want': 1, 'this': 1, 'course': 1, 'certificate.': 1}\n"
     ]
    }
   ],
   "source": [
    "# counting pattren;\n",
    "count = dict()\n",
    "print('Enter thr line:')\n",
    "line = input(' ')\n",
    "words = line.split()\n",
    "print('words',words)\n",
    "print('counting...')\n",
    "for word in words:\n",
    "    counts[word] = counts.get(word,0) + 1\n",
    "print(counts)"
   ]
  },
  {
   "cell_type": "code",
   "execution_count": 18,
   "id": "eeeec97f",
   "metadata": {},
   "outputs": [
    {
     "name": "stdout",
     "output_type": "stream",
     "text": [
      "ali 23\n",
      "umar 65\n",
      "kamel 99\n"
     ]
    }
   ],
   "source": [
    "# Definite loop and dict;\n",
    "d = {'ali':23,'umar':65,'kamel':99}\n",
    "for n in d:\n",
    "    print(n,d[n])"
   ]
  },
  {
   "cell_type": "code",
   "execution_count": 19,
   "id": "95650d6b",
   "metadata": {},
   "outputs": [
    {
     "name": "stdout",
     "output_type": "stream",
     "text": [
      "['hi', 'hello', 'what', 'yes']\n",
      "dict_keys(['hi', 'hello', 'what', 'yes'])\n",
      "dict_values([3, 78, 87, 6])\n",
      "dict_items([('hi', 3), ('hello', 78), ('what', 87), ('yes', 6)])\n"
     ]
    }
   ],
   "source": [
    "# Retriving list of keys and values;\n",
    "l = {'hi':3,'hello':78,'what':87,'yes':6}\n",
    "print(list(l))\n",
    "print(l.keys())\n",
    "print(l.values())\n",
    "print(l.items())"
   ]
  },
  {
   "cell_type": "code",
   "execution_count": 5,
   "id": "1ad3852e",
   "metadata": {},
   "outputs": [
    {
     "name": "stdout",
     "output_type": "stream",
     "text": [
      "hi 34\n",
      "hello 6\n",
      "what 23\n",
      "yes 3454\n"
     ]
    }
   ],
   "source": [
    "# Bonus: two iteration variable;\n",
    "g = {'hi':34,'hello':6,'what':23,'yes':3454}\n",
    "for d,c in g.items():\n",
    "    print(d,c)"
   ]
  },
  {
   "cell_type": "code",
   "execution_count": 3,
   "id": "b4bba661",
   "metadata": {},
   "outputs": [
    {
     "name": "stdout",
     "output_type": "stream",
     "text": [
      "Enter file:yahya.txt\n",
      "{'I:': 4, 'am': 3, 'yahya.': 1, 'go': 1, 'to': 2, 'uni.': 1, 'where': 1, 'are': 2, 'you': 2, 'form.': 1, 'what': 1, 'doing': 1, 'tewnty.': 1, 'I': 1, 'want': 1, 'play': 1, 'cricket.': 1, 'from': 1, 'kotha.': 1, 'He': 1, 'is': 1, 'eating': 1, 'the': 1, 'meal.': 1}\n"
     ]
    }
   ],
   "source": [
    "f = input('Enter file:')\n",
    "h = open(f)\n",
    "d = dict()\n",
    "for line in h:\n",
    "    ws = line.split()\n",
    "    for w in ws:\n",
    "        d[w] = d.get(w,0) + 1\n",
    "print(d)"
   ]
  },
  {
   "cell_type": "code",
   "execution_count": 6,
   "id": "49cd1f14",
   "metadata": {},
   "outputs": [
    {
     "name": "stdout",
     "output_type": "stream",
     "text": [
      "Enter file:yahya.txt\n",
      "4 I:\n"
     ]
    }
   ],
   "source": [
    "name= input('Enter file:')\n",
    "handle = open(name)\n",
    "bigcount = None\n",
    "bigword = None\n",
    "for word,count in counts.items():\n",
    "    if bigcount is None or count > bigcount:\n",
    "        bigword = word\n",
    "        bigcount = count\n",
    "print(bigcount,bigword)"
   ]
  },
  {
   "cell_type": "code",
   "execution_count": null,
   "id": "4e9818fc",
   "metadata": {},
   "outputs": [],
   "source": []
  }
 ],
 "metadata": {
  "kernelspec": {
   "display_name": "Python 3 (ipykernel)",
   "language": "python",
   "name": "python3"
  },
  "language_info": {
   "codemirror_mode": {
    "name": "ipython",
    "version": 3
   },
   "file_extension": ".py",
   "mimetype": "text/x-python",
   "name": "python",
   "nbconvert_exporter": "python",
   "pygments_lexer": "ipython3",
   "version": "3.11.5"
  }
 },
 "nbformat": 4,
 "nbformat_minor": 5
}
