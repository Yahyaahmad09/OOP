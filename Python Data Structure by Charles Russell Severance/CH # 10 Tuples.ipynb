{
 "cells": [
  {
   "cell_type": "code",
   "execution_count": 1,
   "id": "bc16f4f2",
   "metadata": {},
   "outputs": [
    {
     "name": "stdout",
     "output_type": "stream",
     "text": [
      "hi\n"
     ]
    }
   ],
   "source": [
    "#  Tuples are like list;\n",
    "d = ('hi','hello')\n",
    "print(d[0])"
   ]
  },
  {
   "cell_type": "code",
   "execution_count": 2,
   "id": "f3dd3917",
   "metadata": {},
   "outputs": [
    {
     "name": "stdout",
     "output_type": "stream",
     "text": [
      "(3, 5, 7, 8)\n"
     ]
    }
   ],
   "source": [
    "#  Tuples are like list;\n",
    "g = (3,5,7,8)\n",
    "print(g)"
   ]
  },
  {
   "cell_type": "code",
   "execution_count": 7,
   "id": "cf50eaeb",
   "metadata": {},
   "outputs": [
    {
     "name": "stdout",
     "output_type": "stream",
     "text": [
      "12\n",
      "1\n",
      "4\n",
      "28\n"
     ]
    }
   ],
   "source": [
    "#  Tuples are like list;\n",
    "e = (1,6,9,12)\n",
    "print(max(e))\n",
    "print(min(e))\n",
    "print(len(e))\n",
    "print(sum(e))"
   ]
  },
  {
   "cell_type": "code",
   "execution_count": 18,
   "id": "07356549",
   "metadata": {},
   "outputs": [
    {
     "name": "stdout",
     "output_type": "stream",
     "text": [
      "[2, 5, 6, 7]\n",
      "[2, 9, 6, 7]\n"
     ]
    }
   ],
   "source": [
    "# tuples in not changable;\n",
    "s = [2,5,6,7] \n",
    "print(s)\n",
    "s[1] = 9    # list (mutable)\n",
    "print(s)\n"
   ]
  },
  {
   "cell_type": "code",
   "execution_count": 16,
   "id": "2e12a7c9",
   "metadata": {},
   "outputs": [
    {
     "ename": "TypeError",
     "evalue": "'tuple' object does not support item assignment",
     "output_type": "error",
     "traceback": [
      "\u001b[1;31m---------------------------------------------------------------------------\u001b[0m",
      "\u001b[1;31mTypeError\u001b[0m                                 Traceback (most recent call last)",
      "Cell \u001b[1;32mIn[16], line 3\u001b[0m\n\u001b[0;32m      1\u001b[0m \u001b[38;5;66;03m# tuples in not changable;\u001b[39;00m\n\u001b[0;32m      2\u001b[0m s \u001b[38;5;241m=\u001b[39m (\u001b[38;5;241m4\u001b[39m,\u001b[38;5;241m3\u001b[39m,\u001b[38;5;241m6\u001b[39m,\u001b[38;5;241m7\u001b[39m)\n\u001b[1;32m----> 3\u001b[0m s[\u001b[38;5;241m3\u001b[39m] \u001b[38;5;241m=\u001b[39m \u001b[38;5;241m88\u001b[39m\n\u001b[0;32m      4\u001b[0m \u001b[38;5;28mprint\u001b[39m(s)\n",
      "\u001b[1;31mTypeError\u001b[0m: 'tuple' object does not support item assignment"
     ]
    }
   ],
   "source": [
    "# tuples in not changable;\n",
    "s = (4,3,6,7)  # dict  (immutable)\n",
    "s[3] = 88\n",
    "print(s)"
   ]
  },
  {
   "cell_type": "code",
   "execution_count": 13,
   "id": "3df7e71e",
   "metadata": {},
   "outputs": [
    {
     "name": "stdout",
     "output_type": "stream",
     "text": [
      "4\n",
      "2\n",
      "3\n",
      "Hi\n",
      "3\n",
      "Hello\n"
     ]
    }
   ],
   "source": [
    "# Tuple use as an assignment;\n",
    "(x,y,z,a,b) = (2,3,4,'Hi','Hello')\n",
    "print(z)\n",
    "print(x)\n",
    "print(y)\n",
    "print(a)\n",
    "print(y)\n",
    "print(b)"
   ]
  },
  {
   "cell_type": "code",
   "execution_count": 23,
   "id": "6d87fd48",
   "metadata": {},
   "outputs": [
    {
     "name": "stdout",
     "output_type": "stream",
     "text": [
      "hi 34\n",
      "hello 8\n"
     ]
    }
   ],
   "source": [
    "# tuple and dict;\n",
    "s = dict()\n",
    "s['hi'] = 34\n",
    "s['hello'] = 8\n",
    "for (s,d) in s.items():\n",
    "    print(s,d)"
   ]
  },
  {
   "cell_type": "code",
   "execution_count": 24,
   "id": "d097c830",
   "metadata": {},
   "outputs": [
    {
     "name": "stdout",
     "output_type": "stream",
     "text": [
      "dict_items([('hi', 34), ('hello', 8)])\n"
     ]
    }
   ],
   "source": [
    "# tuple and dict;\n",
    "s = dict()\n",
    "s['hi'] = 34\n",
    "s['hello'] = 8\n",
    "t = s.items()\n",
    "print(t)"
   ]
  },
  {
   "cell_type": "code",
   "execution_count": 4,
   "id": "502953fe",
   "metadata": {},
   "outputs": [
    {
     "data": {
      "text/plain": [
       "True"
      ]
     },
     "execution_count": 4,
     "metadata": {},
     "output_type": "execute_result"
    }
   ],
   "source": [
    "# tuple compareble;\n",
    "(2,3,4)<(4,5,6)"
   ]
  },
  {
   "cell_type": "code",
   "execution_count": 2,
   "id": "ecc0dbf3",
   "metadata": {},
   "outputs": [
    {
     "data": {
      "text/plain": [
       "True"
      ]
     },
     "execution_count": 2,
     "metadata": {},
     "output_type": "execute_result"
    }
   ],
   "source": [
    "# tuple compareble;\n",
    "(3,0,9)<(5,2,1)"
   ]
  },
  {
   "cell_type": "code",
   "execution_count": 4,
   "id": "1baf7a28",
   "metadata": {},
   "outputs": [
    {
     "data": {
      "text/plain": [
       "False"
      ]
     },
     "execution_count": 4,
     "metadata": {},
     "output_type": "execute_result"
    }
   ],
   "source": [
    "# tuple compareble;\n",
    "(2,3,4)>(4,5,6)"
   ]
  },
  {
   "cell_type": "code",
   "execution_count": 32,
   "id": "75d127c1",
   "metadata": {},
   "outputs": [
    {
     "data": {
      "text/plain": [
       "[('a', 2), ('b', 23), ('c', 19)]"
      ]
     },
     "execution_count": 32,
     "metadata": {},
     "output_type": "execute_result"
    }
   ],
   "source": [
    "# sorting list of tuple;\n",
    "d ={'a':2, 'c':19, 'b':23}\n",
    "d.items()\n",
    "sorted(d.items())"
   ]
  },
  {
   "cell_type": "code",
   "execution_count": 36,
   "id": "a9c6fe91",
   "metadata": {},
   "outputs": [
    {
     "name": "stdout",
     "output_type": "stream",
     "text": [
      "[('a', 19), ('b', 23), ('c', 2)]\n",
      "a 19\n",
      "b 23\n",
      "c 2\n"
     ]
    }
   ],
   "source": [
    "# sorting list of tuple;  (direct methode)\n",
    "a = {'c':2, 'a':19, 'b':23}\n",
    "t = sorted(a.items())\n",
    "print(t)\n",
    "\n",
    "for (k,v) in sorted(a.items()):\n",
    "    print(k,v)"
   ]
  },
  {
   "cell_type": "code",
   "execution_count": 2,
   "id": "a0df099c",
   "metadata": {},
   "outputs": [
    {
     "name": "stdout",
     "output_type": "stream",
     "text": [
      "[(2, 'c'), (19, 'a'), (23, 'b')]\n",
      "[(23, 'b'), (19, 'a'), (2, 'c')]\n"
     ]
    }
   ],
   "source": [
    "# sort by values instead of key;\n",
    "c ={'c':2, 'a':19, 'b':23}\n",
    "tmp = list()\n",
    "for (k,v)  in c.items():\n",
    "    tmp.append( (v,k))\n",
    "print(tmp)\n",
    "\n",
    "tmp = sorted(tmp, reverse=True)\n",
    "print(tmp)"
   ]
  },
  {
   "cell_type": "code",
   "execution_count": 12,
   "id": "bd3ed381",
   "metadata": {},
   "outputs": [
    {
     "name": "stdout",
     "output_type": "stream",
     "text": [
      "4 I:\n",
      "3 am\n",
      "2 you\n",
      "2 to\n",
      "2 are\n",
      "1 yahya.\n",
      "1 where\n",
      "1 what\n",
      "1 want\n",
      "1 uni.\n"
     ]
    }
   ],
   "source": [
    "# sort by values instead of key;\n",
    "f = open('yahya.txt')\n",
    "g = dict()\n",
    "for line in f:\n",
    "    ws = line.split()\n",
    "    for w in  ws:\n",
    "        g[w] = g.get(w,0) + 1\n",
    "\n",
    "j = list()\n",
    "for (k,v) in g.items():\n",
    "    t = (v,k)\n",
    "    j.append(t)\n",
    "\n",
    "j= sorted(j, reverse=True)\n",
    "for (v,k) in j [:10] :\n",
    "    print(v,k)\n"
   ]
  },
  {
   "cell_type": "code",
   "execution_count": 19,
   "id": "ebe2fa7c",
   "metadata": {},
   "outputs": [
    {
     "name": "stdout",
     "output_type": "stream",
     "text": [
      "[(12, 'b'), (23, 'a'), (68, 'c')]\n"
     ]
    }
   ],
   "source": [
    "# for shoter version;\n",
    "c = {'a':23, 'c':68, 'b':12}\n",
    "print(sorted([(v,k) for  k,v in c.items()]))"
   ]
  },
  {
   "cell_type": "code",
   "execution_count": 2,
   "id": "631d4694",
   "metadata": {},
   "outputs": [
    {
     "name": "stdout",
     "output_type": "stream",
     "text": [
      "Enter file:yahya.txt\n",
      "{'I:': 4, 'am': 3, 'yahya.': 1, 'go': 1, 'to': 2, 'uni.': 1, 'where': 1, 'are': 2, 'you': 2, 'form.': 1, 'what': 1, 'doing': 1, 'tewnty.': 1, 'I': 1, 'want': 1, 'play': 1, 'cricket.': 1, 'from': 1, 'kotha.': 1, 'He': 1, 'is': 1, 'eating': 1, 'the': 1, 'meal.': 1}\n",
      "[('He', 1), ('I', 1), ('I:', 4), ('am', 3), ('are', 2), ('cricket.', 1), ('doing', 1), ('eating', 1), ('form.', 1), ('from', 1), ('go', 1), ('is', 1), ('kotha.', 1), ('meal.', 1), ('play', 1), ('tewnty.', 1), ('the', 1), ('to', 2), ('uni.', 1), ('want', 1), ('what', 1), ('where', 1), ('yahya.', 1), ('you', 2)]\n",
      "[('He', 1), ('I', 1), ('I:', 4), ('am', 3), ('are', 2)]\n",
      "[(1, 'He'), (1, 'I'), (1, 'cricket.'), (1, 'doing'), (1, 'eating')]\n"
     ]
    }
   ],
   "source": [
    "# some work on tuples;\n",
    "f = input('Enter file:')\n",
    "h = open(f)\n",
    "d = dict()   # list of dict\n",
    "for line in h:\n",
    "    ws = line.split()  # split all the line into words\n",
    "    for w in ws:\n",
    "        d[w] = d.get(w,0) + 1\n",
    "print(d)\n",
    "\n",
    "q = sorted(d.items())  # sorted tuples\n",
    "print(q)\n",
    "\n",
    "q = sorted(d.items()) # sorted top 5 word\n",
    "print(q[:5])\n",
    "\n",
    "q = sorted([(v,k) for k,v  in d.items()]) # use values instead of key of top 5 word\n",
    "print(q[:5])"
   ]
  },
  {
   "cell_type": "code",
   "execution_count": null,
   "id": "d831cb9d",
   "metadata": {},
   "outputs": [],
   "source": []
  }
 ],
 "metadata": {
  "kernelspec": {
   "display_name": "Python 3 (ipykernel)",
   "language": "python",
   "name": "python3"
  },
  "language_info": {
   "codemirror_mode": {
    "name": "ipython",
    "version": 3
   },
   "file_extension": ".py",
   "mimetype": "text/x-python",
   "name": "python",
   "nbconvert_exporter": "python",
   "pygments_lexer": "ipython3",
   "version": "3.11.5"
  }
 },
 "nbformat": 4,
 "nbformat_minor": 5
}
