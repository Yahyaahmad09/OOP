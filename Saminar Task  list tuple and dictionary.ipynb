{
 "cells": [
  {
   "cell_type": "markdown",
   "id": "1aae59f0-0600-4ad7-bfa9-6a227e394f96",
   "metadata": {},
   "source": [
    "# Name : Yahya Ahmad\n",
    "# Reg No : 23jzele0528\n",
    "# Saminar Task : Tuple, List and Dictionary"
   ]
  },
  {
   "cell_type": "markdown",
   "id": "5c201686-b939-430e-9290-2a8c79698083",
   "metadata": {},
   "source": [
    "# Task no 01"
   ]
  },
  {
   "cell_type": "code",
   "execution_count": 35,
   "id": "ebe11252-631a-4967-ab1f-974050487c85",
   "metadata": {},
   "outputs": [
    {
     "name": "stdout",
     "output_type": "stream",
     "text": [
      "['red', 'blue', 'green', 'yellow', 'purple']\n",
      "['red', 'blue', 'green', 'yellow', 'purple', 'brown']\n",
      "['red', 'blue', 'green', 'yellow', 'purple', 'brown', 'black']\n",
      "['red', 'blue', 'yellow', 'purple', 'brown', 'black']\n",
      "['black', 'blue', 'brown', 'purple', 'red', 'yellow']\n"
     ]
    }
   ],
   "source": [
    "# Create a list of 5 colors: ['red', 'blue', 'green', 'yellow', 'purple'].\n",
    "# Add two more colors at the end of the list.\n",
    "# Remove the color 'green' from the list.\n",
    "# Sort the list alphabetically.\n",
    "my_list = ['red', 'blue', 'green', 'yellow', 'purple']\n",
    "print(my_list)\n",
    "my_list.append('brown')\n",
    "print(my_list)\n",
    "my_list.append('black')\n",
    "print(my_list)\n",
    "my_list.pop(2)\n",
    "print(my_list)\n",
    "my_list.sort()\n",
    "print(my_list)"
   ]
  },
  {
   "cell_type": "markdown",
   "id": "53d3b688-ab97-4c94-8149-f22e4099e026",
   "metadata": {},
   "source": [
    "# Task no 02"
   ]
  },
  {
   "cell_type": "code",
   "execution_count": 34,
   "id": "2b803d31-d186-49cd-a4dd-14631758c864",
   "metadata": {},
   "outputs": [
    {
     "name": "stdout",
     "output_type": "stream",
     "text": [
      "[1, 2, 3, 4, 5, 6, 7, 8, 9, 10]\n",
      "[10, 9, 8, 7, 6, 5, 4, 3, 2, 1]\n",
      "55\n"
     ]
    }
   ],
   "source": [
    "# Create a list of numbers from 1 to 10.\n",
    "# Reverse the list.\n",
    "# Find the sum of all the numbers in the list\n",
    "mylist=[1,2,3,4,5,6,7,8,9,10]\n",
    "print(mylist)\n",
    "mylist.reverse()\n",
    "print(mylist)\n",
    "print(sum(mylist))"
   ]
  },
  {
   "cell_type": "markdown",
   "id": "84bdca36-a7b4-404d-b359-969e97420ce2",
   "metadata": {},
   "source": [
    "# Task No 03"
   ]
  },
  {
   "cell_type": "code",
   "execution_count": 33,
   "id": "3e6f53e9-a83e-4e0c-9e06-40e612db2c04",
   "metadata": {},
   "outputs": [
    {
     "name": "stdout",
     "output_type": "stream",
     "text": [
      "['apple', 'banana', 'charry']\n",
      "list2 that contain all the elements of list1  ['apple', 'banana', 'charry']\n"
     ]
    }
   ],
   "source": [
    "# Create a list list1 with three items: 'apple', 'banana', and 'cherry'.\n",
    "# Create a new list list2 that contains all the elements from list1 but without using append() or extend().\n",
    "list1 = ['apple', 'banana','charry']\n",
    "print(list1)\n",
    "list2 = list1\n",
    "print('list2 that contain all the elements of list1 ',list2)"
   ]
  },
  {
   "cell_type": "markdown",
   "id": "93d4d8d6-2148-4c2a-8feb-188c3ea632c4",
   "metadata": {},
   "source": [
    "# Task No 04"
   ]
  },
  {
   "cell_type": "code",
   "execution_count": 30,
   "id": "9aef7e03-07f2-4b32-aa4c-31cd1013a05b",
   "metadata": {},
   "outputs": [
    {
     "name": "stdout",
     "output_type": "stream",
     "text": [
      "[5, 10, 15, 20, 25]\n",
      "[5, 10, 15]\n",
      "[5, 10, 15, 100, 200]\n"
     ]
    }
   ],
   "source": [
    "# Create a list of numbers [5, 10, 15, 20, 25].\n",
    "# Use slicing to get the first 3 elements.\n",
    "# Replace the last two numbers with 100 and 200\n",
    "My_list = [5,10,15,20,25]\n",
    "print(My_list)\n",
    "print(My_list[:3])\n",
    "My_list[-2:] = [100,200]\n",
    "print(My_list)"
   ]
  },
  {
   "cell_type": "markdown",
   "id": "25f740c0-a3cf-42e5-a7ba-9c27ed8ee507",
   "metadata": {},
   "source": [
    "# Task No 05"
   ]
  },
  {
   "cell_type": "code",
   "execution_count": null,
   "id": "ed471d7e-1e3d-48f1-acb3-9a41bf07c5ff",
   "metadata": {},
   "outputs": [],
   "source": []
  },
  {
   "cell_type": "code",
   "execution_count": 29,
   "id": "08f4fb51-6ecd-4131-b065-b9843067f165",
   "metadata": {},
   "outputs": [
    {
     "name": "stdout",
     "output_type": "stream",
     "text": [
      "('dog', 'cat', 'rabbit', 'hamster')\n",
      "cat\n",
      "['dog', 'cat', 'rabbit', 'hamster']\n",
      "['dog', 'cat', 'rabbit', 'hamster', 'brid']\n",
      "('dog', 'cat', 'rabbit', 'hamster', 'brid')\n"
     ]
    }
   ],
   "source": [
    "# Create a tuple my_tuple = ('dog', 'cat', 'rabbit', 'hamster').\n",
    "# Access the second element in the tuple and print it.\n",
    "# Convert the tuple into a list, modify the list by adding 'bird', and convert it back into a tuple.\n",
    "My_tuple = ('dog','cat','rabbit','hamster')\n",
    "print(My_tuple)\n",
    "print(My_tuple[1])\n",
    "list1 = list(My_tuple)\n",
    "print(list1)\n",
    "list1.append('brid')\n",
    "print(list1)\n",
    "My_tuple=tuple(list1)\n",
    "print(My_tuple)"
   ]
  },
  {
   "cell_type": "markdown",
   "id": "fec7049e-501b-4600-ac56-e7cd19de7e92",
   "metadata": {},
   "source": [
    "# Task No 06"
   ]
  },
  {
   "cell_type": "code",
   "execution_count": 27,
   "id": "b589a048-211e-436f-8fce-4454e80b6add",
   "metadata": {},
   "outputs": [
    {
     "name": "stdout",
     "output_type": "stream",
     "text": [
      "(1, 2, 3)\n",
      "(4, 5, 6)\n",
      "(1, 2, 3, 4, 5, 6)\n",
      "6\n"
     ]
    }
   ],
   "source": [
    "# Create two tuples: t1 = (1, 2, 3) and t2 = (4, 5, 6).\n",
    "# Concatenate t1 and t2 to form a new tuple t3.\n",
    "# Find the length of t3.\n",
    "t1 = (1,2,3)\n",
    "print(t1)\n",
    "t2 = (4,5,6)\n",
    "print(t2)\n",
    "t3 = t1 + t2\n",
    "print(t3)\n",
    "print(len(t3))"
   ]
  },
  {
   "cell_type": "markdown",
   "id": "e512d560-bcac-4975-a7e0-d2328c806815",
   "metadata": {},
   "source": [
    "# Task No 07"
   ]
  },
  {
   "cell_type": "code",
   "execution_count": 26,
   "id": "30efce53-2f04-43df-9041-a2b50e36c11a",
   "metadata": {},
   "outputs": [
    {
     "name": "stdout",
     "output_type": "stream",
     "text": [
      "(5, 10, 5, 20, 5)\n",
      "3\n",
      "3\n"
     ]
    }
   ],
   "source": [
    "# Create a tuple with numbers: (5, 10, 5, 20, 5).\n",
    "# Count how many times the number 5 appears in the tuple.\n",
    "# Find the index of the number 20.\n",
    "My_tuple = (5,10,5,20,5)\n",
    "print(My_tuple)\n",
    "print(My_tuple.index(20))\n",
    "print(My_tuple.count(5))"
   ]
  },
  {
   "cell_type": "markdown",
   "id": "c31ccd8d-3a89-4b0a-9aac-1804888e4cbb",
   "metadata": {},
   "source": [
    "# Task No 08"
   ]
  },
  {
   "cell_type": "code",
   "execution_count": 25,
   "id": "9ed6ef92-40c8-4d20-ae21-7aa3105423bb",
   "metadata": {},
   "outputs": [
    {
     "name": "stdout",
     "output_type": "stream",
     "text": [
      "{'name': 'Yahya Ahmad', 'age': 21, 'city': 'Swabi'}\n",
      "{'name': 'Yahya Ahmad', 'age': 21, 'city': 'Swabi', 'job': 'engineer'}\n",
      "{'name': 'Yahya Ahmad', 'age': 22, 'city': 'Swabi', 'job': 'engineer'}\n",
      "Swabi\n"
     ]
    }
   ],
   "source": [
    "# Create a dictionary with the following key-value pairs: {\"name\": \"John\", \"age\": 25, \"city\": \"New York\"}.\n",
    "# Add a new key \"job\" with the value \"Engineer\".\n",
    "# Update the \"age\" key to 26.\n",
    "# Remove the \"city\" key\n",
    "My_dict = {\"name\": \"Yahya Ahmad\", \"age\": 21, \"city\": \"Swabi\"}\n",
    "print(My_dict)\n",
    "My_dict[\"job\"] = \"engineer\"\n",
    "print(My_dict)\n",
    "My_dict.update({'age': 22})\n",
    "print(My_dict)\n",
    "print(My_dict.pop('city'))"
   ]
  },
  {
   "cell_type": "markdown",
   "id": "73f7acfc-7720-4104-9b4d-0985e74b35d7",
   "metadata": {},
   "source": [
    "# Task No 09"
   ]
  },
  {
   "cell_type": "code",
   "execution_count": 18,
   "id": "47f77012-b67a-457c-8268-1f309273b32c",
   "metadata": {},
   "outputs": [
    {
     "ename": "SyntaxError",
     "evalue": "EOL while scanning string literal (2485899619.py, line 7)",
     "output_type": "error",
     "traceback": [
      "\u001b[1;36m  Cell \u001b[1;32mIn[18], line 7\u001b[1;36m\u001b[0m\n\u001b[1;33m    print('Ture)\u001b[0m\n\u001b[1;37m                ^\u001b[0m\n\u001b[1;31mSyntaxError\u001b[0m\u001b[1;31m:\u001b[0m EOL while scanning string literal\n"
     ]
    }
   ],
   "source": [
    "# Create a dictionary fruit_prices = {\"apple\": 100, \"banana\": 40, \"mango\": 120}.\n",
    "# Print the price of \"mango\".\n",
    "# Add \"orange\" to the dictionary with a price of 60.\n",
    "# Check if \"grapes\" is in the dictionary.\n",
    "fruit_price = {\"apple\": 100, \"banana\": 40, \"mango\": 120}\n",
    "print(fruit_price)\n",
    "print(fruit_price['mango'])\n",
    "fruit_price['orange'] = 60\n",
    "print(fruit_price)\n",
    "if 'graps' in fruit_price:\n",
    "    print('Ture)"
   ]
  },
  {
   "cell_type": "markdown",
   "id": "6a0e9dd5-eb67-468f-be2d-ef986fc8cac5",
   "metadata": {},
   "source": [
    "# Task No 10"
   ]
  },
  {
   "cell_type": "code",
   "execution_count": 5,
   "id": "7698cf40-8ea3-4fc8-bbd1-c3747612c634",
   "metadata": {},
   "outputs": [
    {
     "name": "stdout",
     "output_type": "stream",
     "text": [
      "{'Laptop': 75000, 'Phone': 45000, 'Tablet': 25000}\n",
      "{'Laptop': 75000, 'Phone': 45000, 'Tablet': 25000, 'Headphone': 20000}\n",
      "{'Laptop': 75000, 'Phone': 40000, 'Tablet': 25000, 'Headphone': 20000}\n",
      "{'Laptop': 75000, 'Phone': 40000, 'Headphone': 20000}\n",
      "3\n"
     ]
    }
   ],
   "source": [
    "# Create a dictionary where the keys are product names, and the values are their prices: {'Laptop': 75000, 'Phone': 45000,'Tablet': 25000}.\n",
    "# Add a new product, 'Headphones', with a price of 3000.\n",
    "# Update the price of 'Phone' to 40000.\n",
    "# Remove 'Tablet' from the dictionary.\n",
    "# Print the total number of products in the dictionary.\n",
    "\n",
    "dictt ={'Laptop': 75000, 'Phone': 45000,'Tablet': 25000}\n",
    "print(dictt)\n",
    "dictt['Headphone'] = 20000\n",
    "print(dictt)\n",
    "dictt.update({'Phone': 40000})\n",
    "print(dictt)\n",
    "dictt.pop('Tablet')\n",
    "print(dictt)\n",
    "print(len(dictt))"
   ]
  }
 ],
 "metadata": {
  "kernelspec": {
   "display_name": "Python 3 (ipykernel)",
   "language": "python",
   "name": "python3"
  },
  "language_info": {
   "codemirror_mode": {
    "name": "ipython",
    "version": 3
   },
   "file_extension": ".py",
   "mimetype": "text/x-python",
   "name": "python",
   "nbconvert_exporter": "python",
   "pygments_lexer": "ipython3",
   "version": "3.9.20"
  }
 },
 "nbformat": 4,
 "nbformat_minor": 5
}
