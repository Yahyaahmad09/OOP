{
 "cells": [
  {
   "cell_type": "code",
   "execution_count": 1,
   "id": "ffb0a6fd",
   "metadata": {},
   "outputs": [
    {
     "name": "stdout",
     "output_type": "stream",
     "text": [
      "before -1\n",
      "largest_so_far 32\n",
      "largest_so_far 54\n",
      "largest_so_far 12\n",
      "largest_so_far 90\n",
      "largest_so_far 67\n",
      "largest_so_far 80\n",
      "Afer 90\n"
     ]
    }
   ],
   "source": [
    "largest_so_far = -1\n",
    "print('before',largest_so_far)\n",
    "for num in [32, 54, 12, 90, 67, 80]:\n",
    "    if num > largest_so_far :\n",
    "        largest_so_far = num\n",
    "    print('largest_so_far',num)\n",
    "print('Afer',largest_so_far)\n"
   ]
  },
  {
   "cell_type": "code",
   "execution_count": 2,
   "id": "463d8283",
   "metadata": {},
   "outputs": [
    {
     "name": "stdout",
     "output_type": "stream",
     "text": [
      "before 0\n",
      "1 23\n",
      "2 45\n",
      "3 7\n",
      "4 12\n",
      "after 4\n"
     ]
    }
   ],
   "source": [
    "a = 0\n",
    "print('before',a)\n",
    "for b in [23, 45, 7, 12]:\n",
    "    a = a + 1\n",
    "    print(a,b)\n",
    "print('after',a)"
   ]
  },
  {
   "cell_type": "code",
   "execution_count": 3,
   "id": "57b9c70c",
   "metadata": {},
   "outputs": [
    {
     "name": "stdout",
     "output_type": "stream",
     "text": [
      "before 0\n",
      "9 9\n",
      "50 41\n",
      "62 12\n",
      "65 3\n",
      "after 65\n"
     ]
    }
   ],
   "source": [
    "c=0\n",
    "print('before',c)\n",
    "for thing in [9,41,12,3]:\n",
    "    c = c + thing\n",
    "    print(c,thing)\n",
    "print('after',c)"
   ]
  },
  {
   "cell_type": "code",
   "execution_count": 4,
   "id": "af897be5",
   "metadata": {},
   "outputs": [
    {
     "name": "stdout",
     "output_type": "stream",
     "text": [
      "before 0 0\n",
      "1 2 2\n",
      "2 5 3\n",
      "3 10 5\n",
      "4 16 6\n",
      "5 23 7\n",
      "after 23 5 7 4.6\n"
     ]
    }
   ],
   "source": [
    "count=0\n",
    "sum=0\n",
    "print('before',count,sum,)\n",
    "for d in [2,3,5,6,7]:\n",
    "    count=count+1\n",
    "    sum=sum+d\n",
    "    print(count,sum,d)\n",
    "print('after',sum,count,d,sum/count)"
   ]
  },
  {
   "cell_type": "code",
   "execution_count": 5,
   "id": "55e9f852",
   "metadata": {},
   "outputs": [
    {
     "name": "stdout",
     "output_type": "stream",
     "text": [
      "small number 2\n",
      "small number 3\n",
      "small number 5\n",
      "small number 6\n",
      "small number 8\n",
      "larg number 345\n",
      "larg number 54\n",
      "small number 21\n",
      "larg number 56\n",
      "larg number 768\n",
      "larg number 324\n"
     ]
    }
   ],
   "source": [
    "for a in [2,3,5,6,8,345,54,21,56,768,324]:\n",
    "    if a>50:\n",
    "        print('larg number',a)\n",
    "    elif a<50:\n",
    "        print('small number',a)"
   ]
  },
  {
   "cell_type": "code",
   "execution_count": 12,
   "id": "52d78c44",
   "metadata": {},
   "outputs": [
    {
     "name": "stdout",
     "output_type": "stream",
     "text": [
      "before False\n",
      "False 4\n",
      "False 2\n",
      "False 8\n",
      "True 3\n",
      "True 5\n",
      "after True\n"
     ]
    }
   ],
   "source": [
    " found=False\n",
    "print('before',found)\n",
    "for value in [4,2,8,3,5]:\n",
    "    if value == 3:\n",
    "        found=True\n",
    "    print(found,value)\n",
    "print('after',found)"
   ]
  },
  {
   "cell_type": "code",
   "execution_count": null,
   "id": "fd6be09c",
   "metadata": {},
   "outputs": [],
   "source": []
  },
  {
   "cell_type": "code",
   "execution_count": null,
   "id": "cc6371b7",
   "metadata": {},
   "outputs": [],
   "source": []
  },
  {
   "cell_type": "code",
   "execution_count": null,
   "id": "a1190e84",
   "metadata": {},
   "outputs": [],
   "source": []
  }
 ],
 "metadata": {
  "kernelspec": {
   "display_name": "Python 3 (ipykernel)",
   "language": "python",
   "name": "python3"
  },
  "language_info": {
   "codemirror_mode": {
    "name": "ipython",
    "version": 3
   },
   "file_extension": ".py",
   "mimetype": "text/x-python",
   "name": "python",
   "nbconvert_exporter": "python",
   "pygments_lexer": "ipython3",
   "version": "3.11.5"
  }
 },
 "nbformat": 4,
 "nbformat_minor": 5
}
