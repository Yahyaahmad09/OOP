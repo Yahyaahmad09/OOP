{
 "cells": [
  {
   "cell_type": "markdown",
   "id": "88bac811-e8c6-4716-918c-cb3552968d83",
   "metadata": {},
   "source": [
    "# Name : Yahya Ahmad\n",
    "# Reg No : 23jzele0528\n",
    "# Saminar Task : Loops"
   ]
  },
  {
   "cell_type": "markdown",
   "id": "7e64f0ab-47e6-4dcf-b717-dafdd6ae4a3b",
   "metadata": {},
   "source": [
    "# Task No 01"
   ]
  },
  {
   "cell_type": "code",
   "execution_count": 1,
   "id": "da06ec2f-3bbe-4fbb-bbae-387c1e4d2041",
   "metadata": {},
   "outputs": [
    {
     "name": "stdout",
     "output_type": "stream",
     "text": [
      "0\n",
      "1\n",
      "2\n",
      "3\n",
      "4\n",
      "5\n",
      "6\n",
      "7\n",
      "8\n",
      "9\n"
     ]
    }
   ],
   "source": [
    "# Print numbers from 1 to 10 using a for loop.\n",
    "for i in range(10):\n",
    "    print(i)"
   ]
  },
  {
   "cell_type": "markdown",
   "id": "1699c7ee-d70c-4787-bf67-bfd27adcd6c8",
   "metadata": {},
   "source": [
    "# Task No 02"
   ]
  },
  {
   "cell_type": "code",
   "execution_count": 5,
   "id": "a25b60e9-a4e6-42e6-b34b-72b6dba05187",
   "metadata": {},
   "outputs": [
    {
     "name": "stdout",
     "output_type": "stream",
     "text": [
      "3 * 1 = 3\n",
      "3 * 2 = 6\n",
      "3 * 3 = 9\n",
      "3 * 4 = 12\n",
      "3 * 5 = 15\n",
      "3 * 6 = 18\n",
      "3 * 7 = 21\n",
      "3 * 8 = 24\n",
      "3 * 9 = 27\n",
      "3 * 10 = 30\n"
     ]
    }
   ],
   "source": [
    "# Print a multiplication table for a given number (3) using a for loop.\n",
    "num = 3\n",
    "for i in range(1,11):\n",
    "    table_3 = num * i\n",
    "    print(f\"{num} * {i} = {table_3}\")"
   ]
  },
  {
   "cell_type": "markdown",
   "id": "edd14687-d948-49ca-8ee1-66061825670e",
   "metadata": {},
   "source": [
    "# Task No 03"
   ]
  },
  {
   "cell_type": "code",
   "execution_count": 1,
   "id": "cc8a410c-ce96-41e5-9315-38fcf17705e1",
   "metadata": {},
   "outputs": [
    {
     "data": {
      "text/plain": [
       "10"
      ]
     },
     "execution_count": 1,
     "metadata": {},
     "output_type": "execute_result"
    }
   ],
   "source": [
    "# Create a function to add two numbers.\n",
    "def addition(a,b):\n",
    "    return a+b\n",
    "addition(4,6)"
   ]
  },
  {
   "cell_type": "markdown",
   "id": "8a412133-6992-4a31-b5d6-6b0813b2ddd7",
   "metadata": {},
   "source": [
    "# Task No 04"
   ]
  },
  {
   "cell_type": "code",
   "execution_count": 2,
   "id": "562dcd9b-9c7f-419c-8b0d-6f262e3b7058",
   "metadata": {},
   "outputs": [
    {
     "data": {
      "text/plain": [
       "64"
      ]
     },
     "execution_count": 2,
     "metadata": {},
     "output_type": "execute_result"
    }
   ],
   "source": [
    "# Use a lambda function to find the square of a number.\n",
    "square = lambda x: x**2\n",
    "square(8)"
   ]
  },
  {
   "cell_type": "markdown",
   "id": "ef4aa14b-8803-4289-b631-6dbf8709441d",
   "metadata": {},
   "source": [
    "# Task No 05"
   ]
  },
  {
   "cell_type": "code",
   "execution_count": 4,
   "id": "57cfb873-1bc7-4cfd-adb4-6ae39fd1aae7",
   "metadata": {},
   "outputs": [
    {
     "name": "stdout",
     "output_type": "stream",
     "text": [
      "I am Yahya Ahmad.\n"
     ]
    }
   ],
   "source": [
    "# Use f-strings to insert a variable in a sentence.\n",
    "name = \"Yahya Ahmad\"\n",
    "f_string = f'I am {name}.'\n",
    "print(f_string)"
   ]
  },
  {
   "cell_type": "code",
   "execution_count": null,
   "id": "562ceb2f-429f-4cf3-8e2c-37be2e1cd948",
   "metadata": {},
   "outputs": [],
   "source": []
  }
 ],
 "metadata": {
  "kernelspec": {
   "display_name": "Python 3 (ipykernel)",
   "language": "python",
   "name": "python3"
  },
  "language_info": {
   "codemirror_mode": {
    "name": "ipython",
    "version": 3
   },
   "file_extension": ".py",
   "mimetype": "text/x-python",
   "name": "python",
   "nbconvert_exporter": "python",
   "pygments_lexer": "ipython3",
   "version": "3.9.20"
  }
 },
 "nbformat": 4,
 "nbformat_minor": 5
}
